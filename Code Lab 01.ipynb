{
 "cells": [
  {
   "cell_type": "markdown",
   "metadata": {},
   "source": [
    "# <center> <img src=\"img/ITESOLogo.png\" alt=\"ITESO\" width=\"480\" height=\"130\"> </center>\n",
    "# <center> **Departamento de Electrónica, Sistemas e Informática** </center>\n",
    "---\n",
    "## <center> **Carrera: <Ing. Sistemas Computacionales>** </center>\n",
    "---\n",
    "### <center> **Primavera 2025** </center>\n",
    "---\n",
    "\n",
    "**Lab XX**: Code Lab 01: Student Grade Analyzer\n",
    "\n",
    "**Fecha**: 03/02/2025\n",
    "\n",
    "**Nombre del Estudiante**: Ana Cristina Luna Arellano\n",
    "\n",
    "**Profesor**: Pablo Camarillo Ramirez"
   ]
  },
  {
   "cell_type": "code",
   "execution_count": 1,
   "metadata": {},
   "outputs": [
    {
     "name": "stdout",
     "output_type": "stream",
     "text": [
      "Expected average grades for each student:\n",
      "Alice: 84.33\n",
      "Bob: 86.67\n",
      "Charlie: 83.67\n",
      "\n",
      "Expected student with the highest average grade:\n",
      "Bob: 86.67\n",
      "\n",
      "Expected unique subjects:\n",
      "{'History', 'Math', 'Science'}\n",
      "\n",
      "Expected grades by subject dictionary:\n",
      "{'History': [78, 80, 88], 'Math': [90, 88, 78], 'Science': [85, 92, 85]}\n"
     ]
    }
   ],
   "source": [
    "\n",
    "students_data = [\n",
    "    (\"Alice\", {\"Math\": 90, \"Science\": 85, \"History\": 78}),\n",
    "    (\"Bob\", {\"Math\": 88, \"Science\": 92, \"History\": 80}),\n",
    "    (\"Charlie\", {\"Math\": 78, \"Science\": 85, \"History\": 88})\n",
    "]\n",
    "\n",
    "average_grades = {\n",
    "    student: sum(grades.values()) / len(grades)\n",
    "    for student, grades in students_data\n",
    "}\n",
    "\n",
    "highest_avg_student = max(average_grades, key=average_grades.get)\n",
    "\n",
    "unique_subjects = set()\n",
    "for _, grades in students_data:\n",
    "    unique_subjects.update(grades.keys())\n",
    "\n",
    "grades_by_subject = {subject: [] for subject in unique_subjects}\n",
    "for _, grades in students_data:\n",
    "    for subject, grade in grades.items():\n",
    "        grades_by_subject[subject].append(grade)\n",
    "\n",
    "print(\"Expected average grades for each student:\")\n",
    "for student, avg in average_grades.items():\n",
    "    print(f\"{student}: {avg:.2f}\")\n",
    "\n",
    "print(\"\\nExpected student with the highest average grade:\")\n",
    "print(f\"{highest_avg_student}: {average_grades[highest_avg_student]:.2f}\")\n",
    "\n",
    "print(\"\\nExpected unique subjects:\")\n",
    "print(unique_subjects)\n",
    "\n",
    "print(\"\\nExpected grades by subject dictionary:\")\n",
    "print(grades_by_subject)\n"
   ]
  }
 ],
 "metadata": {
  "kernelspec": {
   "display_name": "Python 3",
   "language": "python",
   "name": "python3"
  },
  "language_info": {
   "codemirror_mode": {
    "name": "ipython",
    "version": 3
   },
   "file_extension": ".py",
   "mimetype": "text/x-python",
   "name": "python",
   "nbconvert_exporter": "python",
   "pygments_lexer": "ipython3",
   "version": "3.12.2"
  }
 },
 "nbformat": 4,
 "nbformat_minor": 2
}
