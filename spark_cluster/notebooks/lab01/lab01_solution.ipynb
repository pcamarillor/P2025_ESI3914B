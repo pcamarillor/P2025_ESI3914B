{
 "cells": [
  {
   "cell_type": "markdown",
   "id": "587aa354",
   "metadata": {},
   "source": [
    "# Solution for Lab01: Student Grade Analyzer"
   ]
  },
  {
   "cell_type": "code",
   "execution_count": 13,
   "id": "c8bd9161",
   "metadata": {},
   "outputs": [
    {
     "data": {
      "text/plain": [
       "[('Alice', {'Math': 90, 'Science': 85, 'History': 78}),\n",
       " ('Bob', {'Math': 88, 'Science': 92, 'History': 80}),\n",
       " ('Charlie', {'Math': 78, 'Science': 85, 'History': 88})]"
      ]
     },
     "execution_count": 13,
     "metadata": {},
     "output_type": "execute_result"
    }
   ],
   "source": [
    "# Input data\n",
    "students_data = [\n",
    "    (\"Alice\", {\"Math\": 90, \"Science\": 85, \"History\": 78}),\n",
    "    (\"Bob\", {\"Math\": 88, \"Science\": 92, \"History\": 80}),\n",
    "    (\"Charlie\", {\"Math\": 78, \"Science\": 85, \"History\": 88}),\n",
    "]\n",
    "students_data"
   ]
  },
  {
   "cell_type": "code",
   "execution_count": 14,
   "id": "4804838d",
   "metadata": {},
   "outputs": [
    {
     "data": {
      "text/plain": [
       "{'Alice': 84.33, 'Bob': 86.67, 'Charlie': 83.67}"
      ]
     },
     "execution_count": 14,
     "metadata": {},
     "output_type": "execute_result"
    }
   ],
   "source": [
    "# 1. Calculate average grades for each student\n",
    "average_grades = {}\n",
    "for student, grades in students_data:\n",
    "    average = sum(grades.values()) / len(grades)\n",
    "    average_grades[student] = round(average, 2)\n",
    "\n",
    "average_grades"
   ]
  },
  {
   "cell_type": "code",
   "execution_count": 15,
   "id": "50e98640",
   "metadata": {},
   "outputs": [
    {
     "name": "stdout",
     "output_type": "stream",
     "text": [
      "\n",
      "Bob has the highest average grade: 86.67\n"
     ]
    }
   ],
   "source": [
    "# 2. Find the student with the highest average grade\n",
    "highest_avg_student = max(average_grades, key=average_grades.get)\n",
    "print(f\"\\n{highest_avg_student} has the highest average grade: {average_grades[highest_avg_student]}\")"
   ]
  },
  {
   "cell_type": "code",
   "execution_count": 16,
   "id": "69056136",
   "metadata": {},
   "outputs": [
    {
     "data": {
      "text/plain": [
       "{'History', 'Math', 'Science'}"
      ]
     },
     "execution_count": 16,
     "metadata": {},
     "output_type": "execute_result"
    }
   ],
   "source": [
    "# 3. Identify all unique subjects\n",
    "unique_subjects = set()\n",
    "for _, grades in students_data:\n",
    "    unique_subjects.update(grades.keys())\n",
    "\n",
    "unique_subjects"
   ]
  },
  {
   "cell_type": "code",
   "execution_count": 17,
   "id": "7368b333",
   "metadata": {},
   "outputs": [
    {
     "data": {
      "text/plain": [
       "{'Math': [90, 88, 78], 'Science': [85, 92, 85], 'History': [78, 80, 88]}"
      ]
     },
     "execution_count": 17,
     "metadata": {},
     "output_type": "execute_result"
    }
   ],
   "source": [
    "# 4. Create a dictionary to store grades by subject\n",
    "grades_by_subject = {}\n",
    "for _, grades in students_data:\n",
    "    for subject, grade in grades.items():\n",
    "        if subject not in grades_by_subject:\n",
    "            grades_by_subject[subject] = []\n",
    "        grades_by_subject[subject].append(grade)\n",
    "\n",
    "grades_by_subject"
   ]
  }
 ],
 "metadata": {
  "kernelspec": {
   "display_name": "Python 3 (ipykernel)",
   "language": "python",
   "name": "python3"
  },
  "language_info": {
   "codemirror_mode": {
    "name": "ipython",
    "version": 3
   },
   "file_extension": ".py",
   "mimetype": "text/x-python",
   "name": "python",
   "nbconvert_exporter": "python",
   "pygments_lexer": "ipython3",
   "version": "3.11.6"
  }
 },
 "nbformat": 4,
 "nbformat_minor": 5
}
