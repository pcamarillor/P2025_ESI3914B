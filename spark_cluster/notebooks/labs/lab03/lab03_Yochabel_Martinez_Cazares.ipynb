{
 "cells": [
  {
   "cell_type": "markdown",
   "metadata": {},
   "source": [
    "# <center> <img src=\"img/ITESOLogo.png\" alt=\"ITESO\" width=\"480\" height=\"130\"> </center>\n",
    "# <center> **Departamento de Electrónica, Sistemas e Informática** </center>\n",
    "---\n",
    "## <center> **Carrera: Ingieniería en Sistemas computacionales** </center>\n",
    "---\n",
    "### <center> **Primavera 2025** </center>\n",
    "---\n",
    "\n",
    "**Lab 03**: Analyzing Social Media Hashtags\n",
    "\n",
    "**Fecha**: 11/02/25\n",
    "\n",
    "**Nombre del Estudiante**: Yochabel Martínez Cázares\n",
    "\n",
    "**Profesor**: Pablo Camarillo Ramirez"
   ]
  },
  {
   "cell_type": "code",
   "execution_count": 1,
   "metadata": {},
   "outputs": [],
   "source": [
    "import findspark\n",
    "findspark.init()"
   ]
  },
  {
   "cell_type": "code",
   "execution_count": null,
   "metadata": {},
   "outputs": [
    {
     "name": "stderr",
     "output_type": "stream",
     "text": [
      "Setting default log level to \"WARN\".\n",
      "To adjust logging level use sc.setLogLevel(newLevel). For SparkR, use setLogLevel(newLevel).\n",
      "25/02/13 00:09:02 WARN NativeCodeLoader: Unable to load native-hadoop library for your platform... using builtin-java classes where applicable\n"
     ]
    }
   ],
   "source": [
    "from pyspark.sql import SparkSession\n",
    "\n",
    "spark = SparkSession.builder \\\n",
    "    .appName(\"HelloWorld-Spark\") \\\n",
    "    .master(\"spark://f04d2745dc57:7077\") \\\n",
    "    .config(\"spark.ui.port\",\"4040\") \\\n",
    "    .getOrCreate()"
   ]
  },
  {
   "cell_type": "code",
   "execution_count": 4,
   "metadata": {},
   "outputs": [],
   "source": [
    "sc = spark.sparkContext\n",
    "\n",
    "#Crear el RDD\n",
    "posts = [\"Learning #BigData with #PySpark is fun! #AI\",\n",
    "\"#AI is transforming the world. #BigData #MachineLearning\",\n",
    "\"I love #PySpark and #BigData. #AI #DataScience\",\n",
    "\"#DataScience and #AI are the future. #BigData\",\n",
    "\"#PySpark is awesome! #BigData #AI\"]\n",
    "\n",
    "post_rdd = sc.parallelize(posts)"
   ]
  },
  {
   "cell_type": "code",
   "execution_count": 6,
   "metadata": {},
   "outputs": [
    {
     "name": "stderr",
     "output_type": "stream",
     "text": [
      "[Stage 0:>                                                          (0 + 2) / 2]\r"
     ]
    },
    {
     "name": "stdout",
     "output_type": "stream",
     "text": [
      "['#BigData', '#PySpark', '#AI', '#AI', '#BigData', '#MachineLearning', '#PySpark', '#BigData.', '#AI', '#DataScience', '#DataScience', '#AI', '#BigData', '#PySpark', '#BigData', '#AI']\n"
     ]
    },
    {
     "name": "stderr",
     "output_type": "stream",
     "text": [
      "                                                                                \r"
     ]
    }
   ],
   "source": [
    "def get_hashtags(post):\n",
    "    return [word for word in post.split() if word.startswith('#')]\n",
    "\n",
    "hashtags_rdd = post_rdd.flatMap(get_hashtags)\n",
    "print(hashtags_rdd.collect())"
   ]
  },
  {
   "cell_type": "code",
   "execution_count": 18,
   "metadata": {},
   "outputs": [
    {
     "data": {
      "text/plain": [
       "[('#BigData', 1),\n",
       " ('#PySpark', 1),\n",
       " ('#AI', 1),\n",
       " ('#AI', 1),\n",
       " ('#BigData', 1),\n",
       " ('#MachineLearning', 1),\n",
       " ('#PySpark', 1),\n",
       " ('#BigData.', 1),\n",
       " ('#AI', 1),\n",
       " ('#DataScience', 1),\n",
       " ('#DataScience', 1),\n",
       " ('#AI', 1),\n",
       " ('#BigData', 1),\n",
       " ('#PySpark', 1),\n",
       " ('#BigData', 1),\n",
       " ('#AI', 1)]"
      ]
     },
     "execution_count": 18,
     "metadata": {},
     "output_type": "execute_result"
    }
   ],
   "source": [
    "#RDD con las tuplas (hashtag,1)\n",
    "hashtags_rdd_tp = hashtags_rdd.map(lambda x: (x, 1))\n",
    "hashtags_rdd_tp.collect()"
   ]
  },
  {
   "cell_type": "code",
   "execution_count": 17,
   "metadata": {},
   "outputs": [
    {
     "name": "stdout",
     "output_type": "stream",
     "text": [
      "#BigData: 4\n",
      "#PySpark: 3\n",
      "#AI: 5\n",
      "#MachineLearning: 1\n",
      "#BigData.: 1\n",
      "#DataScience: 2\n"
     ]
    }
   ],
   "source": [
    "#RDD con countByValue()\n",
    "#Contar cuántas veces aparece cada hashtag en el RDD\n",
    "hashtags_rdd_cbv = hashtags_rdd.countByValue()\n",
    "for hashtag, count in hashtags_rdd_cbv.items():\n",
    "    print(f\"{hashtag}: {count}\")"
   ]
  },
  {
   "cell_type": "code",
   "execution_count": 19,
   "metadata": {},
   "outputs": [
    {
     "name": "stderr",
     "output_type": "stream",
     "text": [
      "[Stage 18:=============================>                            (1 + 1) / 2]\r"
     ]
    },
    {
     "name": "stdout",
     "output_type": "stream",
     "text": [
      "Longitud 8: ['#PySpark', '#BigData', '#PySpark', '#BigData', '#BigData', '#PySpark', '#BigData']\n",
      "Longitud 12: ['#DataScience', '#DataScience']\n",
      "Longitud 16: ['#MachineLearning']\n",
      "Longitud 3: ['#AI', '#AI', '#AI', '#AI', '#AI']\n",
      "Longitud 9: ['#BigData.']\n"
     ]
    },
    {
     "name": "stderr",
     "output_type": "stream",
     "text": [
      "                                                                                \r"
     ]
    }
   ],
   "source": [
    "#RDD con groupByKey\n",
    "#Convertir los hashtags en pares (longitud, hashtag)\n",
    "hashtags_rdd_gbk = hashtags_rdd.map(lambda hashtag: (len(hashtag), hashtag)) \n",
    "\n",
    "grouped_rdd = hashtags_rdd_gbk.groupByKey()\n",
    "result = grouped_rdd.collect()\n",
    "\n",
    "for length, hashtags in result:\n",
    "    print(f\"Longitud {length}: {list(hashtags)}\")"
   ]
  }
 ],
 "metadata": {
  "kernelspec": {
   "display_name": "Python 3 (ipykernel)",
   "language": "python",
   "name": "python3"
  }
 },
 "nbformat": 4,
 "nbformat_minor": 2
}
