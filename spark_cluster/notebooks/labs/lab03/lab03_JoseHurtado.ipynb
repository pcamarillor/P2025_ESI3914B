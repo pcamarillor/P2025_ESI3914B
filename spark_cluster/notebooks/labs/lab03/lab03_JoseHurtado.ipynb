{
 "cells": [
  {
   "cell_type": "markdown",
   "metadata": {},
   "source": [
    "\n",
    "# <center> <img src=\"../img/ITESOLogo.png\" alt=\"ITESO\" width=\"480\" height=\"130\"> </center>\n",
    "# <center> **Departamento de Electrónica, Sistemas e Informática** </center>\n",
    "---\n",
    "## <center> **Carrera: Ing. Sistemas Computacionales** </center>\n",
    "---\n",
    "### <center> **Primavera 2025** </center>\n",
    "---\n",
    "\n",
    "**Lab 03**: Analyzing Social Media Hashtags\n",
    "\n",
    "**Fecha**: 14/02/2025\n",
    "\n",
    "**Nombre del Estudiante**: Jose Eduardo Hurtado Gomez\n",
    "\n",
    "**Profesor**: Pablo Camarillo Ramirez"
   ]
  },
  {
   "cell_type": "markdown",
   "metadata": {},
   "source": [
    "### Problem Statement\n",
    "\n",
    "You are given a dataset of social media posts, where each post is a string containing hashtags (e.g., #BigData, #AI, #PySpark). Your task is to analyze the hashtags using PySpark RDDs and perform the following operations:\n",
    "\n",
    "- Extract Hashtags: Use flatMap to extract all hashtags from the posts.\n",
    "- Map Hashtags to Pairs: Use map to transform each hashtag into a key-value pair (hashtag, 1).\n",
    "- Count Hashtag Occurrences: Use countByValue to count how many times each hashtag appears.\n",
    "- Group Hashtags by Length: Use groupByKey to group hashtags by their length (number of characters)"
   ]
  },
  {
   "cell_type": "code",
   "execution_count": 6,
   "metadata": {
    "vscode": {
     "languageId": "plaintext"
    }
   },
   "outputs": [],
   "source": [
    "import findspark\n",
    "findspark.init()\n",
    "\n",
    "from pyspark.sql import SparkSession\n",
    "\n",
    "spark = SparkSession.builder \\\n",
    "    .appName(\"Social media lab\") \\\n",
    "    .master(\"spark://69ce0b83527f:7077\") \\\n",
    "    .config(\"spark.ui.port\",\"4040\") \\\n",
    "    .getOrCreate()\n",
    "\n",
    "# Create SparkContext\n",
    "sc = spark.sparkContext\n",
    "sc.setLogLevel(\"ERROR\")\n",
    "# spark.stop()  Just to be sure"
   ]
  },
  {
   "cell_type": "code",
   "execution_count": 7,
   "metadata": {},
   "outputs": [],
   "source": [
    "# Input data\n",
    "posts = [\n",
    "    \"Learning #BigData with #PySpark is fun! #AI\",\n",
    "    \"#AI is transforming the world. #BigData #MachineLearning\",\n",
    "    \"I love #PySpark and #BigData. #AI #DataScience\",\n",
    "    \"#DataScience and #AI are the future. #BigData\",\n",
    "    \"#PySpark is awesome! #BigData #AI\"\n",
    "]"
   ]
  },
  {
   "cell_type": "code",
   "execution_count": 18,
   "metadata": {},
   "outputs": [
    {
     "name": "stdout",
     "output_type": "stream",
     "text": [
      "['#BigData', '#PySpark', '#AI', '#AI', '#BigData', '#MachineLearning', '#PySpark', '#BigData.', '#AI', '#DataScience', '#DataScience', '#AI', '#BigData', '#PySpark', '#BigData', '#AI']\n"
     ]
    }
   ],
   "source": [
    "# Extract Hashtags con FlatMap\n",
    "posts_rdd = sc.parallelize(posts)\n",
    "\n",
    "def get_hashtag_string(w):\n",
    "    hashtags = []\n",
    "    words = w.split()\n",
    "    for word in words:\n",
    "        if word.startswith(\"#\") and len(word) > 1:\n",
    "            hashtags.append(word)\n",
    "    return hashtags\n",
    "\n",
    "# flatMap \n",
    "hashtags_rdd = posts_rdd.flatMap(get_hashtag_string)\n",
    "print(hashtags_rdd.collect())\n"
   ]
  },
  {
   "cell_type": "code",
   "execution_count": 20,
   "metadata": {},
   "outputs": [
    {
     "name": "stdout",
     "output_type": "stream",
     "text": [
      "[('#BigData', 1), ('#PySpark', 1), ('#AI', 1), ('#AI', 1), ('#BigData', 1), ('#MachineLearning', 1), ('#PySpark', 1), ('#BigData.', 1), ('#AI', 1), ('#DataScience', 1), ('#DataScience', 1), ('#AI', 1), ('#BigData', 1), ('#PySpark', 1), ('#BigData', 1), ('#AI', 1)]\n"
     ]
    }
   ],
   "source": [
    "# Map Hashtags to Pairs con map.\n",
    "# (hashtag, 1)\n",
    "\n",
    "map_hashtag = hashtags_rdd.map(lambda hashtag: (hashtag, 1))\n",
    "# Conteo\n",
    "print(map_hashtag.collect()) \n"
   ]
  },
  {
   "cell_type": "code",
   "execution_count": 23,
   "metadata": {},
   "outputs": [
    {
     "name": "stdout",
     "output_type": "stream",
     "text": [
      "#BigData: 4\n",
      "#PySpark: 3\n",
      "#AI: 5\n",
      "#MachineLearning: 1\n",
      "#BigData.: 1\n",
      "#DataScience: 2\n"
     ]
    }
   ],
   "source": [
    "# Count Hashtag Occurrences con Count by value\n",
    "hashtag_ocurrences = hashtags_rdd.countByValue();\n",
    "\n",
    "for word, count in hashtag_ocurrences.items():\n",
    "    print(f\"{word}: {count}\")"
   ]
  },
  {
   "cell_type": "code",
   "execution_count": 26,
   "metadata": {},
   "outputs": [
    {
     "name": "stdout",
     "output_type": "stream",
     "text": [
      "8 <pyspark.resultiterable.ResultIterable object at 0x7f8521520fd0>\n",
      "16 <pyspark.resultiterable.ResultIterable object at 0x7f8521522ad0>\n",
      "12 <pyspark.resultiterable.ResultIterable object at 0x7f8521522710>\n",
      "3 <pyspark.resultiterable.ResultIterable object at 0x7f8521521fd0>\n",
      "9 <pyspark.resultiterable.ResultIterable object at 0x7f8521521f10>\n"
     ]
    }
   ],
   "source": [
    "# Group Hashtags by Length\n",
    "# Map as ((total_length), #) = (key, hashtag) and then, using total as the key, group it\n",
    "grouped_by_length = hashtags_rdd.map(lambda hashtag: (len(hashtag), hashtag))\n",
    "result_hashtags = grouped_by_length.groupByKey()\n",
    "\n",
    "for length, arr_result in result_hashtags.collect():\n",
    "    print(length, list(arr_result)\n"
   ]
  },
  {
   "cell_type": "code",
   "execution_count": null,
   "metadata": {},
   "outputs": [],
   "source": []
  }
 ],
 "metadata": {
  "kernelspec": {
   "display_name": "Python 3 (ipykernel)",
   "language": "python",
   "name": "python3"
  },
  "language_info": {
   "codemirror_mode": {
    "name": "ipython",
    "version": 3
   },
   "file_extension": ".py",
   "mimetype": "text/x-python",
   "name": "python",
   "nbconvert_exporter": "python",
   "pygments_lexer": "ipython3",
   "version": "3.11.6"
  }
 },
 "nbformat": 4,
 "nbformat_minor": 4
}
