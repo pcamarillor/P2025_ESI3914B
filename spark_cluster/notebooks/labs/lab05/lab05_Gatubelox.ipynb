{
 "cells": [
  {
   "cell_type": "markdown",
   "metadata": {},
   "source": [
    "# <center> <img src=\"img/ITESOLogo.png\" alt=\"ITESO\" width=\"480\" height=\"130\"> </center>\n",
    "# <center> **Departamento de Electrónica, Sistemas e Informática** </center>\n",
    "---\n",
    "## <center> **Carrera: Ingeniería en Sistemas Computacionales** </center>\n",
    "---\n",
    "### <center> **Primavera 2025** </center>\n",
    "---\n",
    "\n",
    "**Lab 05**: Transformation and actions\n",
    "\n",
    "**Fecha**: 21/02/2024\n",
    "\n",
    "**Nombre del Estudiante**:\n",
    "    - Luis Acosta\n",
    "    - Samantha Quintero\n",
    "    - Benjamin Vergara\n",
    "\n",
    "**Profesor**: Pablo Camarillo Ramirez"
   ]
  },
  {
   "cell_type": "code",
   "execution_count": 32,
   "metadata": {},
   "outputs": [],
   "source": [
    "import findspark\n",
    "findspark.init()"
   ]
  },
  {
   "cell_type": "code",
   "execution_count": 33,
   "metadata": {},
   "outputs": [],
   "source": [
    "from pyspark.sql import SparkSession\n",
    "\n",
    "spark = SparkSession.builder \\\n",
    "    .appName(\"SparkSQL-Transformations-Actions\") \\\n",
    "    .master(\"spark://be6296989c4d:7077\") \\\n",
    "    .config(\"spark.ui.port\",\"4040\") \\\n",
    "    .getOrCreate()\n",
    "sc = spark.sparkContext"
   ]
  },
  {
   "cell_type": "code",
   "execution_count": 34,
   "metadata": {},
   "outputs": [],
   "source": [
    "import importlib\n",
    "import gatubelxs.spark_utils\n",
    "\n",
    "importlib.reload(gatubelxs.spark_utils)\n",
    "\n",
    "columns_info = [ (\"track_id\", \"string\"),\n",
    "                (\"track_name\", \"string\"),\n",
    "                (\"artist_id\", \"string\"),\n",
    "                (\"artist_name\", \"string\"),\n",
    "                (\"album_id\", \"string\"),\n",
    "                (\"duration\", \"integer\"),\n",
    "                (\"release_date\", \"timestamp\"),\n",
    "                (\"popularity\", \"integer\"),\n",
    "                (\"danceability\", \"double\"),\n",
    "                (\"energy\", \"double\"),\n",
    "                (\"key\", \"integer\"),\n",
    "                (\"loudness\", \"double\"),\n",
    "                (\"mode\", \"integer\"),\n",
    "                (\"speechiness\", \"double\"),\n",
    "                (\"acousticness\", \"double\"),\n",
    "                (\"instrumentalness\", \"double\"),\n",
    "                (\"liveness\", \"double\"),\n",
    "                (\"valence\", \"double\"),\n",
    "                (\"tempo\", \"double\"),\n",
    "                (\"playlist_id\", \"string\"),\n",
    "                (\"playlist_name\", \"string\"),\n",
    "                (\"duration_mins\", \"double\"),\n",
    "                (\"genre\", \"string\")]\n",
    "\n",
    "schema = gatubelxs.spark_utils.SparkUtils.generate_schema(columns_info)\n",
    "\n",
    "# Create DataFrame\n",
    "tiktok_df = spark \\\n",
    "                .read \\\n",
    "                .schema(schema) \\\n",
    "                .option(\"header\", \"true\") \\\n",
    "                .csv(\"/home/jovyan/notebooks/data/tiktok.csv\")"
   ]
  },
  {
   "cell_type": "markdown",
   "metadata": {},
   "source": [
    "Transformations"
   ]
  },
  {
   "cell_type": "code",
   "execution_count": 35,
   "metadata": {},
   "outputs": [],
   "source": [
    "from pyspark.sql.functions import desc, sum"
   ]
  },
  {
   "cell_type": "code",
   "execution_count": 36,
   "metadata": {},
   "outputs": [],
   "source": [
    "#Filter and Count Popular Tracks\n",
    "popularity_df = tiktok_df.select(\"popularity\")\n",
    "psongs_df=popularity_df.filter(tiktok_df[\"popularity\"] > 80)"
   ]
  },
  {
   "cell_type": "code",
   "execution_count": 37,
   "metadata": {},
   "outputs": [],
   "source": [
    "#Calculate Average Duration of Songs by Genre,\n",
    "genre_df = tiktok_df.select(\"genre\",\"duration_mins\")\n",
    "grouped_df = genre_df.groupBy(\"genre\").avg(\"duration_mins\")"
   ]
  },
  {
   "cell_type": "code",
   "execution_count": 38,
   "metadata": {},
   "outputs": [],
   "source": [
    "# Top 5 most energetic songs\n",
    "energy_def=tiktok_df.select(\"energy\")\n",
    "sorted_df = energy_def.sort(desc(\"energy\"))"
   ]
  },
  {
   "cell_type": "code",
   "execution_count": 39,
   "metadata": {},
   "outputs": [],
   "source": [
    "# Total duration of songs in playlists\n",
    "playlist_id_df = tiktok_df.select(\"playlist_id\",\"duration_mins\")\n",
    "playlist_df = playlist_id_df.groupBy(\"playlist_id\").sum(\"duration_mins\")"
   ]
  },
  {
   "cell_type": "markdown",
   "metadata": {},
   "source": [
    "Actions"
   ]
  },
  {
   "cell_type": "code",
   "execution_count": 40,
   "metadata": {},
   "outputs": [
    {
     "name": "stderr",
     "output_type": "stream",
     "text": [
      "                                                                                \r"
     ]
    },
    {
     "data": {
      "text/plain": [
       "1023"
      ]
     },
     "execution_count": 40,
     "metadata": {},
     "output_type": "execute_result"
    }
   ],
   "source": [
    "row_count=psongs_df.count()\n",
    "row_count"
   ]
  },
  {
   "cell_type": "code",
   "execution_count": 41,
   "metadata": {},
   "outputs": [
    {
     "name": "stdout",
     "output_type": "stream",
     "text": [
      "+------------------+------------------+\n",
      "|             genre|avg(duration_mins)|\n",
      "+------------------+------------------+\n",
      "|TIKTOK PHILIPPINES|3.2801328435737513|\n",
      "|      TIKTOK DANCE| 3.015020713916861|\n",
      "|           _TIKTOK| 3.251196442168827|\n",
      "|        TIKTOK OPM| 4.257192861885788|\n",
      "+------------------+------------------+\n",
      "\n"
     ]
    }
   ],
   "source": [
    "grouped_df.show()"
   ]
  },
  {
   "cell_type": "code",
   "execution_count": 42,
   "metadata": {},
   "outputs": [
    {
     "name": "stdout",
     "output_type": "stream",
     "text": [
      "+------------------+\n",
      "|            energy|\n",
      "+------------------+\n",
      "|0.9990000000000001|\n",
      "|             0.998|\n",
      "|             0.995|\n",
      "|             0.995|\n",
      "|             0.995|\n",
      "+------------------+\n",
      "only showing top 5 rows\n",
      "\n",
      "+--------------------+------------------+\n",
      "|         playlist_id|sum(duration_mins)|\n",
      "+--------------------+------------------+\n",
      "|5IZc3KIVFhjzJ0L2k...| 7.474666666666667|\n",
      "|08ia51KbTcfs4QVT5...|            4.1485|\n",
      "|7xVLFuuYdAvcTfcP3...| 9.456433333333333|\n",
      "|2RBILNmyq8p4fqVWO...| 2.162933333333333|\n",
      "|6GdDjthxbTGBV9rl2...|3.3209166666666667|\n",
      "|7krYEnB1OI1RbnJBa...|2.0957666666666666|\n",
      "|1FgPyHX7HruKDL4Tx...|            2.4448|\n",
      "|62RtxFf9epYNWOUHJ...|2.6694333333333335|\n",
      "|5ow0sNF1zSqp71Ix5...|2.7334833333333335|\n",
      "|0LlJbV4lyzJYE14YC...|10.709133333333334|\n",
      "|6NFKf8vBApSvtzkap...|3.7074333333333334|\n",
      "|5P8lyudWE7HQxb4lu...| 4.250666666666667|\n",
      "|2BgEsaKNfHUdlh97K...| 3.116433333333333|\n",
      "|7F9vK8hNFMml4GtHs...| 3.173783333333333|\n",
      "|4vVTI94F9uJ8lHNDW...|3.3657666666666666|\n",
      "|2uULRpRtKhCdojXwo...|               2.2|\n",
      "|1tRlGMHsf21FDo6pj...|           1.79005|\n",
      "|215fAfwkWtlj30ofd...|2.3214166666666665|\n",
      "|3bidbhpOYeV4knp8A...|            4.3057|\n",
      "|0YFocHKmrMme7Isel...| 4.810383333333333|\n",
      "+--------------------+------------------+\n",
      "only showing top 20 rows\n",
      "\n"
     ]
    }
   ],
   "source": [
    "sorted_df.show(n=5)\n",
    "playlist_df.show()"
   ]
  },
  {
   "cell_type": "code",
   "execution_count": 43,
   "metadata": {},
   "outputs": [],
   "source": [
    "sc.stop()"
   ]
  }
 ],
 "metadata": {
  "kernelspec": {
   "display_name": "Python 3 (ipykernel)",
   "language": "python",
   "name": "python3"
  },
  "language_info": {
   "codemirror_mode": {
    "name": "ipython",
    "version": 3
   },
   "file_extension": ".py",
   "mimetype": "text/x-python",
   "name": "python",
   "nbconvert_exporter": "python",
   "pygments_lexer": "ipython3",
   "version": "3.11.6"
  }
 },
 "nbformat": 4,
 "nbformat_minor": 2
}
