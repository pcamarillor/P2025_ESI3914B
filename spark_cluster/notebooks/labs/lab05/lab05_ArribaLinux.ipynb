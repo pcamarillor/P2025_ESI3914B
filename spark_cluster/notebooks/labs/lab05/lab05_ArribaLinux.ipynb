{
 "cells": [
  {
   "cell_type": "markdown",
   "metadata": {},
   "source": [
    "# <center> <img src=\"img/ITESOLogo.png\" alt=\"ITESO\" width=\"480\" height=\"130\"> </center>\n",
    "# <center> **Departamento de Electrónica, Sistemas e Informática** </center>\n",
    "---\n",
    "## <center> **Carrera: <Coloca el nombre de tu carrera aqui>** </center>\n",
    "---\n",
    "### <center> **Primavera 2025** </center>\n",
    "---\n",
    "\n",
    "**Lab 05**\n",
    "\n",
    "**Fecha**: 21 febrero 2025\n",
    "\n",
    "**Nombre del Equipo**: ArribaLinux\n",
    "\n",
    "**Profesor**: Pablo Camarillo Ramirez"
   ]
  },
  {
   "cell_type": "markdown",
   "metadata": {},
   "source": [
    "152410e2146e148bffc6c65ca433f88635d8a5d959626a04"
   ]
  },
  {
   "cell_type": "markdown",
   "metadata": {},
   "source": [
    "CONEXIÓN CON EL CLUSTER DE SPARK"
   ]
  },
  {
   "cell_type": "code",
   "execution_count": 1,
   "metadata": {},
   "outputs": [],
   "source": [
    "import findspark\n",
    "findspark.init()"
   ]
  },
  {
   "cell_type": "code",
   "execution_count": 2,
   "metadata": {},
   "outputs": [
    {
     "name": "stderr",
     "output_type": "stream",
     "text": [
      "Setting default log level to \"WARN\".\n",
      "To adjust logging level use sc.setLogLevel(newLevel). For SparkR, use setLogLevel(newLevel).\n",
      "25/02/22 23:29:39 WARN NativeCodeLoader: Unable to load native-hadoop library for your platform... using builtin-java classes where applicable\n"
     ]
    }
   ],
   "source": [
    "from pyspark.sql import SparkSession\n",
    "\n",
    "spark = SparkSession.builder \\\n",
    "    .appName(\"SparkSQL-Transformations-Actions\") \\\n",
    "    .master(\"spark://d9c3cc2bade8:7077\") \\\n",
    "    .config(\"spark.ui.port\",\"4040\") \\\n",
    "    .getOrCreate()\n",
    "sc = spark.sparkContext"
   ]
  },
  {
   "cell_type": "markdown",
   "metadata": {},
   "source": [
    "IMPORTAR DATOS"
   ]
  },
  {
   "cell_type": "code",
   "execution_count": 7,
   "metadata": {},
   "outputs": [],
   "source": [
    "import importlib\n",
    "import ArribaLinux.spark_utils\n",
    "\n",
    "importlib.reload(ArribaLinux.spark_utils)\n",
    "\n",
    "columns_info = [ (\"track_id\", \"string\"),\n",
    "                (\"track_name\", \"string\"),\n",
    "                (\"artist_id\", \"string\"),\n",
    "                (\"artist_name\", \"string\"),\n",
    "                (\"album_id\", \"string\"),\n",
    "                (\"duration\", \"integer\"),\n",
    "                (\"release_date\", \"timestamp\"),\n",
    "                (\"popularity\", \"integer\"),\n",
    "                (\"danceability\", \"double\"),\n",
    "                (\"energy\", \"double\"),\n",
    "                (\"key\", \"integer\"),\n",
    "                (\"loudness\", \"double\"),\n",
    "                (\"mode\", \"integer\"),\n",
    "                (\"speechiness\", \"double\"),\n",
    "                (\"acousticness\", \"double\"),\n",
    "                (\"instrumentalness\", \"double\"),\n",
    "                (\"liveness\", \"double\"),\n",
    "                (\"valence\", \"double\"),\n",
    "                (\"tempo\", \"double\"),\n",
    "                (\"playlist_id\", \"string\"),\n",
    "                (\"playlist_name\", \"string\"),\n",
    "                (\"duration_mins\", \"double\"),\n",
    "                (\"genre\", \"string\")]\n",
    "\n",
    "schema = ArribaLinux.spark_utils.SparkUtils.generate_schema(columns_info)\n",
    "\n",
    "# Create DataFrame\n",
    "tiktok_df = spark \\\n",
    "                .read \\\n",
    "                .schema(schema) \\\n",
    "                .option(\"header\", \"true\") \\\n",
    "                .csv(\"/home/jovyan/notebooks/data/tiktok.csv\")"
   ]
  },
  {
   "cell_type": "markdown",
   "metadata": {},
   "source": [
    "FILTRAR Y CONTAR CANCIONES POPULARES > 80"
   ]
  },
  {
   "cell_type": "code",
   "execution_count": 8,
   "metadata": {},
   "outputs": [
    {
     "name": "stderr",
     "output_type": "stream",
     "text": [
      "                                                                                \r"
     ]
    },
    {
     "data": {
      "text/plain": [
       "1023"
      ]
     },
     "execution_count": 8,
     "metadata": {},
     "output_type": "execute_result"
    }
   ],
   "source": [
    "from pyspark.sql.functions import col\n",
    "\n",
    "popular_count = tiktok_df.select(\"popularity\").filter(col(\"popularity\") > 80)\n",
    "popular_count.count()"
   ]
  },
  {
   "cell_type": "markdown",
   "metadata": {},
   "source": [
    "CALCULAR PROMEDIO DE DURACIÓN POR GÉNERO"
   ]
  },
  {
   "cell_type": "code",
   "execution_count": 9,
   "metadata": {},
   "outputs": [
    {
     "name": "stderr",
     "output_type": "stream",
     "text": [
      "                                                                                \r"
     ]
    },
    {
     "name": "stdout",
     "output_type": "stream",
     "text": [
      "+------------------+------------------+\n",
      "|             genre|avg(duration_mins)|\n",
      "+------------------+------------------+\n",
      "|TIKTOK PHILIPPINES|3.2801328435737513|\n",
      "|      TIKTOK DANCE| 3.015020713916861|\n",
      "|           _TIKTOK| 3.251196442168827|\n",
      "|        TIKTOK OPM| 4.257192861885788|\n",
      "+------------------+------------------+\n",
      "\n"
     ]
    }
   ],
   "source": [
    "from pyspark.sql.functions import avg\n",
    "\n",
    "duration_genre_avg = tiktok_df.select(\"genre\", \"duration_mins\").groupBy(\"genre\").agg(avg(\"duration_mins\"))\n",
    "duration_genre_avg.show()"
   ]
  },
  {
   "cell_type": "markdown",
   "metadata": {},
   "source": [
    "TOP 5 CANCIONES MÁS ENERGÉTICAS "
   ]
  },
  {
   "cell_type": "code",
   "execution_count": 10,
   "metadata": {},
   "outputs": [
    {
     "name": "stderr",
     "output_type": "stream",
     "text": [
      "[Stage 6:>                                                          (0 + 1) / 1]\r"
     ]
    },
    {
     "name": "stdout",
     "output_type": "stream",
     "text": [
      "+--------------------+--------------------+------------------+\n",
      "|          track_name|         artist_name|            energy|\n",
      "+--------------------+--------------------+------------------+\n",
      "|       Kiat Jud Dong|         DJ Red Core|0.9990000000000001|\n",
      "|       Bukan untukku|            DJ Viral|             0.998|\n",
      "|    Ritmo Envolvente|DJ Menor 7 DJ Men...|             0.995|\n",
      "|Tante Culik Aku Dong|  Iwansteep Official|             0.995|\n",
      "|Biarlah Semua Ber...|             DJ Opus|             0.995|\n",
      "+--------------------+--------------------+------------------+\n",
      "\n"
     ]
    },
    {
     "name": "stderr",
     "output_type": "stream",
     "text": [
      "                                                                                \r"
     ]
    }
   ],
   "source": [
    "from pyspark.sql.functions import desc\n",
    "\n",
    "top_energetic_songs = tiktok_df.select(\"track_name\", \"artist_name\", \"energy\") \\\n",
    "    .orderBy(desc(\"energy\")) \\\n",
    "    .limit(5)\n",
    "top_energetic_songs.show()\n"
   ]
  },
  {
   "cell_type": "markdown",
   "metadata": {},
   "source": [
    "DURACIÓN TOTAL DE CANCIONES POR PLAYLIST"
   ]
  },
  {
   "cell_type": "code",
   "execution_count": 13,
   "metadata": {},
   "outputs": [
    {
     "name": "stdout",
     "output_type": "stream",
     "text": [
      "+--------------------+-------------------+\n",
      "|       playlist_name|total_duration_mins|\n",
      "+--------------------+-------------------+\n",
      "|5IZc3KIVFhjzJ0L2k...|  7.474666666666667|\n",
      "|08ia51KbTcfs4QVT5...|             4.1485|\n",
      "|7xVLFuuYdAvcTfcP3...|  9.456433333333333|\n",
      "|2RBILNmyq8p4fqVWO...|  2.162933333333333|\n",
      "|6GdDjthxbTGBV9rl2...| 3.3209166666666667|\n",
      "|7krYEnB1OI1RbnJBa...| 2.0957666666666666|\n",
      "|1FgPyHX7HruKDL4Tx...|             2.4448|\n",
      "|62RtxFf9epYNWOUHJ...| 2.6694333333333335|\n",
      "|5ow0sNF1zSqp71Ix5...| 2.7334833333333335|\n",
      "|0LlJbV4lyzJYE14YC...| 10.709133333333334|\n",
      "|6NFKf8vBApSvtzkap...| 3.7074333333333334|\n",
      "|5P8lyudWE7HQxb4lu...|  4.250666666666667|\n",
      "|2BgEsaKNfHUdlh97K...|  3.116433333333333|\n",
      "|7F9vK8hNFMml4GtHs...|  3.173783333333333|\n",
      "|4vVTI94F9uJ8lHNDW...| 3.3657666666666666|\n",
      "|2uULRpRtKhCdojXwo...|                2.2|\n",
      "|1tRlGMHsf21FDo6pj...|            1.79005|\n",
      "|215fAfwkWtlj30ofd...| 2.3214166666666665|\n",
      "|3bidbhpOYeV4knp8A...|             4.3057|\n",
      "|0YFocHKmrMme7Isel...|  4.810383333333333|\n",
      "+--------------------+-------------------+\n",
      "only showing top 20 rows\n",
      "\n"
     ]
    }
   ],
   "source": [
    "from pyspark.sql.functions import sum\n",
    "\n",
    "playlist_total_duration = tiktok_df.select(\"playlist_name\", \"duration_mins\") \\\n",
    "    .groupBy(\"playlist_name\") \\\n",
    "    .agg(sum(\"duration_mins\").alias(\"total_duration_mins\"))\n",
    "playlist_total_duration.show()\n",
    "\n"
   ]
  },
  {
   "cell_type": "markdown",
   "metadata": {},
   "source": [
    "DETENER EL CLUSTER DE SPARK"
   ]
  },
  {
   "cell_type": "code",
   "execution_count": 14,
   "metadata": {},
   "outputs": [],
   "source": [
    "# Stop the SparkContext\n",
    "sc.stop()"
   ]
  }
 ],
 "metadata": {
  "kernelspec": {
   "display_name": "Python 3 (ipykernel)",
   "language": "python",
   "name": "python3"
  },
  "language_info": {
   "codemirror_mode": {
    "name": "ipython",
    "version": 3
   },
   "file_extension": ".py",
   "mimetype": "text/x-python",
   "name": "python",
   "nbconvert_exporter": "python",
   "pygments_lexer": "ipython3",
   "version": "3.11.6"
  }
 },
 "nbformat": 4,
 "nbformat_minor": 2
}
