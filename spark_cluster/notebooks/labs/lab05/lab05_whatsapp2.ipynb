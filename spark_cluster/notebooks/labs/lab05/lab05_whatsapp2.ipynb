{
 "cells": [
  {
   "cell_type": "markdown",
   "metadata": {},
   "source": [
    "# <center> <img src=\"../labs/img/ITESOLogo.png\" alt=\"ITESO\" width=\"480\" height=\"130\"> </center>\n",
    "# <center> **Departamento de Electrónica, Sistemas e Informática** </center>\n",
    "---\n",
    "## <center> **Procesamiento de Datos Masivos** </center>\n",
    "---\n",
    "### <center> **Primavera 2025** </center>\n",
    "---\n",
    "### <center> **LAB 05: Transformations and Actions** </center>\n",
    "\n",
    "---\n",
    "**Profesor**: Dr. Pablo Camarillo Ramirez\n",
    "**Alumnos**: Angel Ramirez Carrillo, Samuel Alejandro Romero Mora, Yochabel Martinez Cazares, Roberto Osorno"
   ]
  },
  {
   "cell_type": "code",
   "execution_count": null,
   "metadata": {},
   "outputs": [
    {
     "name": "stdout",
     "output_type": "stream",
     "text": [
      "\u001b[33mWARNING: The directory '/home/jovyan/.cache/pip' or its parent directory is not owned or is not writable by the current user. The cache has been disabled. Check the permissions and owner of that directory. If executing pip with sudo, you should use sudo's -H flag.\u001b[0m\u001b[33m\n",
      "\u001b[0mRequirement already satisfied: pyspark in /opt/conda/lib/python3.11/site-packages (3.5.4)\n",
      "Requirement already satisfied: py4j==0.10.9.7 in /opt/conda/lib/python3.11/site-packages (from pyspark) (0.10.9.7)\n",
      "\u001b[33mWARNING: Running pip as the 'root' user can result in broken permissions and conflicting behaviour with the system package manager. It is recommended to use a virtual environment instead: https://pip.pypa.io/warnings/venv\u001b[0m\u001b[33m\n",
      "\u001b[0mNote: you may need to restart the kernel to use updated packages.\n"
     ]
    },
    {
     "name": "stderr",
     "output_type": "stream",
     "text": [
      "25/02/25 13:20:26 WARN StandaloneSchedulerBackend: Application ID is not initialized yet.\n",
      "25/02/25 13:20:26 ERROR StandaloneSchedulerBackend: Application has been killed. Reason: All masters are unresponsive! Giving up.\n",
      "25/02/25 13:20:27 WARN StandaloneAppClient$ClientEndpoint: Drop UnregisterApplication(null) because has not yet connected to master\n"
     ]
    }
   ],
   "source": [
    "%pip install pyspark"
   ]
  },
  {
   "cell_type": "code",
   "execution_count": 3,
   "metadata": {},
   "outputs": [],
   "source": [
    "import findspark\n",
    "from pyspark.sql.functions import col, sum, avg\n",
    "findspark.init()"
   ]
  },
  {
   "cell_type": "markdown",
   "metadata": {},
   "source": [
    "#### Creacion de la conexión con el cluster de spark\n"
   ]
  },
  {
   "cell_type": "code",
   "execution_count": 4,
   "metadata": {},
   "outputs": [
   ],
   "source": [
    "from pyspark.sql import SparkSession\n",
    "\n",
    "spark = SparkSession.builder \\\n",
    "    .appName(\"SparkSQL-Transformations-Actions\") \\\n",
    "    .master(\"spark://5b6f136ea5a4:7077\") \\\n",
    "    .config(\"spark.ui.port\",\"4040\") \\\n",
    "    .getOrCreate()\n",
    "sc = spark.sparkContext"
   ]
  },
  {
   "cell_type": "markdown",
   "metadata": {},
   "source": [
    "### Transformations"
   ]
  },
  {
   "cell_type": "code",
   "execution_count": 26,
   "metadata": {},
   "outputs": [
    {
     "name": "stdout",
     "output_type": "stream",
     "text": [
      "StructType([StructField('track_id', StringType(), True), StructField('track_name', StringType(), True), StructField('artist_id', StringType(), True), StructField('artist_name', StringType(), True), StructField('album_id', StringType(), True), StructField('duration', IntegerType(), True), StructField('release_date', TimestampType(), True), StructField('popularity', IntegerType(), True), StructField('danceability', DoubleType(), True), StructField('energy', DoubleType(), True), StructField('key', IntegerType(), True), StructField('loudness', DoubleType(), True), StructField('mode', IntegerType(), True), StructField('speechiness', DoubleType(), True), StructField('acousticness', DoubleType(), True), StructField('instrumentalness', DoubleType(), True), StructField('liveness', DoubleType(), True), StructField('valence', DoubleType(), True), StructField('tempo', DoubleType(), True), StructField('playlist_id', StringType(), True), StructField('playlist_name', StringType(), True), StructField('duration_mins', DoubleType(), True), StructField('genre', StringType(), True)])\n"
     ]
    }
   ],
   "source": [
    "import importlib\n",
    "import whatsapp2.spark_utils\n",
    "\n",
    "importlib.reload(whatsapp2.spark_utils)\n",
    "\n",
    "columns_info = [ (\"track_id\", \"string\"),\n",
    "                (\"track_name\", \"string\"),\n",
    "                (\"artist_id\", \"string\"),\n",
    "                (\"artist_name\", \"string\"),\n",
    "                (\"album_id\", \"string\"),\n",
    "                (\"duration\", \"integer\"),\n",
    "                (\"release_date\", \"timestamp\"),\n",
    "                (\"popularity\", \"integer\"),\n",
    "                (\"danceability\", \"double\"),\n",
    "                (\"energy\", \"double\"),\n",
    "                (\"key\", \"integer\"),\n",
    "                (\"loudness\", \"double\"),\n",
    "                (\"mode\", \"integer\"),\n",
    "                (\"speechiness\", \"double\"),\n",
    "                (\"acousticness\", \"double\"),\n",
    "                (\"instrumentalness\", \"double\"),\n",
    "                (\"liveness\", \"double\"),\n",
    "                (\"valence\", \"double\"),\n",
    "                (\"tempo\", \"double\"),\n",
    "                (\"playlist_id\", \"string\"),\n",
    "                (\"playlist_name\", \"string\"),\n",
    "                (\"duration_mins\", \"double\"),\n",
    "                (\"genre\", \"string\")]\n",
    "\n",
    "schema = whatsapp2.spark_utils.SparkUtils.generate_schema(columns_info)\n",
    "\n",
    "# Create DataFrame\n",
    "tiktok_df = spark \\\n",
    "                .read \\\n",
    "                .schema(schema) \\\n",
    "                .option(\"header\", \"true\") \\\n",
    "                .csv(\"/home/jovyan/notebooks/data/tiktok.csv\")\n",
    "\n",
    "print(schema)"
   ]
  },
  {
   "cell_type": "code",
   "execution_count": 28,
   "metadata": {},
   "outputs": [
    {
     "data": {
      "text/plain": [
       "1023"
      ]
     },
     "execution_count": 28,
     "metadata": {},
     "output_type": "execute_result"
    }
   ],
   "source": [
    "df_select = tiktok_df.select(\"popularity\")\n",
    "df_select = tiktok_df.filter(col(\"popularity\")>80)\n",
    "\n",
    "count = df_select.count()\n",
    "\n",
    "count"
   ]
  },
  {
   "cell_type": "code",
   "execution_count": null,
   "metadata": {},
   "outputs": [
    {
     "name": "stdout",
     "output_type": "stream",
     "text": [
      "+------------------+------------------+\n",
      "|             genre|      avg_duration|\n",
      "+------------------+------------------+\n",
      "|TIKTOK PHILIPPINES|3.2801328435737513|\n",
      "|      TIKTOK DANCE| 3.015020713916861|\n",
      "|           _TIKTOK| 3.251196442168827|\n",
      "|        TIKTOK OPM| 4.257192861885788|\n",
      "+------------------+------------------+\n",
      "\n"
     ]
    }
   ],
   "source": [
    "df_select = tiktok_df.select(\"genre\",\"duration_mins\")\n",
    "df_select = tiktok_df.groupBy(\"genre\").agg(avg(\"duration_mins\").alias(\"avg_duration\"))\n",
    "df_select.show()"
   ]
  },
  {
   "cell_type": "code",
   "execution_count": 21,
   "metadata": {},
   "outputs": [
    {
     "name": "stdout",
     "output_type": "stream",
     "text": [
      "+--------------------+--------------------+--------------------+--------------------+--------------------+--------+-------------------+----------+------------------+------------------+---+------------------+----+-----------+--------------------+-------------------+--------+------------------+------------------+--------------------+--------------------+-----------------+----------+\n",
      "|            track_id|          track_name|           artist_id|         artist_name|            album_id|duration|       release_date|popularity|      danceability|            energy|key|          loudness|mode|speechiness|        acousticness|   instrumentalness|liveness|           valence|             tempo|         playlist_id|       playlist_name|    duration_mins|     genre|\n",
      "+--------------------+--------------------+--------------------+--------------------+--------------------+--------+-------------------+----------+------------------+------------------+---+------------------+----+-----------+--------------------+-------------------+--------+------------------+------------------+--------------------+--------------------+-----------------+----------+\n",
      "|7L97IYrrPoodGNTs5...|       Kiat Jud Dong|25p1uAURmIM9Fvf8s...|         DJ Red Core|30uObqEktf9kGc7HT...|  257201|2018-03-21 00:00:00|        36|0.8029999999999999|0.9990000000000001|  5|             1.077|   1|     0.0516|             8.83E-4|               0.11|  0.0673|             0.948|           139.998|7L97IYrrPoodGNTs5...|7L97IYrrPoodGNTs5...|4.286683333333333|TIKTOK OPM|\n",
      "|10ACjcWMiiDzgFARy...|       Bukan untukku|6lh35jTUhuYnyAmrw...|            DJ Viral|6MrVRkcN7n1a2N5v7...|  221562|2019-01-29 00:00:00|         0|              0.65|             0.998|  7|            -9.412|   1|     0.0556|0.006840000000000001|0.43700000000000006|   0.335|             0.494|148.25799999999998|5loEFd02qVUHD7tg5...|DJ Remix TIKTOK💥...|           3.6927|   _TIKTOK|\n",
      "|64112Wjl20AyJnCP5...|    Ritmo Envolvente|3FSl8J1JjlhocB9mF...|DJ Menor 7 DJ Men...|12CBfRWiaozrlU907...|  237846|2021-03-07 00:00:00|        59|             0.736|             0.995|  2|            -4.346|   1|     0.0643|              0.0431|0.28600000000000003|   0.264|0.8109999999999999|           130.088|4nZwtXLKWz0e0FLwf...|Funk Tiktok 2021 ...|           3.9641|   _TIKTOK|\n",
      "|2cTK8esxSbN8l8VoW...|Tante Culik Aku Dong|5KdkevZRYudsUtmTg...|  Iwansteep Official|1od5cXGFk8if2NZek...|  411713|2018-09-29 00:00:00|        34|             0.711|             0.995|  5|            -6.205|   0|     0.0411|             0.00921|              0.204|   0.613|             0.885|           129.993|5loEFd02qVUHD7tg5...|DJ Remix TIKTOK💥...|6.861883333333333|   _TIKTOK|\n",
      "|5vESh0QkUlcbQrYaO...|Biarlah Semua Ber...|0S2deWH67QwQaHV6M...|             DJ Opus|0wCfYhosjZQcUJGDB...|  374057|2020-04-25 00:00:00|         0|             0.748|             0.995|  0|0.7190000000000001|   1|     0.0329|               0.109|             0.0724|   0.247|0.9670000000000001|           120.015|5loEFd02qVUHD7tg5...|DJ Remix TIKTOK💥...|6.234283333333333|   _TIKTOK|\n",
      "+--------------------+--------------------+--------------------+--------------------+--------------------+--------+-------------------+----------+------------------+------------------+---+------------------+----+-----------+--------------------+-------------------+--------+------------------+------------------+--------------------+--------------------+-----------------+----------+\n",
      "\n"
     ]
    }
   ],
   "source": [
    "df_select = tiktok_df.select(\"energy\")\n",
    "df_select =tiktok_df.orderBy(col(\"energy\").desc()).limit(5)\n",
    "\n",
    "df_select.show()\n"
   ]
  },
  {
   "cell_type": "code",
   "execution_count": 30,
   "metadata": {},
   "outputs": [
    {
     "name": "stdout",
     "output_type": "stream",
     "text": [
      "+--------------------+--------------------+\n",
      "|         playlist_id|total_time_play_list|\n",
      "+--------------------+--------------------+\n",
      "|5IZc3KIVFhjzJ0L2k...|              448480|\n",
      "|08ia51KbTcfs4QVT5...|              248910|\n",
      "|7xVLFuuYdAvcTfcP3...|              567386|\n",
      "|2RBILNmyq8p4fqVWO...|              129776|\n",
      "|6GdDjthxbTGBV9rl2...|              199255|\n",
      "|7krYEnB1OI1RbnJBa...|              125746|\n",
      "|1FgPyHX7HruKDL4Tx...|              146688|\n",
      "|62RtxFf9epYNWOUHJ...|              160166|\n",
      "|5ow0sNF1zSqp71Ix5...|              164009|\n",
      "|0LlJbV4lyzJYE14YC...|              642548|\n",
      "|6NFKf8vBApSvtzkap...|              222446|\n",
      "|5P8lyudWE7HQxb4lu...|              255040|\n",
      "|2BgEsaKNfHUdlh97K...|              186986|\n",
      "|7F9vK8hNFMml4GtHs...|              190427|\n",
      "|4vVTI94F9uJ8lHNDW...|              201946|\n",
      "|2uULRpRtKhCdojXwo...|              132000|\n",
      "|1tRlGMHsf21FDo6pj...|              107403|\n",
      "|215fAfwkWtlj30ofd...|              139285|\n",
      "|3bidbhpOYeV4knp8A...|              258342|\n",
      "|0YFocHKmrMme7Isel...|              288623|\n",
      "+--------------------+--------------------+\n",
      "only showing top 20 rows\n",
      "\n"
     ]
    },
    {
     "name": "stderr",
     "output_type": "stream",
     "text": [
      "25/02/21 14:28:47 ERROR StandaloneSchedulerBackend: Application has been killed. Reason: Master removed our application: KILLED\n",
      "25/02/21 14:28:48 ERROR Inbox: Ignoring error\n",
      "org.apache.spark.SparkException: Exiting due to error from cluster scheduler: Master removed our application: KILLED\n",
      "\tat org.apache.spark.errors.SparkCoreErrors$.clusterSchedulerError(SparkCoreErrors.scala:291)\n",
      "\tat org.apache.spark.scheduler.TaskSchedulerImpl.error(TaskSchedulerImpl.scala:981)\n",
      "\tat org.apache.spark.scheduler.cluster.StandaloneSchedulerBackend.dead(StandaloneSchedulerBackend.scala:165)\n",
      "\tat org.apache.spark.deploy.client.StandaloneAppClient$ClientEndpoint.markDead(StandaloneAppClient.scala:263)\n",
      "\tat org.apache.spark.deploy.client.StandaloneAppClient$ClientEndpoint$$anonfun$receive$1.applyOrElse(StandaloneAppClient.scala:170)\n",
      "\tat org.apache.spark.rpc.netty.Inbox.$anonfun$process$1(Inbox.scala:115)\n",
      "\tat org.apache.spark.rpc.netty.Inbox.safelyCall(Inbox.scala:213)\n",
      "\tat org.apache.spark.rpc.netty.Inbox.process(Inbox.scala:100)\n",
      "\tat org.apache.spark.rpc.netty.MessageLoop.org$apache$spark$rpc$netty$MessageLoop$$receiveLoop(MessageLoop.scala:75)\n",
      "\tat org.apache.spark.rpc.netty.MessageLoop$$anon$1.run(MessageLoop.scala:41)\n",
      "\tat java.base/java.util.concurrent.ThreadPoolExecutor.runWorker(ThreadPoolExecutor.java:1136)\n",
      "\tat java.base/java.util.concurrent.ThreadPoolExecutor$Worker.run(ThreadPoolExecutor.java:635)\n",
      "\tat java.base/java.lang.Thread.run(Thread.java:840)\n"
     ]
    }
   ],
   "source": [
    "df_select = tiktok_df.select(\"playlist_id\",\"duration\")\n",
    "df_select = tiktok_df.groupBy(\"playlist_id\").agg(sum(\"duration\").alias(\"total_time_play_list\"))\n",
    "df_select.show()"
   ]
  },
  {
   "cell_type": "code",
   "execution_count": 22,
   "metadata": {},
   "outputs": [],
   "source": [
    "# Stop the SparkContext\n",
    "sc.stop()"
   ]
  }
 ],
 "metadata": {
  "kernelspec": {
   "display_name": "Python 3 (ipykernel)",
   "language": "python",
   "name": "python3"
  },
  "language_info": {
   "codemirror_mode": {
    "name": "ipython",
    "version": 3
   },
   "file_extension": ".py",
   "mimetype": "text/x-python",
   "name": "python",
   "nbconvert_exporter": "python",
   "pygments_lexer": "ipython3",
   "version": "3.11.6"
  }
 },
 "nbformat": 4,
 "nbformat_minor": 2
}
