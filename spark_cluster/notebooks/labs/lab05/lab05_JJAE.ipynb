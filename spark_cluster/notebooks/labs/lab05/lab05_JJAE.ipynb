{
 "cells": [
  {
   "cell_type": "code",
   "execution_count": 10,
   "metadata": {},
   "outputs": [],
   "source": [
    "import findspark\n",
    "findspark.init()"
   ]
  },
  {
   "cell_type": "code",
   "execution_count": 11,
   "metadata": {},
   "outputs": [],
   "source": [
    "from pyspark.sql import SparkSession\n",
    "\n",
    "spark = SparkSession.builder \\\n",
    "    .appName(\"SparkSQL-Transformations-Actions\") \\\n",
    "    .master(\"spark://3efd074e93ff:7077\") \\\n",
    "    .config(\"spark.ui.port\",\"4040\") \\\n",
    "    .getOrCreate()\n",
    "sc = spark.sparkContext"
   ]
  },
  {
   "cell_type": "code",
   "execution_count": 12,
   "metadata": {},
   "outputs": [],
   "source": [
    "import importlib\n",
    "import team_name.spark_utils\n",
    "\n",
    "importlib.reload(team_name.spark_utils)\n",
    "\n",
    "columns_info = [ (\"track_id\", \"string\"),\n",
    "                (\"track_name\", \"string\"),\n",
    "                (\"artist_id\", \"string\"),\n",
    "                (\"artist_name\", \"string\"),\n",
    "                (\"album_id\", \"string\"),\n",
    "                (\"duration\", \"integer\"),\n",
    "                (\"release_date\", \"timestamp\"),\n",
    "                (\"popularity\", \"integer\"),\n",
    "                (\"danceability\", \"double\"),\n",
    "                (\"energy\", \"double\"),\n",
    "                (\"key\", \"integer\"),\n",
    "                (\"loudness\", \"double\"),\n",
    "                (\"mode\", \"integer\"),\n",
    "                (\"speechiness\", \"double\"),\n",
    "                (\"acousticness\", \"double\"),\n",
    "                (\"instrumentalness\", \"double\"),\n",
    "                (\"liveness\", \"double\"),\n",
    "                (\"valence\", \"double\"),\n",
    "                (\"tempo\", \"double\"),\n",
    "                (\"playlist_id\", \"string\"),\n",
    "                (\"playlist_name\", \"string\"),\n",
    "                (\"duration_mins\", \"double\"),\n",
    "                (\"genre\", \"string\")]\n",
    "\n",
    "schema = team_name.spark_utils.SparkUtils.generate_schema(columns_info)\n",
    "\n",
    "# Create DataFrame\n",
    "tiktok_df = spark \\\n",
    "                .read \\\n",
    "                .schema(schema) \\\n",
    "                .option(\"header\", \"true\") \\\n",
    "                .csv(\"/home/jovyan/notebooks/data/tiktok.csv\")"
   ]
  },
  {
   "cell_type": "code",
   "execution_count": 13,
   "metadata": {},
   "outputs": [
    {
     "name": "stderr",
     "output_type": "stream",
     "text": [
      "                                                                                \r"
     ]
    },
    {
     "data": {
      "text/plain": [
       "1023"
      ]
     },
     "execution_count": 13,
     "metadata": {},
     "output_type": "execute_result"
    }
   ],
   "source": [
    "# Filter and Count Popular Tracks. Filter songs with a popularity score greater than 80 and count the number of such tracks.\n",
    "filtered_duration_df = tiktok_df.filter(tiktok_df[\"popularity\"] > 80)\n",
    "selected_df = filtered_duration_df.select(\"popularity\")\n",
    "row_count = selected_df.count()\n",
    "row_count"
   ]
  },
  {
   "cell_type": "code",
   "execution_count": 14,
   "metadata": {},
   "outputs": [
    {
     "name": "stdout",
     "output_type": "stream",
     "text": [
      "+------------------+------------------+\n",
      "|             genre|avg(duration_mins)|\n",
      "+------------------+------------------+\n",
      "|TIKTOK PHILIPPINES|3.2801328435737513|\n",
      "|      TIKTOK DANCE| 3.015020713916861|\n",
      "|           _TIKTOK| 3.251196442168827|\n",
      "|        TIKTOK OPM| 4.257192861885788|\n",
      "+------------------+------------------+\n",
      "\n"
     ]
    }
   ],
   "source": [
    "# Calculate Average Duration of Songs by Genre. Group songs by genre and calculate the average duration mins for each genre.\n",
    "avg_duration_by_genre = tiktok_df.groupBy(\"genre\").avg(\"duration_mins\")\n",
    "avg_duration_by_genre.show()"
   ]
  },
  {
   "cell_type": "code",
   "execution_count": null,
   "metadata": {},
   "outputs": [
    {
     "name": "stdout",
     "output_type": "stream",
     "text": [
      "+--------------------+------------------+\n",
      "|          track_name|            energy|\n",
      "+--------------------+------------------+\n",
      "|       Kiat Jud Dong|0.9990000000000001|\n",
      "|       Bukan untukku|             0.998|\n",
      "|    Ritmo Envolvente|             0.995|\n",
      "|Tante Culik Aku Dong|             0.995|\n",
      "|Biarlah Semua Ber...|             0.995|\n",
      "+--------------------+------------------+\n",
      "\n"
     ]
    }
   ],
   "source": [
    "# Find the Top 5 Most Energetic Songs. Sort songs by energy in descending order and retrieve the top 5 songs.\n",
    "\n",
    "filtered_energetic_df = tiktok_df.orderBy(tiktok_df[\"energy\"].desc()).limit(5) # Transformation\n",
    "selected_energetic = filtered_energetic_df.select(\"track_name\", \"energy\") # Transformation selected\n",
    "selected_energetic.show() # Action"
   ]
  },
  {
   "cell_type": "code",
   "execution_count": 23,
   "metadata": {},
   "outputs": [
    {
     "name": "stdout",
     "output_type": "stream",
     "text": [
      "+--------------------+------------------+\n",
      "|       playlist_name|sum(duration_mins)|\n",
      "+--------------------+------------------+\n",
      "|5IZc3KIVFhjzJ0L2k...| 7.474666666666667|\n",
      "|08ia51KbTcfs4QVT5...|            4.1485|\n",
      "|7xVLFuuYdAvcTfcP3...| 9.456433333333333|\n",
      "|2RBILNmyq8p4fqVWO...| 2.162933333333333|\n",
      "|6GdDjthxbTGBV9rl2...|3.3209166666666667|\n",
      "|7krYEnB1OI1RbnJBa...|2.0957666666666666|\n",
      "|1FgPyHX7HruKDL4Tx...|            2.4448|\n",
      "|62RtxFf9epYNWOUHJ...|2.6694333333333335|\n",
      "|5ow0sNF1zSqp71Ix5...|2.7334833333333335|\n",
      "|0LlJbV4lyzJYE14YC...|10.709133333333334|\n",
      "|6NFKf8vBApSvtzkap...|3.7074333333333334|\n",
      "|5P8lyudWE7HQxb4lu...| 4.250666666666667|\n",
      "|2BgEsaKNfHUdlh97K...| 3.116433333333333|\n",
      "|7F9vK8hNFMml4GtHs...| 3.173783333333333|\n",
      "|4vVTI94F9uJ8lHNDW...|3.3657666666666666|\n",
      "|2uULRpRtKhCdojXwo...|               2.2|\n",
      "|1tRlGMHsf21FDo6pj...|           1.79005|\n",
      "|215fAfwkWtlj30ofd...|2.3214166666666665|\n",
      "|3bidbhpOYeV4knp8A...|            4.3057|\n",
      "|0YFocHKmrMme7Isel...| 4.810383333333333|\n",
      "+--------------------+------------------+\n",
      "only showing top 20 rows\n",
      "\n"
     ]
    }
   ],
   "source": [
    "### Calculate the Total Duration of Songs in Each Playlist\n",
    "\n",
    "total_duration_by_playlist = tiktok_df.groupBy(\"playlist_name\").sum(\"duration_mins\")\n",
    "total_duration_by_playlist.show()"
   ]
  },
  {
   "cell_type": "code",
   "execution_count": 8,
   "metadata": {},
   "outputs": [],
   "source": [
    "# Stop the SparkContext\n",
    "sc.stop()"
   ]
  }
 ],
 "metadata": {
  "kernelspec": {
   "display_name": "Python 3 (ipykernel)",
   "language": "python",
   "name": "python3"
  },
  "language_info": {
   "codemirror_mode": {
    "name": "ipython",
    "version": 3
   },
   "file_extension": ".py",
   "mimetype": "text/x-python",
   "name": "python",
   "nbconvert_exporter": "python",
   "pygments_lexer": "ipython3",
   "version": "3.11.6"
  }
 },
 "nbformat": 4,
 "nbformat_minor": 4
}
