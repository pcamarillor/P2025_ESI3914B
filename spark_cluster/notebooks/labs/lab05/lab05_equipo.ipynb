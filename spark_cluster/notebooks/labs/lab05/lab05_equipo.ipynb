{
 "cells": [
  {
   "cell_type": "markdown",
   "metadata": {},
   "source": [
    "# <center> <img src=\"../img/ITESOLogo.png\" alt=\"ITESO\" width=\"480\" height=\"130\"> </center>\n",
    "# <center> **Departamento de Electrónica, Sistemas e Informática** </center>\n",
    "---\n",
    "## <center> **Carrera: Ingeniería en sistemas** </center>\n",
    "---\n",
    "### <center> **Primavera 2025** </center>\n",
    "---\n",
    "\n",
    "**Lab 05**:\n",
    "\n",
    "**Fecha**: 21/02/2024\n",
    "\n",
    "**Nombre del equipo**: Equipo\n",
    " \n",
    "**Profesor**: Pablo Camarillo Ramirez"
   ]
  },
  {
   "cell_type": "code",
   "execution_count": null,
   "metadata": {},
   "outputs": [],
   "source": [
    "import findspark\n",
    "findspark.init()"
   ]
  },
  {
   "cell_type": "code",
   "execution_count": 2,
   "metadata": {},
   "outputs": [
    {
     "name": "stderr",
     "output_type": "stream",
     "text": [
      "Setting default log level to \"WARN\".\n",
      "To adjust logging level use sc.setLogLevel(newLevel). For SparkR, use setLogLevel(newLevel).\n",
      "25/02/22 22:41:10 WARN NativeCodeLoader: Unable to load native-hadoop library for your platform... using builtin-java classes where applicable\n"
     ]
    }
   ],
   "source": [
    "from pyspark.sql import SparkSession\n",
    "\n",
    "spark = SparkSession.builder \\\n",
    "    .appName(\"SparkSQL-Transformations-Actions\") \\\n",
    "    .master(\"spark://82f3da55ae59:7077\") \\\n",
    "    .config(\"spark.ui.port\",\"4040\") \\\n",
    "    .getOrCreate()\n",
    "sc = spark.sparkContext"
   ]
  },
  {
   "cell_type": "code",
   "execution_count": 6,
   "metadata": {},
   "outputs": [],
   "source": [
    "import importlib\n",
    "import team_name.spark_utils\n",
    "\n",
    "importlib.reload(team_name.spark_utils)\n",
    "\n",
    "columns_info = [ (\"track_id\", \"string\"),\n",
    "                (\"track_name\", \"string\"),\n",
    "                (\"artist_id\", \"string\"),\n",
    "                (\"artist_name\", \"string\"),\n",
    "                (\"album_id\", \"string\"),\n",
    "                (\"duration\", \"integer\"),\n",
    "                (\"release_date\", \"timestamp\"),\n",
    "                (\"popularity\", \"integer\"),\n",
    "                (\"danceability\", \"double\"),\n",
    "                (\"energy\", \"double\"),\n",
    "                (\"key\", \"integer\"),\n",
    "                (\"loudness\", \"double\"),\n",
    "                (\"mode\", \"integer\"),\n",
    "                (\"speechiness\", \"double\"),\n",
    "                (\"acousticness\", \"double\"),\n",
    "                (\"instrumentalness\", \"double\"),\n",
    "                (\"liveness\", \"double\"),\n",
    "                (\"valence\", \"double\"),\n",
    "                (\"tempo\", \"double\"),\n",
    "                (\"playlist_id\", \"string\"),\n",
    "                (\"playlist_name\", \"string\"),\n",
    "                (\"duration_mins\", \"double\"),\n",
    "                (\"genre\", \"string\")]\n",
    "\n",
    "schema = team_name.spark_utils.SparkUtils.generate_schema(columns_info)\n",
    "\n",
    "# Create DataFrame\n",
    "tiktok_df = spark \\\n",
    "                .read \\\n",
    "                .schema(schema) \\\n",
    "                .option(\"header\", \"true\") \\\n",
    "                .csv(\"/home/jovyan/notebooks/data/tiktok.csv\")"
   ]
  },
  {
   "cell_type": "code",
   "execution_count": 7,
   "metadata": {},
   "outputs": [],
   "source": [
    "filtered_popularity_df = tiktok_df.select(\"popularity\").filter(tiktok_df[\"popularity\"] > 80)"
   ]
  },
  {
   "cell_type": "code",
   "execution_count": 8,
   "metadata": {},
   "outputs": [
    {
     "name": "stderr",
     "output_type": "stream",
     "text": [
      "                                                                                \r"
     ]
    },
    {
     "data": {
      "text/plain": [
       "1023"
      ]
     },
     "execution_count": 8,
     "metadata": {},
     "output_type": "execute_result"
    }
   ],
   "source": [
    "row_count = filtered_popularity_df.count()\n",
    "row_count"
   ]
  },
  {
   "cell_type": "code",
   "execution_count": 9,
   "metadata": {},
   "outputs": [
    {
     "name": "stderr",
     "output_type": "stream",
     "text": [
      "                                                                                \r"
     ]
    },
    {
     "name": "stdout",
     "output_type": "stream",
     "text": [
      "+------------------+------------------+\n",
      "|             genre|     avg(duration)|\n",
      "+------------------+------------------+\n",
      "|TIKTOK PHILIPPINES|196807.97061442563|\n",
      "|      TIKTOK DANCE|180901.24283501162|\n",
      "|           _TIKTOK|195071.78653012996|\n",
      "|        TIKTOK OPM|255431.57171314742|\n",
      "+------------------+------------------+\n",
      "\n"
     ]
    }
   ],
   "source": [
    "group_by_genre = tiktok_df.select(\"genre\", \"duration\").groupBy(\"genre\").avg(\"duration\")\n",
    "group_by_genre.show()"
   ]
  },
  {
   "cell_type": "code",
   "execution_count": 18,
   "metadata": {},
   "outputs": [
    {
     "name": "stdout",
     "output_type": "stream",
     "text": [
      "+------------------+------------------+\n",
      "|             genre|            energy|\n",
      "+------------------+------------------+\n",
      "|        TIKTOK OPM|0.9990000000000001|\n",
      "|           _TIKTOK|             0.998|\n",
      "|           _TIKTOK|             0.995|\n",
      "|           _TIKTOK|             0.995|\n",
      "|           _TIKTOK|             0.995|\n",
      "|           _TIKTOK|0.9940000000000001|\n",
      "|TIKTOK PHILIPPINES|             0.993|\n",
      "|           _TIKTOK|             0.992|\n",
      "|TIKTOK PHILIPPINES|             0.992|\n",
      "|      TIKTOK DANCE|             0.992|\n",
      "+------------------+------------------+\n",
      "\n"
     ]
    }
   ],
   "source": [
    "top_energetic = tiktok_df. \\\n",
    "select(\"genre\", \"energy\"). \\\n",
    "orderBy(\"energy\", ascending=False)\n",
    "top_energetic.limit(10).show()"
   ]
  },
  {
   "cell_type": "code",
   "execution_count": 20,
   "metadata": {},
   "outputs": [
    {
     "name": "stdout",
     "output_type": "stream",
     "text": [
      "+--------------------+------------------+\n",
      "|       playlist_name|sum(duration_mins)|\n",
      "+--------------------+------------------+\n",
      "|5IZc3KIVFhjzJ0L2k...| 7.474666666666667|\n",
      "|08ia51KbTcfs4QVT5...|            4.1485|\n",
      "|7xVLFuuYdAvcTfcP3...| 9.456433333333333|\n",
      "|2RBILNmyq8p4fqVWO...| 2.162933333333333|\n",
      "|6GdDjthxbTGBV9rl2...|3.3209166666666667|\n",
      "|7krYEnB1OI1RbnJBa...|2.0957666666666666|\n",
      "|1FgPyHX7HruKDL4Tx...|            2.4448|\n",
      "|62RtxFf9epYNWOUHJ...|2.6694333333333335|\n",
      "|5ow0sNF1zSqp71Ix5...|2.7334833333333335|\n",
      "|0LlJbV4lyzJYE14YC...|10.709133333333334|\n",
      "|6NFKf8vBApSvtzkap...|3.7074333333333334|\n",
      "|5P8lyudWE7HQxb4lu...| 4.250666666666667|\n",
      "|2BgEsaKNfHUdlh97K...| 3.116433333333333|\n",
      "|7F9vK8hNFMml4GtHs...| 3.173783333333333|\n",
      "|4vVTI94F9uJ8lHNDW...|3.3657666666666666|\n",
      "|2uULRpRtKhCdojXwo...|               2.2|\n",
      "|1tRlGMHsf21FDo6pj...|           1.79005|\n",
      "|215fAfwkWtlj30ofd...|2.3214166666666665|\n",
      "|3bidbhpOYeV4knp8A...|            4.3057|\n",
      "|0YFocHKmrMme7Isel...| 4.810383333333333|\n",
      "+--------------------+------------------+\n",
      "only showing top 20 rows\n",
      "\n"
     ]
    }
   ],
   "source": [
    "duration_by_playlist = tiktok_df. \\\n",
    "select(\"playlist_name\", \"duration_mins\"). \\\n",
    "groupBy(\"playlist_name\").sum(\"duration_mins\")\n",
    "duration_by_playlist.show()"
   ]
  }
 ],
 "metadata": {
  "kernelspec": {
   "display_name": "Python 3 (ipykernel)",
   "language": "python",
   "name": "python3"
  },
  "language_info": {
   "codemirror_mode": {
    "name": "ipython",
    "version": 3
   },
   "file_extension": ".py",
   "mimetype": "text/x-python",
   "name": "python",
   "nbconvert_exporter": "python",
   "pygments_lexer": "ipython3",
   "version": "3.11.6"
  }
 },
 "nbformat": 4,
 "nbformat_minor": 4
}
