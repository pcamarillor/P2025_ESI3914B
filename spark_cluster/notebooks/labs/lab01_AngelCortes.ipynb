{
 "cells": [
  {
   "cell_type": "code",
   "execution_count": 30,
   "id": "e6d1b8b5-39e1-496a-8663-e8ef7eaabc97",
   "metadata": {},
   "outputs": [
    {
     "name": "stdout",
     "output_type": "stream",
     "text": [
      "Alice: \n",
      "promedio: 84.33 : -1\n",
      "Estudiante: Alice => promedio: 84.33\n",
      "\n",
      "Bob: \n",
      "promedio: 86.67 : -1\n",
      "Estudiante: Bob => promedio: 86.67\n",
      "\n",
      "Charlie: \n",
      "promedio: 83.67 : -1\n",
      "Estudiante: Charlie => promedio: 83.67\n",
      "\n",
      "Charlie: 83.67\n",
      "\n",
      "xD\n"
     ]
    }
   ],
   "source": [
    "students_data = [(\"Alice\", {\"Math\": 90, \"Science\": 85, \"History\": 78}),\n",
    "                (\"Bob\", {\"Math\": 88, \"Science\": 92, \"History\": 80}),\n",
    "                (\"Charlie\", {\"Math\": 78, \"Science\": 85, \"History\": 88})]\n",
    "\n",
    "# print(f'{students_data[0]} \\n {students_data[1]} \\n {students_data[2]} \\n')\n",
    "# 1️⃣ Calcular el promedio de cada estudiante\n",
    "average_grades = {}\n",
    "for student, subjects in students_data:\n",
    "    avg = sum(subjects.values()) / len(subjects)  # Sumar y dividir entre el total de materias\n",
    "    average_grades[student] = round(avg, 2)\n",
    "\n",
    "# 2️⃣ Encontrar al estudiante con la calificación promedio más alta\n",
    "top_student = max(average_grades, key=average_grades.get)\n",
    "\n",
    "# 3️⃣ Obtener las materias únicas\n",
    "unique_subjects = set()\n",
    "for _, subjects in students_data:\n",
    "    unique_subjects.update(subjects.keys())\n",
    "\n",
    "# 4️⃣ Crear un diccionario con calificaciones por materia\n",
    "grades_by_subject = {subject: [] for subject in unique_subjects}\n",
    "for _, subjects in students_data:\n",
    "    for subject, grade in subjects.items():\n",
    "        grades_by_subject[subject].append(grade)\n",
    "\n",
    "# 🖨️ Imprimir los resultados\n",
    "print(\"Expected average grades for each student\")\n",
    "for student, avg in average_grades.items():\n",
    "    print(f\"{student}: {avg}\")\n",
    "\n",
    "print(\"\\nExpected student with the highest average grade\")\n",
    "print(f\"{top_student}: {average_grades[top_student]}\")\n",
    "\n",
    "print(\"\\nExpected unique subjects\")\n",
    "print(unique_subjects)\n",
    "\n",
    "print(\"\\nExpected grades by subject dictionary\")\n",
    "print(grades_by_subject)\n"
   ]
  }
 ],
 "metadata": {
  "kernelspec": {
   "display_name": "Python 3 (ipykernel)",
   "language": "python",
   "name": "python3"
  },
  "language_info": {
   "codemirror_mode": {
    "name": "ipython",
    "version": 3
   },
   "file_extension": ".py",
   "mimetype": "text/x-python",
   "name": "python",
   "nbconvert_exporter": "python",
   "pygments_lexer": "ipython3",
   "version": "3.11.6"
  }
 },
 "nbformat": 4,
 "nbformat_minor": 5
}
