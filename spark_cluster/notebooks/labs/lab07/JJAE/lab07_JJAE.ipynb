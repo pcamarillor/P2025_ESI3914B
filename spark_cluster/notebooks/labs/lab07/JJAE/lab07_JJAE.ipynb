{
 "cells": [
  {
   "cell_type": "code",
   "execution_count": null,
   "metadata": {},
   "outputs": [],
   "source": [
    "import findspark\n",
    "findspark.init()"
   ]
  },
  {
   "cell_type": "code",
   "execution_count": null,
   "metadata": {},
   "outputs": [],
   "source": [
    "from pyspark.sql import SparkSession\n",
    "\n",
    "spark = SparkSession.builder \\\n",
    "    .appName(\"lab07-JJAE\") \\\n",
    "    .master(\"spark://1b1e9b41e03d:7077\") \\\n",
    "    .config(\"spark.ui.port\",\"4040\") \\\n",
    "    .getOrCreate()\n",
    "sc = spark.sparkContext"
   ]
  },
  {
   "cell_type": "code",
   "execution_count": null,
   "metadata": {},
   "outputs": [],
   "source": [
    "from team_name.spark_utils import SparkUtils\n",
    "from pyspark.sql.functions import split, col\n",
    "\n",
    "logs_schema = SparkUtils.generate_schema([(\"value\", \"string\")])\n",
    "\n",
    "logs_df = spark \\\n",
    "                .readStream \\\n",
    "                .schema(logs_schema) \\\n",
    "                .format(\"text\") \\\n",
    "                .option(\"cleanSource\", \"archive\") \\\n",
    "                .option(\"sourceArchiveDir\", \"/home/jovyan/archive\") \\\n",
    "                .load(\"/home/jovyan/notebooks/data/strucutred_streaming_files/\")\n",
    "\n",
    "parsed_df = logs_df.select(\n",
    "    split(col(\"value\"), \" \\\\| \").alias(\"parts\")\n",
    ").select(\n",
    "    col(\"parts\")[0].alias(\"date\"),\n",
    "    col(\"parts\")[1].alias(\"type\"),\n",
    "    col(\"parts\")[2].alias(\"description\"),\n",
    "    col(\"parts\")[3].alias(\"server_node\")\n",
    ")"
   ]
  },
  {
   "cell_type": "code",
   "execution_count": 7,
   "metadata": {},
   "outputs": [
    {
     "name": "stderr",
     "output_type": "stream",
     "text": [
      "25/04/03 00:44:09 WARN ResolveWriteToStream: Temporary checkpoint location created which is deleted normally when the query didn't fail: /tmp/temporary-8db79255-d49e-45c9-85c6-46fd4309f7b8. If it's required to delete it under any circumstances, please set spark.sql.streaming.forceDeleteTempCheckpointLocation to true. Important to know deleting temp checkpoint folder is best effort.\n",
      "25/04/03 00:44:09 WARN ResolveWriteToStream: spark.sql.adaptive.enabled is not supported in streaming DataFrames/Datasets and will be disabled.\n"
     ]
    },
    {
     "name": "stdout",
     "output_type": "stream",
     "text": [
      "-------------------------------------------\n",
      "Batch: 0\n",
      "-------------------------------------------\n",
      "+-------------------+----+--------------------+-------------+\n",
      "|               date|type|         description|  server_node|\n",
      "+-------------------+----+--------------------+-------------+\n",
      "|2025-04-02 18:41:45|WARN|Timeout on extern...|Server-node-5|\n",
      "|2025-04-02 18:41:45|WARN|Timeout on extern...|Server-node-2|\n",
      "|2025-04-02 18:41:45|INFO|Database connecti...|Server-node-3|\n",
      "|2025-04-02 18:41:45|WARN|Timeout on extern...|Server-node-4|\n",
      "|2025-04-02 18:41:45|WARN| Slow database query|Server-node-1|\n",
      "|2025-04-02 18:41:45|WARN|Timeout on extern...|Server-node-4|\n",
      "|2025-04-02 18:41:45|WARN|Configuration par...|Server-node-1|\n",
      "+-------------------+----+--------------------+-------------+\n",
      "\n"
     ]
    },
    {
     "name": "stderr",
     "output_type": "stream",
     "text": [
      "25/04/03 00:44:25 WARN FileStreamSource$SourceFileArchiver: Fail to move file:/home/jovyan/notebooks/data/strucutred_streaming_files/batch_10_logs_20250402_184145.log to file:/home/jovyan/archive/home/jovyan/notebooks/data/strucutred_streaming_files/batch_10_logs_20250402_184145.log / skip moving file.\n"
     ]
    },
    {
     "name": "stdout",
     "output_type": "stream",
     "text": [
      "-------------------------------------------\n",
      "Batch: 1\n",
      "-------------------------------------------\n",
      "+-------------------+-----+--------------------+-------------+\n",
      "|               date| type|         description|  server_node|\n",
      "+-------------------+-----+--------------------+-------------+\n",
      "|2025-04-02 18:44:25| INFO|Database connecti...|Server-node-2|\n",
      "|2025-04-02 18:44:25| WARN|High memory usage...|Server-node-2|\n",
      "|2025-04-02 18:44:25|ERROR|Authentication error|Server-node-1|\n",
      "|2025-04-02 18:44:25| INFO|Database connecti...|Server-node-1|\n",
      "|2025-04-02 18:44:25|ERROR| Out of memory error|Server-node-3|\n",
      "|2025-04-02 18:44:25|ERROR|  API request failed|Server-node-1|\n",
      "+-------------------+-----+--------------------+-------------+\n",
      "\n",
      "-------------------------------------------\n",
      "Batch: 11\n",
      "-------------------------------------------\n",
      "+-------------------+-----+--------------------+-------------+\n",
      "|               date| type|         description|  server_node|\n",
      "+-------------------+-----+--------------------+-------------+\n",
      "|2025-04-02 18:44:25| INFO|Database connecti...|Server-node-2|\n",
      "|2025-04-02 18:44:25| WARN|High memory usage...|Server-node-2|\n",
      "|2025-04-02 18:44:25|ERROR|Authentication error|Server-node-1|\n",
      "|2025-04-02 18:44:25| INFO|Database connecti...|Server-node-1|\n",
      "|2025-04-02 18:44:25|ERROR| Out of memory error|Server-node-3|\n",
      "|2025-04-02 18:44:25|ERROR|  API request failed|Server-node-1|\n",
      "+-------------------+-----+--------------------+-------------+\n",
      "\n"
     ]
    },
    {
     "name": "stderr",
     "output_type": "stream",
     "text": [
      "25/04/03 00:44:30 WARN FileStreamSource$SourceFileArchiver: Fail to move file:/home/jovyan/notebooks/data/strucutred_streaming_files/batch_1_logs_20250402_184425.log to file:/home/jovyan/archive/home/jovyan/notebooks/data/strucutred_streaming_files/batch_1_logs_20250402_184425.log / skip moving file.\n"
     ]
    },
    {
     "name": "stdout",
     "output_type": "stream",
     "text": [
      "-------------------------------------------\n",
      "Batch: 12\n",
      "-------------------------------------------\n",
      "+-------------------+-----+--------------------+-------------+\n",
      "|               date| type|         description|  server_node|\n",
      "+-------------------+-----+--------------------+-------------+\n",
      "|2025-04-02 18:44:30| INFO|     Cache refreshed|Server-node-2|\n",
      "|2025-04-02 18:44:30| INFO|User login succes...|Server-node-3|\n",
      "|2025-04-02 18:44:30| INFO|Scheduled task ex...|Server-node-5|\n",
      "|2025-04-02 18:44:30|ERROR| Unhandled exception|Server-node-1|\n",
      "|2025-04-02 18:44:30| INFO|Application start...|Server-node-4|\n",
      "|2025-04-02 18:44:30| INFO|Data processing c...|Server-node-2|\n",
      "|2025-04-02 18:44:30| INFO|User login succes...|Server-node-4|\n",
      "|2025-04-02 18:44:30|ERROR|Authentication error|Server-node-2|\n",
      "|2025-04-02 18:44:30| INFO|Data processing c...|Server-node-1|\n",
      "|2025-04-02 18:44:30| INFO|     Cache refreshed|Server-node-3|\n",
      "+-------------------+-----+--------------------+-------------+\n",
      "\n",
      "-------------------------------------------\n",
      "Batch: 2\n",
      "-------------------------------------------\n",
      "+-------------------+-----+--------------------+-------------+\n",
      "|               date| type|         description|  server_node|\n",
      "+-------------------+-----+--------------------+-------------+\n",
      "|2025-04-02 18:44:30| INFO|     Cache refreshed|Server-node-2|\n",
      "|2025-04-02 18:44:30| INFO|User login succes...|Server-node-3|\n",
      "|2025-04-02 18:44:30| INFO|Scheduled task ex...|Server-node-5|\n",
      "|2025-04-02 18:44:30|ERROR| Unhandled exception|Server-node-1|\n",
      "|2025-04-02 18:44:30| INFO|Application start...|Server-node-4|\n",
      "|2025-04-02 18:44:30| INFO|Data processing c...|Server-node-2|\n",
      "|2025-04-02 18:44:30| INFO|User login succes...|Server-node-4|\n",
      "|2025-04-02 18:44:30|ERROR|Authentication error|Server-node-2|\n",
      "|2025-04-02 18:44:30| INFO|Data processing c...|Server-node-1|\n",
      "|2025-04-02 18:44:30| INFO|     Cache refreshed|Server-node-3|\n",
      "+-------------------+-----+--------------------+-------------+\n",
      "\n"
     ]
    },
    {
     "name": "stderr",
     "output_type": "stream",
     "text": [
      "25/04/03 00:44:35 WARN FileStreamSource$SourceFileArchiver: Fail to move file:/home/jovyan/notebooks/data/strucutred_streaming_files/batch_2_logs_20250402_184430.log to file:/home/jovyan/archive/home/jovyan/notebooks/data/strucutred_streaming_files/batch_2_logs_20250402_184430.log / skip moving file.\n"
     ]
    },
    {
     "name": "stdout",
     "output_type": "stream",
     "text": [
      "-------------------------------------------\n",
      "Batch: 3\n",
      "-------------------------------------------\n",
      "+-------------------+-----+--------------------+-------------+\n",
      "|               date| type|         description|  server_node|\n",
      "+-------------------+-----+--------------------+-------------+\n",
      "|2025-04-02 18:44:35| WARN|Timeout on extern...|Server-node-5|\n",
      "|2025-04-02 18:44:35| WARN|High memory usage...|Server-node-1|\n",
      "|2025-04-02 18:44:35| WARN|High memory usage...|Server-node-1|\n",
      "|2025-04-02 18:44:35| WARN|Timeout on extern...|Server-node-2|\n",
      "|2025-04-02 18:44:35| INFO|Configuration loaded|Server-node-2|\n",
      "|2025-04-02 18:44:35|ERROR| Out of memory error|Server-node-3|\n",
      "|2025-04-02 18:44:35|ERROR| Out of memory error|Server-node-5|\n",
      "|2025-04-02 18:44:35| WARN|Configuration par...|Server-node-5|\n",
      "|2025-04-02 18:44:35| INFO|Scheduled task ex...|Server-node-2|\n",
      "+-------------------+-----+--------------------+-------------+\n",
      "\n",
      "-------------------------------------------\n",
      "Batch: 13\n",
      "-------------------------------------------\n",
      "+-------------------+-----+--------------------+-------------+\n",
      "|               date| type|         description|  server_node|\n",
      "+-------------------+-----+--------------------+-------------+\n",
      "|2025-04-02 18:44:35| WARN|Timeout on extern...|Server-node-5|\n",
      "|2025-04-02 18:44:35| WARN|High memory usage...|Server-node-1|\n",
      "|2025-04-02 18:44:35| WARN|High memory usage...|Server-node-1|\n",
      "|2025-04-02 18:44:35| WARN|Timeout on extern...|Server-node-2|\n",
      "|2025-04-02 18:44:35| INFO|Configuration loaded|Server-node-2|\n",
      "|2025-04-02 18:44:35|ERROR| Out of memory error|Server-node-3|\n",
      "|2025-04-02 18:44:35|ERROR| Out of memory error|Server-node-5|\n",
      "|2025-04-02 18:44:35| WARN|Configuration par...|Server-node-5|\n",
      "|2025-04-02 18:44:35| INFO|Scheduled task ex...|Server-node-2|\n",
      "+-------------------+-----+--------------------+-------------+\n",
      "\n"
     ]
    },
    {
     "name": "stderr",
     "output_type": "stream",
     "text": [
      "25/04/03 00:44:40 WARN FileStreamSource$SourceFileArchiver: Fail to move file:/home/jovyan/notebooks/data/strucutred_streaming_files/batch_3_logs_20250402_184435.log to file:/home/jovyan/archive/home/jovyan/notebooks/data/strucutred_streaming_files/batch_3_logs_20250402_184435.log / skip moving file.\n"
     ]
    },
    {
     "name": "stdout",
     "output_type": "stream",
     "text": [
      "-------------------------------------------\n",
      "Batch: 14\n",
      "-------------------------------------------\n",
      "+-------------------+-----+--------------------+-------------+\n",
      "|               date| type|         description|  server_node|\n",
      "+-------------------+-----+--------------------+-------------+\n",
      "|2025-04-02 18:44:40|ERROR|Authentication error|Server-node-2|\n",
      "|2025-04-02 18:44:40| INFO|User login succes...|Server-node-5|\n",
      "|2025-04-02 18:44:40| WARN| Slow database query|Server-node-4|\n",
      "|2025-04-02 18:44:40| WARN| Slow database query|Server-node-4|\n",
      "|2025-04-02 18:44:40| WARN|Timeout on extern...|Server-node-1|\n",
      "|2025-04-02 18:44:40|ERROR|Authentication error|Server-node-1|\n",
      "|2025-04-02 18:44:40| WARN| Slow database query|Server-node-5|\n",
      "|2025-04-02 18:44:40| WARN|Timeout on extern...|Server-node-4|\n",
      "|2025-04-02 18:44:40| INFO|Scheduled task ex...|Server-node-1|\n",
      "+-------------------+-----+--------------------+-------------+\n",
      "\n",
      "-------------------------------------------\n",
      "Batch: 4\n",
      "-------------------------------------------\n",
      "+-------------------+-----+--------------------+-------------+\n",
      "|               date| type|         description|  server_node|\n",
      "+-------------------+-----+--------------------+-------------+\n",
      "|2025-04-02 18:44:40|ERROR|Authentication error|Server-node-2|\n",
      "|2025-04-02 18:44:40| INFO|User login succes...|Server-node-5|\n",
      "|2025-04-02 18:44:40| WARN| Slow database query|Server-node-4|\n",
      "|2025-04-02 18:44:40| WARN| Slow database query|Server-node-4|\n",
      "|2025-04-02 18:44:40| WARN|Timeout on extern...|Server-node-1|\n",
      "|2025-04-02 18:44:40|ERROR|Authentication error|Server-node-1|\n",
      "|2025-04-02 18:44:40| WARN| Slow database query|Server-node-5|\n",
      "|2025-04-02 18:44:40| WARN|Timeout on extern...|Server-node-4|\n",
      "|2025-04-02 18:44:40| INFO|Scheduled task ex...|Server-node-1|\n",
      "+-------------------+-----+--------------------+-------------+\n",
      "\n"
     ]
    },
    {
     "name": "stderr",
     "output_type": "stream",
     "text": [
      "25/04/03 00:44:45 WARN FileStreamSource$SourceFileArchiver: Fail to move file:/home/jovyan/notebooks/data/strucutred_streaming_files/batch_4_logs_20250402_184440.log to file:/home/jovyan/archive/home/jovyan/notebooks/data/strucutred_streaming_files/batch_4_logs_20250402_184440.log / skip moving file.\n"
     ]
    },
    {
     "name": "stdout",
     "output_type": "stream",
     "text": [
      "-------------------------------------------\n",
      "Batch: 5\n",
      "-------------------------------------------\n",
      "+-------------------+-----+--------------------+-------------+\n",
      "|               date| type|         description|  server_node|\n",
      "+-------------------+-----+--------------------+-------------+\n",
      "|2025-04-02 18:44:45| WARN|Connection attemp...|Server-node-4|\n",
      "|2025-04-02 18:44:45| INFO|User login succes...|Server-node-3|\n",
      "|2025-04-02 18:44:45| WARN|Connection attemp...|Server-node-4|\n",
      "|2025-04-02 18:44:45| WARN|Connection attemp...|Server-node-4|\n",
      "|2025-04-02 18:44:45| INFO|Configuration loaded|Server-node-5|\n",
      "|2025-04-02 18:44:45|ERROR|Data corruption d...|Server-node-4|\n",
      "|2025-04-02 18:44:45| WARN| Slow database query|Server-node-5|\n",
      "|2025-04-02 18:44:45| INFO|Application start...|Server-node-2|\n",
      "|2025-04-02 18:44:45| WARN|Resource utilizat...|Server-node-3|\n",
      "|2025-04-02 18:44:45| INFO|Scheduled task ex...|Server-node-1|\n",
      "+-------------------+-----+--------------------+-------------+\n",
      "\n",
      "-------------------------------------------\n",
      "Batch: 15\n",
      "-------------------------------------------\n",
      "+-------------------+-----+--------------------+-------------+\n",
      "|               date| type|         description|  server_node|\n",
      "+-------------------+-----+--------------------+-------------+\n",
      "|2025-04-02 18:44:45| WARN|Connection attemp...|Server-node-4|\n",
      "|2025-04-02 18:44:45| INFO|User login succes...|Server-node-3|\n",
      "|2025-04-02 18:44:45| WARN|Connection attemp...|Server-node-4|\n",
      "|2025-04-02 18:44:45| WARN|Connection attemp...|Server-node-4|\n",
      "|2025-04-02 18:44:45| INFO|Configuration loaded|Server-node-5|\n",
      "|2025-04-02 18:44:45|ERROR|Data corruption d...|Server-node-4|\n",
      "|2025-04-02 18:44:45| WARN| Slow database query|Server-node-5|\n",
      "|2025-04-02 18:44:45| INFO|Application start...|Server-node-2|\n",
      "|2025-04-02 18:44:45| WARN|Resource utilizat...|Server-node-3|\n",
      "|2025-04-02 18:44:45| INFO|Scheduled task ex...|Server-node-1|\n",
      "+-------------------+-----+--------------------+-------------+\n",
      "\n",
      "-------------------------------------------\n",
      "Batch: 6\n",
      "-------------------------------------------\n",
      "+-------------------+-----+--------------------+-------------+\n",
      "|               date| type|         description|  server_node|\n",
      "+-------------------+-----+--------------------+-------------+\n",
      "|2025-04-02 18:44:50|ERROR|      File not found|Server-node-4|\n",
      "|2025-04-02 18:44:50| INFO|Configuration loaded|Server-node-5|\n",
      "|2025-04-02 18:44:50|ERROR|      File not found|Server-node-5|\n",
      "|2025-04-02 18:44:50| WARN|Configuration par...|Server-node-4|\n",
      "|2025-04-02 18:44:50|ERROR| Unhandled exception|Server-node-1|\n",
      "|2025-04-02 18:44:50| INFO|User login succes...|Server-node-5|\n",
      "+-------------------+-----+--------------------+-------------+\n",
      "\n",
      "-------------------------------------------\n",
      "Batch: 16\n",
      "-------------------------------------------\n",
      "+-------------------+-----+--------------------+-------------+\n",
      "|               date| type|         description|  server_node|\n",
      "+-------------------+-----+--------------------+-------------+\n",
      "|2025-04-02 18:44:50|ERROR|      File not found|Server-node-4|\n",
      "|2025-04-02 18:44:50| INFO|Configuration loaded|Server-node-5|\n",
      "|2025-04-02 18:44:50|ERROR|      File not found|Server-node-5|\n",
      "|2025-04-02 18:44:50| WARN|Configuration par...|Server-node-4|\n",
      "|2025-04-02 18:44:50|ERROR| Unhandled exception|Server-node-1|\n",
      "|2025-04-02 18:44:50| INFO|User login succes...|Server-node-5|\n",
      "+-------------------+-----+--------------------+-------------+\n",
      "\n"
     ]
    },
    {
     "name": "stderr",
     "output_type": "stream",
     "text": [
      "25/04/03 00:44:55 WARN FileStreamSource$SourceFileArchiver: Fail to move file:/home/jovyan/notebooks/data/strucutred_streaming_files/batch_6_logs_20250402_184450.log to file:/home/jovyan/archive/home/jovyan/notebooks/data/strucutred_streaming_files/batch_6_logs_20250402_184450.log / skip moving file.\n"
     ]
    },
    {
     "name": "stdout",
     "output_type": "stream",
     "text": [
      "-------------------------------------------\n",
      "Batch: 7\n",
      "-------------------------------------------\n",
      "+-------------------+-----+--------------------+-------------+\n",
      "|               date| type|         description|  server_node|\n",
      "+-------------------+-----+--------------------+-------------+\n",
      "|2025-04-02 18:44:55| INFO|Database connecti...|Server-node-4|\n",
      "|2025-04-02 18:44:55| WARN|Configuration par...|Server-node-4|\n",
      "|2025-04-02 18:44:55| WARN|Resource utilizat...|Server-node-5|\n",
      "|2025-04-02 18:44:55| INFO|Database connecti...|Server-node-2|\n",
      "|2025-04-02 18:44:55| WARN|Timeout on extern...|Server-node-3|\n",
      "|2025-04-02 18:44:55| INFO|Database connecti...|Server-node-3|\n",
      "|2025-04-02 18:44:55|ERROR|Data corruption d...|Server-node-2|\n",
      "|2025-04-02 18:44:55| INFO|     Cache refreshed|Server-node-5|\n",
      "|2025-04-02 18:44:55|ERROR| Unhandled exception|Server-node-4|\n",
      "+-------------------+-----+--------------------+-------------+\n",
      "\n",
      "-------------------------------------------\n",
      "Batch: 17\n",
      "-------------------------------------------\n",
      "+-------------------+-----+--------------------+-------------+\n",
      "|               date| type|         description|  server_node|\n",
      "+-------------------+-----+--------------------+-------------+\n",
      "|2025-04-02 18:44:55| INFO|Database connecti...|Server-node-4|\n",
      "|2025-04-02 18:44:55| WARN|Configuration par...|Server-node-4|\n",
      "|2025-04-02 18:44:55| WARN|Resource utilizat...|Server-node-5|\n",
      "|2025-04-02 18:44:55| INFO|Database connecti...|Server-node-2|\n",
      "|2025-04-02 18:44:55| WARN|Timeout on extern...|Server-node-3|\n",
      "|2025-04-02 18:44:55| INFO|Database connecti...|Server-node-3|\n",
      "|2025-04-02 18:44:55|ERROR|Data corruption d...|Server-node-2|\n",
      "|2025-04-02 18:44:55| INFO|     Cache refreshed|Server-node-5|\n",
      "|2025-04-02 18:44:55|ERROR| Unhandled exception|Server-node-4|\n",
      "+-------------------+-----+--------------------+-------------+\n",
      "\n"
     ]
    },
    {
     "name": "stderr",
     "output_type": "stream",
     "text": [
      "25/04/03 00:45:00 WARN FileStreamSource$SourceFileArchiver: Fail to move file:/home/jovyan/notebooks/data/strucutred_streaming_files/batch_7_logs_20250402_184455.log to file:/home/jovyan/archive/home/jovyan/notebooks/data/strucutred_streaming_files/batch_7_logs_20250402_184455.log / skip moving file.\n"
     ]
    },
    {
     "name": "stdout",
     "output_type": "stream",
     "text": [
      "-------------------------------------------\n",
      "Batch: 18\n",
      "-------------------------------------------\n",
      "+-------------------+-----+--------------------+-------------+\n",
      "|               date| type|         description|  server_node|\n",
      "+-------------------+-----+--------------------+-------------+\n",
      "|2025-04-02 18:45:00|ERROR|  API request failed|Server-node-1|\n",
      "|2025-04-02 18:45:00|ERROR|  API request failed|Server-node-1|\n",
      "|2025-04-02 18:45:00| WARN|Configuration par...|Server-node-3|\n",
      "|2025-04-02 18:45:00|ERROR|Database connecti...|Server-node-2|\n",
      "|2025-04-02 18:45:00|ERROR|Database connecti...|Server-node-4|\n",
      "|2025-04-02 18:45:00|ERROR|      File not found|Server-node-2|\n",
      "+-------------------+-----+--------------------+-------------+\n",
      "\n",
      "-------------------------------------------\n",
      "Batch: 8\n",
      "-------------------------------------------\n",
      "+-------------------+-----+--------------------+-------------+\n",
      "|               date| type|         description|  server_node|\n",
      "+-------------------+-----+--------------------+-------------+\n",
      "|2025-04-02 18:45:00|ERROR|  API request failed|Server-node-1|\n",
      "|2025-04-02 18:45:00|ERROR|  API request failed|Server-node-1|\n",
      "|2025-04-02 18:45:00| WARN|Configuration par...|Server-node-3|\n",
      "|2025-04-02 18:45:00|ERROR|Database connecti...|Server-node-2|\n",
      "|2025-04-02 18:45:00|ERROR|Database connecti...|Server-node-4|\n",
      "|2025-04-02 18:45:00|ERROR|      File not found|Server-node-2|\n",
      "+-------------------+-----+--------------------+-------------+\n",
      "\n"
     ]
    },
    {
     "name": "stderr",
     "output_type": "stream",
     "text": [
      "25/04/03 00:45:05 WARN FileStreamSource$SourceFileArchiver: Fail to move file:/home/jovyan/notebooks/data/strucutred_streaming_files/batch_8_logs_20250402_184500.log to file:/home/jovyan/archive/home/jovyan/notebooks/data/strucutred_streaming_files/batch_8_logs_20250402_184500.log / skip moving file.\n"
     ]
    },
    {
     "name": "stdout",
     "output_type": "stream",
     "text": [
      "-------------------------------------------\n",
      "Batch: 19\n",
      "-------------------------------------------\n",
      "+-------------------+-----+--------------------+-------------+\n",
      "|               date| type|         description|  server_node|\n",
      "+-------------------+-----+--------------------+-------------+\n",
      "|2025-04-02 18:45:05| WARN| Slow database query|Server-node-2|\n",
      "|2025-04-02 18:45:05| WARN|Connection attemp...|Server-node-3|\n",
      "|2025-04-02 18:45:05|ERROR| Unhandled exception|Server-node-5|\n",
      "|2025-04-02 18:45:05| INFO|User login succes...|Server-node-5|\n",
      "|2025-04-02 18:45:05| WARN| Slow database query|Server-node-3|\n",
      "|2025-04-02 18:45:05| INFO|Database connecti...|Server-node-5|\n",
      "|2025-04-02 18:45:05|ERROR| Unhandled exception|Server-node-5|\n",
      "+-------------------+-----+--------------------+-------------+\n",
      "\n",
      "-------------------------------------------\n",
      "Batch: 9\n",
      "-------------------------------------------\n",
      "+-------------------+-----+--------------------+-------------+\n",
      "|               date| type|         description|  server_node|\n",
      "+-------------------+-----+--------------------+-------------+\n",
      "|2025-04-02 18:45:05| WARN| Slow database query|Server-node-2|\n",
      "|2025-04-02 18:45:05| WARN|Connection attemp...|Server-node-3|\n",
      "|2025-04-02 18:45:05|ERROR| Unhandled exception|Server-node-5|\n",
      "|2025-04-02 18:45:05| INFO|User login succes...|Server-node-5|\n",
      "|2025-04-02 18:45:05| WARN| Slow database query|Server-node-3|\n",
      "|2025-04-02 18:45:05| INFO|Database connecti...|Server-node-5|\n",
      "|2025-04-02 18:45:05|ERROR| Unhandled exception|Server-node-5|\n",
      "+-------------------+-----+--------------------+-------------+\n",
      "\n"
     ]
    },
    {
     "name": "stderr",
     "output_type": "stream",
     "text": [
      "25/04/03 00:45:10 WARN FileStreamSource$SourceFileArchiver: Fail to move file:/home/jovyan/notebooks/data/strucutred_streaming_files/batch_9_logs_20250402_184505.log to file:/home/jovyan/archive/home/jovyan/notebooks/data/strucutred_streaming_files/batch_9_logs_20250402_184505.log / skip moving file.\n"
     ]
    },
    {
     "name": "stdout",
     "output_type": "stream",
     "text": [
      "-------------------------------------------\n",
      "Batch: 10\n",
      "-------------------------------------------\n",
      "+-------------------+-----+--------------------+-------------+\n",
      "|               date| type|         description|  server_node|\n",
      "+-------------------+-----+--------------------+-------------+\n",
      "|2025-04-02 18:45:10|ERROR|Authentication error|Server-node-2|\n",
      "|2025-04-02 18:45:10| WARN|Configuration par...|Server-node-5|\n",
      "|2025-04-02 18:45:10| INFO|     Cache refreshed|Server-node-1|\n",
      "|2025-04-02 18:45:10| WARN|Resource utilizat...|Server-node-4|\n",
      "|2025-04-02 18:45:10| WARN|High memory usage...|Server-node-5|\n",
      "|2025-04-02 18:45:10| INFO|Configuration loaded|Server-node-5|\n",
      "|2025-04-02 18:45:10|ERROR|      File not found|Server-node-5|\n",
      "+-------------------+-----+--------------------+-------------+\n",
      "\n",
      "-------------------------------------------\n",
      "Batch: 20\n",
      "-------------------------------------------\n",
      "+-------------------+-----+--------------------+-------------+\n",
      "|               date| type|         description|  server_node|\n",
      "+-------------------+-----+--------------------+-------------+\n",
      "|2025-04-02 18:45:10|ERROR|Authentication error|Server-node-2|\n",
      "|2025-04-02 18:45:10| WARN|Configuration par...|Server-node-5|\n",
      "|2025-04-02 18:45:10| INFO|     Cache refreshed|Server-node-1|\n",
      "|2025-04-02 18:45:10| WARN|Resource utilizat...|Server-node-4|\n",
      "|2025-04-02 18:45:10| WARN|High memory usage...|Server-node-5|\n",
      "|2025-04-02 18:45:10| INFO|Configuration loaded|Server-node-5|\n",
      "|2025-04-02 18:45:10|ERROR|      File not found|Server-node-5|\n",
      "+-------------------+-----+--------------------+-------------+\n",
      "\n"
     ]
    },
    {
     "name": "stderr",
     "output_type": "stream",
     "text": [
      "ERROR:root:KeyboardInterrupt while sending command.\n",
      "Traceback (most recent call last):\n",
      "  File \"/opt/conda/spark-3.5.4-bin-hadoop3-scala2.13/python/lib/py4j-0.10.9.7-src.zip/py4j/java_gateway.py\", line 1038, in send_command\n",
      "    response = connection.send_command(command)\n",
      "               ^^^^^^^^^^^^^^^^^^^^^^^^^^^^^^^^\n",
      "  File \"/opt/conda/spark-3.5.4-bin-hadoop3-scala2.13/python/lib/py4j-0.10.9.7-src.zip/py4j/clientserver.py\", line 511, in send_command\n",
      "    answer = smart_decode(self.stream.readline()[:-1])\n",
      "                          ^^^^^^^^^^^^^^^^^^^^^^\n",
      "  File \"/opt/conda/lib/python3.11/socket.py\", line 706, in readinto\n",
      "    return self._sock.recv_into(b)\n",
      "           ^^^^^^^^^^^^^^^^^^^^^^^\n",
      "KeyboardInterrupt\n"
     ]
    },
    {
     "ename": "KeyboardInterrupt",
     "evalue": "",
     "output_type": "error",
     "traceback": [
      "\u001b[0;31m---------------------------------------------------------------------------\u001b[0m",
      "\u001b[0;31mKeyboardInterrupt\u001b[0m                         Traceback (most recent call last)",
      "Cell \u001b[0;32mIn[7], line 6\u001b[0m\n\u001b[1;32m      1\u001b[0m query \u001b[38;5;241m=\u001b[39m parsed_df\u001b[38;5;241m.\u001b[39mwriteStream \\\n\u001b[1;32m      2\u001b[0m     \u001b[38;5;241m.\u001b[39moutputMode(\u001b[38;5;124m\"\u001b[39m\u001b[38;5;124mappend\u001b[39m\u001b[38;5;124m\"\u001b[39m) \\\n\u001b[1;32m      3\u001b[0m     \u001b[38;5;241m.\u001b[39mformat(\u001b[38;5;124m\"\u001b[39m\u001b[38;5;124mconsole\u001b[39m\u001b[38;5;124m\"\u001b[39m) \\\n\u001b[1;32m      4\u001b[0m     \u001b[38;5;241m.\u001b[39mstart()\n\u001b[0;32m----> 6\u001b[0m \u001b[43mquery\u001b[49m\u001b[38;5;241;43m.\u001b[39;49m\u001b[43mawaitTermination\u001b[49m\u001b[43m(\u001b[49m\u001b[43m)\u001b[49m\n",
      "File \u001b[0;32m/opt/conda/spark-3.5.4-bin-hadoop3-scala2.13/python/pyspark/sql/streaming/query.py:221\u001b[0m, in \u001b[0;36mStreamingQuery.awaitTermination\u001b[0;34m(self, timeout)\u001b[0m\n\u001b[1;32m    219\u001b[0m     \u001b[38;5;28;01mreturn\u001b[39;00m \u001b[38;5;28mself\u001b[39m\u001b[38;5;241m.\u001b[39m_jsq\u001b[38;5;241m.\u001b[39mawaitTermination(\u001b[38;5;28mint\u001b[39m(timeout \u001b[38;5;241m*\u001b[39m \u001b[38;5;241m1000\u001b[39m))\n\u001b[1;32m    220\u001b[0m \u001b[38;5;28;01melse\u001b[39;00m:\n\u001b[0;32m--> 221\u001b[0m     \u001b[38;5;28;01mreturn\u001b[39;00m \u001b[38;5;28;43mself\u001b[39;49m\u001b[38;5;241;43m.\u001b[39;49m\u001b[43m_jsq\u001b[49m\u001b[38;5;241;43m.\u001b[39;49m\u001b[43mawaitTermination\u001b[49m\u001b[43m(\u001b[49m\u001b[43m)\u001b[49m\n",
      "File \u001b[0;32m/opt/conda/spark-3.5.4-bin-hadoop3-scala2.13/python/lib/py4j-0.10.9.7-src.zip/py4j/java_gateway.py:1321\u001b[0m, in \u001b[0;36mJavaMember.__call__\u001b[0;34m(self, *args)\u001b[0m\n\u001b[1;32m   1314\u001b[0m args_command, temp_args \u001b[38;5;241m=\u001b[39m \u001b[38;5;28mself\u001b[39m\u001b[38;5;241m.\u001b[39m_build_args(\u001b[38;5;241m*\u001b[39margs)\n\u001b[1;32m   1316\u001b[0m command \u001b[38;5;241m=\u001b[39m proto\u001b[38;5;241m.\u001b[39mCALL_COMMAND_NAME \u001b[38;5;241m+\u001b[39m\\\n\u001b[1;32m   1317\u001b[0m     \u001b[38;5;28mself\u001b[39m\u001b[38;5;241m.\u001b[39mcommand_header \u001b[38;5;241m+\u001b[39m\\\n\u001b[1;32m   1318\u001b[0m     args_command \u001b[38;5;241m+\u001b[39m\\\n\u001b[1;32m   1319\u001b[0m     proto\u001b[38;5;241m.\u001b[39mEND_COMMAND_PART\n\u001b[0;32m-> 1321\u001b[0m answer \u001b[38;5;241m=\u001b[39m \u001b[38;5;28;43mself\u001b[39;49m\u001b[38;5;241;43m.\u001b[39;49m\u001b[43mgateway_client\u001b[49m\u001b[38;5;241;43m.\u001b[39;49m\u001b[43msend_command\u001b[49m\u001b[43m(\u001b[49m\u001b[43mcommand\u001b[49m\u001b[43m)\u001b[49m\n\u001b[1;32m   1322\u001b[0m return_value \u001b[38;5;241m=\u001b[39m get_return_value(\n\u001b[1;32m   1323\u001b[0m     answer, \u001b[38;5;28mself\u001b[39m\u001b[38;5;241m.\u001b[39mgateway_client, \u001b[38;5;28mself\u001b[39m\u001b[38;5;241m.\u001b[39mtarget_id, \u001b[38;5;28mself\u001b[39m\u001b[38;5;241m.\u001b[39mname)\n\u001b[1;32m   1325\u001b[0m \u001b[38;5;28;01mfor\u001b[39;00m temp_arg \u001b[38;5;129;01min\u001b[39;00m temp_args:\n",
      "File \u001b[0;32m/opt/conda/spark-3.5.4-bin-hadoop3-scala2.13/python/lib/py4j-0.10.9.7-src.zip/py4j/java_gateway.py:1038\u001b[0m, in \u001b[0;36mGatewayClient.send_command\u001b[0;34m(self, command, retry, binary)\u001b[0m\n\u001b[1;32m   1036\u001b[0m connection \u001b[38;5;241m=\u001b[39m \u001b[38;5;28mself\u001b[39m\u001b[38;5;241m.\u001b[39m_get_connection()\n\u001b[1;32m   1037\u001b[0m \u001b[38;5;28;01mtry\u001b[39;00m:\n\u001b[0;32m-> 1038\u001b[0m     response \u001b[38;5;241m=\u001b[39m \u001b[43mconnection\u001b[49m\u001b[38;5;241;43m.\u001b[39;49m\u001b[43msend_command\u001b[49m\u001b[43m(\u001b[49m\u001b[43mcommand\u001b[49m\u001b[43m)\u001b[49m\n\u001b[1;32m   1039\u001b[0m     \u001b[38;5;28;01mif\u001b[39;00m binary:\n\u001b[1;32m   1040\u001b[0m         \u001b[38;5;28;01mreturn\u001b[39;00m response, \u001b[38;5;28mself\u001b[39m\u001b[38;5;241m.\u001b[39m_create_connection_guard(connection)\n",
      "File \u001b[0;32m/opt/conda/spark-3.5.4-bin-hadoop3-scala2.13/python/lib/py4j-0.10.9.7-src.zip/py4j/clientserver.py:511\u001b[0m, in \u001b[0;36mClientServerConnection.send_command\u001b[0;34m(self, command)\u001b[0m\n\u001b[1;32m    509\u001b[0m \u001b[38;5;28;01mtry\u001b[39;00m:\n\u001b[1;32m    510\u001b[0m     \u001b[38;5;28;01mwhile\u001b[39;00m \u001b[38;5;28;01mTrue\u001b[39;00m:\n\u001b[0;32m--> 511\u001b[0m         answer \u001b[38;5;241m=\u001b[39m smart_decode(\u001b[38;5;28mself\u001b[39m\u001b[38;5;241m.\u001b[39mstream\u001b[38;5;241m.\u001b[39mreadline()[:\u001b[38;5;241m-\u001b[39m\u001b[38;5;241m1\u001b[39m])\n\u001b[1;32m    512\u001b[0m         logger\u001b[38;5;241m.\u001b[39mdebug(\u001b[38;5;124m\"\u001b[39m\u001b[38;5;124mAnswer received: \u001b[39m\u001b[38;5;132;01m{0}\u001b[39;00m\u001b[38;5;124m\"\u001b[39m\u001b[38;5;241m.\u001b[39mformat(answer))\n\u001b[1;32m    513\u001b[0m         \u001b[38;5;66;03m# Happens when a the other end is dead. There might be an empty\u001b[39;00m\n\u001b[1;32m    514\u001b[0m         \u001b[38;5;66;03m# answer before the socket raises an error.\u001b[39;00m\n",
      "File \u001b[0;32m/opt/conda/lib/python3.11/socket.py:706\u001b[0m, in \u001b[0;36mSocketIO.readinto\u001b[0;34m(self, b)\u001b[0m\n\u001b[1;32m    704\u001b[0m \u001b[38;5;28;01mwhile\u001b[39;00m \u001b[38;5;28;01mTrue\u001b[39;00m:\n\u001b[1;32m    705\u001b[0m     \u001b[38;5;28;01mtry\u001b[39;00m:\n\u001b[0;32m--> 706\u001b[0m         \u001b[38;5;28;01mreturn\u001b[39;00m \u001b[38;5;28;43mself\u001b[39;49m\u001b[38;5;241;43m.\u001b[39;49m\u001b[43m_sock\u001b[49m\u001b[38;5;241;43m.\u001b[39;49m\u001b[43mrecv_into\u001b[49m\u001b[43m(\u001b[49m\u001b[43mb\u001b[49m\u001b[43m)\u001b[49m\n\u001b[1;32m    707\u001b[0m     \u001b[38;5;28;01mexcept\u001b[39;00m timeout:\n\u001b[1;32m    708\u001b[0m         \u001b[38;5;28mself\u001b[39m\u001b[38;5;241m.\u001b[39m_timeout_occurred \u001b[38;5;241m=\u001b[39m \u001b[38;5;28;01mTrue\u001b[39;00m\n",
      "\u001b[0;31mKeyboardInterrupt\u001b[0m: "
     ]
    }
   ],
   "source": [
    "query = parsed_df.writeStream \\\n",
    "    .outputMode(\"append\") \\\n",
    "    .format(\"console\") \\\n",
    "    .start()\n",
    "\n",
    "query.awaitTermination()"
   ]
  }
 ],
 "metadata": {
  "kernelspec": {
   "display_name": "Python 3 (ipykernel)",
   "language": "python",
   "name": "python3"
  },
  "language_info": {
   "codemirror_mode": {
    "name": "ipython",
    "version": 3
   },
   "file_extension": ".py",
   "mimetype": "text/x-python",
   "name": "python",
   "nbconvert_exporter": "python",
   "pygments_lexer": "ipython3",
   "version": "3.11.6"
  }
 },
 "nbformat": 4,
 "nbformat_minor": 2
}
