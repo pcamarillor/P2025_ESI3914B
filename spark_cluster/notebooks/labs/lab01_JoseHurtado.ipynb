{
 "cells": [
  {
   "cell_type": "markdown",
   "metadata": {},
   "source": [
    "# <center> <img src=\"img/ITESOLogo.png\" alt=\"ITESO\" width=\"480\" height=\"130\"> </center>\n",
    "# <center> **Departamento de Electrónica, Sistemas e Informática** </center>\n",
    "---\n",
    "## <center> **Carrera: Ing. Sistemas Computacionales </center>\n",
    "---\n",
    "### <center> **Primavera 2025** </center>\n",
    "---\n",
    "\n",
    "**Lab 01**: Student Grade Analyzer\n",
    "\n",
    "**Fecha**: 03/02/2025\n",
    "\n",
    "**Nombre del Estudiante**: Jose Eduardo Hurtado Gomez\n",
    "\n",
    "**Profesor**: Pablo Camarillo Ramirez"
   ]
  },
  {
   "cell_type": "markdown",
   "metadata": {},
   "source": [
    "### Problem Statement\n",
    "You are given a list of students and their grades in multiple subjects. Your task is to\n"
   ]
  },
  {
   "cell_type": "code",
   "execution_count": null,
   "metadata": {},
   "outputs": [],
   "source": [
    "# Calculate the average grade for each student.\n",
    "students_data = [(\"Alice\", {\"Math\": 90, \"Science\": 85, \"History\": 78}),\n",
    "        (\"Bob\", {\"Math\": 88, \"Science\": 92, \"History\": 80}),\n",
    "        (\"Charlie\", {\"Math\": 78, \"Science\": 85, \"History\": 88})]\n",
    "\n",
    "# Average of each student\n",
    "# Structure: {name, average}\n",
    "result = {}\n",
    "for student in students_data:\n",
    "    name = student[0]\n",
    "    subjects = student[1]\n",
    "    total = sum(subjects.values())\n",
    "    average = total / len(subjects)\n",
    "    result[name] = average\n",
    "\n",
    "print(f'1. Average of each student: {result}')"
   ]
  },
  {
   "cell_type": "code",
   "execution_count": null,
   "metadata": {},
   "outputs": [],
   "source": [
    "# Find the student with the highest average grade.\n",
    "highest_index = None\n",
    "highest_average = 0\n",
    "\n",
    "for student, average in result.items():\n",
    "    if average > highest_average:\n",
    "        highest_average = average\n",
    "        highest_index = student\n",
    "\n",
    "print(f'2. Student with the highest average grade: {highest_index} with {highest_average}')\n"
   ]
  },
  {
   "cell_type": "code",
   "execution_count": null,
   "metadata": {},
   "outputs": [],
   "source": [
    "# Identify all unique subjects across all students.\n",
    "unique = set()\n",
    "for student in students_data:\n",
    "    subjects = student[1]\n",
    "    unique.update(subjects.keys())\n",
    "\n",
    "print(f'3. Unique subjects: {unique}')\n"
   ]
  },
  {
   "cell_type": "code",
   "execution_count": null,
   "metadata": {},
   "outputs": [],
   "source": [
    "# Create a dictionary to store the grades of each subject for all students\n",
    "result_dictionary = {}\n",
    "for student in students_data:\n",
    "    subjects = student[1]\n",
    "    for subject, grade in subjects.items():\n",
    "        if subject not in result_dictionary:\n",
    "            result_dictionary[subject] = []\n",
    "        result_dictionary[subject].append(grade)\n",
    "\n",
    "print(f'4. Grades for each subject: {result_dictionary}')"
   ]
  }
 ],
 "metadata": {
  "kernelspec": {
   "display_name": "Python 3",
   "language": "python",
   "name": "python3"
  },
  "language_info": {
   "name": "python",
   "version": "3.11.7"
  }
 },
 "nbformat": 4,
 "nbformat_minor": 2
}
