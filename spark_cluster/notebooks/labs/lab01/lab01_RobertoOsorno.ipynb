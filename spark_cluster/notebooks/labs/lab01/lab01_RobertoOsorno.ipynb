{
 "cells": [
  {
   "cell_type": "code",
   "execution_count": 1,
   "metadata": {},
   "outputs": [],
   "source": [
    "students_data = [(\"Alice\", {\"Math\": 90, \"Science\": 85, \"History\": 78}),\n",
    "(\"Bob\", {\"Math\": 88, \"Science\": 92, \"History\": 80}),\n",
    "(\"Charlie\", {\"Math\": 78, \"Science\": 85, \"History\": 88})]"
   ]
  },
  {
   "cell_type": "code",
   "execution_count": 2,
   "metadata": {},
   "outputs": [
    {
     "name": "stdout",
     "output_type": "stream",
     "text": [
      "Alice had an average grade of 84.33333333333333\n",
      "Bob had an average grade of 86.66666666666667\n",
      "Charlie had an average grade of 83.66666666666667\n"
     ]
    }
   ],
   "source": [
    "def average_grade(data):\n",
    "    for student in data:\n",
    "        name = student[0]\n",
    "        grades = student[1]\n",
    "        average = sum(grades.values()) / len(grades)\n",
    "        print(f\"{name} had an average grade of {average}\")\n",
    "\n",
    "average_grade(students_data)"
   ]
  },
  {
   "cell_type": "code",
   "execution_count": 6,
   "metadata": {},
   "outputs": [
    {
     "name": "stdout",
     "output_type": "stream",
     "text": [
      "Bob: 86.66666666666667\n"
     ]
    }
   ],
   "source": [
    "def highest_average_grade(data):\n",
    "    highest = 0\n",
    "    student_name = \"\"\n",
    "    for student in data:\n",
    "        name = student[0]\n",
    "        grades = student[1]\n",
    "        average = sum(grades.values()) / len(grades)\n",
    "        if average > highest:\n",
    "            highest = average\n",
    "            student_name = name\n",
    "    print(f\"{student_name}: {highest}\")\n",
    "\n",
    "highest_average_grade(students_data)"
   ]
  },
  {
   "cell_type": "code",
   "execution_count": 7,
   "metadata": {},
   "outputs": [
    {
     "name": "stdout",
     "output_type": "stream",
     "text": [
      "{'History', 'Science', 'Math'}\n"
     ]
    }
   ],
   "source": [
    "def unique_subjects(data):\n",
    "    subjects = set()\n",
    "    for student in data:\n",
    "        grades = student[1]\n",
    "        for subject in grades:\n",
    "            subjects.add(subject)\n",
    "    print(subjects)\n",
    "\n",
    "unique_subjects(students_data)"
   ]
  },
  {
   "cell_type": "code",
   "execution_count": 8,
   "metadata": {},
   "outputs": [
    {
     "name": "stdout",
     "output_type": "stream",
     "text": [
      "Alice: {'Math': 90, 'Science': 85, 'History': 78}\n",
      "Bob: {'Math': 88, 'Science': 92, 'History': 80}\n",
      "Charlie: {'Math': 78, 'Science': 85, 'History': 88}\n"
     ]
    }
   ],
   "source": [
    "def grades_by_student(data):\n",
    "    for name, grades in data.items():\n",
    "        print(f\"{name}: {grades}\")\n",
    "\n",
    "students_dict = {student[0]: student[1] for student in students_data}\n",
    "\n",
    "grades_by_student(students_dict)"
   ]
  }
 ],
 "metadata": {
  "kernelspec": {
   "display_name": "Python 3",
   "language": "python",
   "name": "python3"
  },
  "language_info": {
   "codemirror_mode": {
    "name": "ipython",
    "version": 3
   },
   "file_extension": ".py",
   "mimetype": "text/x-python",
   "name": "python",
   "nbconvert_exporter": "python",
   "pygments_lexer": "ipython3",
   "version": "3.12.4"
  }
 },
 "nbformat": 4,
 "nbformat_minor": 2
}
