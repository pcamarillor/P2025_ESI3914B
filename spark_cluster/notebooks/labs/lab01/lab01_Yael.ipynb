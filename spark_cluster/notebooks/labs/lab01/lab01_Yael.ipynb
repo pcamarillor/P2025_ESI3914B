{
 "cells": [
  {
   "cell_type": "markdown",
   "metadata": {},
   "source": [
    "# <center> <img src=\"img/ITESOLogo.png\" alt=\"ITESO\" width=\"480\" height=\"130\"> </center>\n",
    "# <center> **Departamento de Electrónica, Sistemas e Informática** </center>\n",
    "---\n",
    "## <center> **Carrera: <Coloca el nombre de tu carrera aqui>** </center>\n",
    "---\n",
    "### <center> **Primavera 2025** </center>\n",
    "---\n",
    "\n",
    "**Lab 1**\n",
    "\n",
    "**Fecha**: 31 de Enero del 2025\n",
    "\n",
    "**Nombre del Estudiante**: Yael Alejandro Rodríguez Barreto\n",
    "\n",
    "**Profesor**: Pablo Camarillo Ramirez"
   ]
  },
  {
   "cell_type": "markdown",
   "metadata": {},
   "source": [
    "1. Ingreso de datos mediante la variable students_data"
   ]
  },
  {
   "cell_type": "code",
   "execution_count": 1,
   "metadata": {},
   "outputs": [],
   "source": [
    "students_data = [\n",
    "(\"Alice\", {\"Math\": 90, \"Science\": 85, \"History\": 78}),\n",
    "(\"Bob\", {\"Math\": 88, \"Science\": 92, \"History\": 80}),\n",
    "(\"Charlie\", {\"Math\": 78, \"Science\": 85, \"History\": 88})\n",
    "]"
   ]
  },
  {
   "cell_type": "markdown",
   "metadata": {},
   "source": [
    "2. Creación del diccionario con las calificaciones de cada materia, variable para almacenar el promedio de cada alumno y variable con mayor promedio"
   ]
  },
  {
   "cell_type": "code",
   "execution_count": 2,
   "metadata": {},
   "outputs": [],
   "source": [
    "subjects = {}\n",
    "maxAverage = (0, \"\")\n",
    "studentsAverage = []"
   ]
  },
  {
   "cell_type": "markdown",
   "metadata": {},
   "source": [
    "3. Iteración de la entrada de datos para la obtención de información"
   ]
  },
  {
   "cell_type": "code",
   "execution_count": 3,
   "metadata": {},
   "outputs": [],
   "source": [
    "for i in students_data: \n",
    "    student = i[0] #Obtención del alumno \n",
    "    grades = i[1] #Obtención de las calificaciones \n",
    "    average = 0 #Inicialización del alumno\n",
    "    total = 0 #Conteo de calificaciones\n",
    "    \n",
    "    for sub, grade in grades.items():\n",
    "        #Guardado de calificación por materia\n",
    "        if(sub not in subjects): subjects[sub] = []\n",
    "        subjects[sub].append(grade)\n",
    "        \n",
    "        #Calculo del promedio\n",
    "        average += grade \n",
    "        total += 1\n",
    "    #Guardado de los promedios\n",
    "    average /= total\n",
    "    studentsAverage.append((student, average))\n",
    "    maxAverage = (average, student) if maxAverage[0] < average else maxAverage\n",
    "        "
   ]
  },
  {
   "cell_type": "markdown",
   "metadata": {},
   "source": [
    "4. Impresión del promedio de cada alumno"
   ]
  },
  {
   "cell_type": "code",
   "execution_count": 4,
   "metadata": {},
   "outputs": [
    {
     "name": "stdout",
     "output_type": "stream",
     "text": [
      "Alice: 84.33, Bob: 86.67, Charlie: 83.67\n"
     ]
    }
   ],
   "source": [
    "for i in range(len(studentsAverage)-1):\n",
    "    print(f\"{studentsAverage[i][0]}: {studentsAverage[i][1]:.2f}, \", end=\"\")\n",
    "print(f\"{studentsAverage[-1][0]}: {studentsAverage[-1][1]:.2f}\")"
   ]
  },
  {
   "cell_type": "markdown",
   "metadata": {},
   "source": [
    "5. Impresión del alumno con mayor promedio"
   ]
  },
  {
   "cell_type": "code",
   "execution_count": 5,
   "metadata": {},
   "outputs": [
    {
     "name": "stdout",
     "output_type": "stream",
     "text": [
      "Bob: 86.67 \n"
     ]
    }
   ],
   "source": [
    "print(f\"{maxAverage[1]}: {maxAverage[0]:.2f} \")"
   ]
  },
  {
   "cell_type": "markdown",
   "metadata": {},
   "source": [
    "6. Impresión de las materia únicas"
   ]
  },
  {
   "cell_type": "code",
   "execution_count": 6,
   "metadata": {},
   "outputs": [
    {
     "name": "stdout",
     "output_type": "stream",
     "text": [
      "{'History', 'Math', 'Science'}\n"
     ]
    }
   ],
   "source": [
    "print(set(subjects.keys()))"
   ]
  },
  {
   "cell_type": "markdown",
   "metadata": {},
   "source": [
    "7. Impresión de las calificaciones por materia"
   ]
  },
  {
   "cell_type": "code",
   "execution_count": 7,
   "metadata": {},
   "outputs": [
    {
     "name": "stdout",
     "output_type": "stream",
     "text": [
      "{'Math': [90, 88, 78], 'Science': [85, 92, 85], 'History': [78, 80, 88]}\n"
     ]
    }
   ],
   "source": [
    "print(subjects)"
   ]
  }
 ],
 "metadata": {
  "kernelspec": {
   "display_name": "Python 3 (ipykernel)",
   "language": "python",
   "name": "python3"
  }
 },
 "nbformat": 4,
 "nbformat_minor": 4
}
