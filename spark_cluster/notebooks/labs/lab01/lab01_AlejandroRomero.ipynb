{
 "cells": [
  {
   "cell_type": "markdown",
   "metadata": {
    "id": "pQvlXl2w92v_"
   },
   "source": []
  },
  {
   "cell_type": "markdown",
   "metadata": {
    "id": "8YLL53wb92v_"
   },
   "source": [
    "# <center> <img src=\"img/ITESOLogo.png\" alt=\"ITESO\" width=\"480\" height=\"130\"> </center>\n",
    "# <center> **Departamento de Electrónica, Sistemas e Informática** </center>\n",
    "---\n",
    "## <center> **Carrera: <Coloca el nombre de tu carrera aqui>** </center>\n",
    "---\n",
    "### <center> **Primavera 2025** </center>\n",
    "---\n",
    "\n",
    "\n",
    "**Lab XX**: 01\n",
    "\n",
    "\n",
    "**Fecha**: 3 de Febrero de 2025\n",
    "\n",
    "\n",
    "**Nombre del Estudiante**: Alejandro Samuel Romero Mora\n",
    "\n",
    "\n",
    "**Pr\n"
   ]
  },
  {
   "cell_type": "code",
   "execution_count": 13,
   "metadata": {
    "executionInfo": {
     "elapsed": 99,
     "status": "ok",
     "timestamp": 1738639195406,
     "user": {
      "displayName": "Samuel Romero.",
      "userId": "07126115101105070884"
     },
     "user_tz": 360
    },
    "id": "PBnT2wLg92wA"
   },
   "outputs": [],
   "source": [
    "students_data = [(\"Alice\", {\"Math\": 90, \"Science\": 85, \"History\": 78}),\n",
    "(\"Bob\", {\"Math\": 88, \"Science\": 92, \"History\": 80}),\n",
    "(\"Charlie\", {\"Math\": 78, \"Science\": 85, \"History\": 88})]"
   ]
  },
  {
   "cell_type": "code",
   "execution_count": 14,
   "metadata": {
    "colab": {
     "base_uri": "https://localhost:8080/"
    },
    "executionInfo": {
     "elapsed": 130,
     "status": "ok",
     "timestamp": 1738639200617,
     "user": {
      "displayName": "Samuel Romero.",
      "userId": "07126115101105070884"
     },
     "user_tz": 360
    },
    "id": "XeQf812k92wB",
    "outputId": "b5205e97-d9fa-4ad3-fa8f-d84bd4915c99"
   },
   "outputs": [
    {
     "name": "stdout",
     "output_type": "stream",
     "text": [
      "{'Alice': 84.33, 'Bob': 86.67, 'Charlie': 83.67}\n"
     ]
    }
   ],
   "source": [
    "def average_grade(students_data):\n",
    "    avg_grade = 0.0\n",
    "    avg_grades = {}\n",
    "    for i in students_data:\n",
    "        #print(i[0])\n",
    "        grades = i[1]\n",
    "        avg_grade += grades[\"Math\"]\n",
    "        avg_grade += grades[\"Science\"]\n",
    "        avg_grade += grades[\"History\"]\n",
    "        avg_grade = round(avg_grade/3, 2)\n",
    "        avg_grades[i[0]] = avg_grade\n",
    "        avg_grade = 0\n",
    "    return avg_grades\n",
    "print(average_grade(students_data))"
   ]
  },
  {
   "cell_type": "markdown",
   "metadata": {
    "id": "q8Hw7i7w92wB"
   },
   "source": []
  },
  {
   "cell_type": "code",
   "execution_count": 9,
   "metadata": {
    "colab": {
     "base_uri": "https://localhost:8080/"
    },
    "executionInfo": {
     "elapsed": 103,
     "status": "ok",
     "timestamp": 1738639259712,
     "user": {
      "displayName": "Samuel Romero.",
      "userId": "07126115101105070884"
     },
     "user_tz": 360
    },
    "id": "1rhc3jHo92wB",
    "outputId": "ee71e384-06a7-4408-9bd8-10e1b44a0c71"
   },
   "outputs": [
    {
     "name": "stdout",
     "output_type": "stream",
     "text": [
      "Bob: 86.67\n"
     ]
    }
   ],
   "source": [
    "def highest_averaga_grade(students_data):\n",
    "    average_grades = average_grade(students_data)\n",
    "    #print(average_grades)\n",
    "    highest_grade = None\n",
    "    highest_student = None\n",
    "    for i in average_grades:\n",
    "        j = average_grades[i]\n",
    "        if highest_grade is None:\n",
    "            highest_grade = j\n",
    "            highest_student = i\n",
    "        elif j > highest_grade:\n",
    "            highest_grade = j\n",
    "            highest_student = i\n",
    "        else:\n",
    "            continue\n",
    "    return highest_student + \": \" + str(highest_grade)\n",
    "\n",
    "print(highest_averaga_grade(students_data))"
   ]
  },
  {
   "cell_type": "code",
   "execution_count": 5,
   "metadata": {
    "colab": {
     "base_uri": "https://localhost:8080/"
    },
    "executionInfo": {
     "elapsed": 114,
     "status": "ok",
     "timestamp": 1738639212422,
     "user": {
      "displayName": "Samuel Romero.",
      "userId": "07126115101105070884"
     },
     "user_tz": 360
    },
    "id": "wgQGUUPk92wC",
    "outputId": "dcc922fc-78a8-41d3-dc19-af518cc943b2"
   },
   "outputs": [
    {
     "name": "stdout",
     "output_type": "stream",
     "text": [
      "{'Science', 'History', 'Math'}\n"
     ]
    }
   ],
   "source": [
    "def unique_subjects(students_data):\n",
    "    unique_subjects = set()\n",
    "    for i in students_data:\n",
    "        subjects = i[1].keys()\n",
    "        for j in subjects:\n",
    "            if j not in unique_subjects:\n",
    "                unique_subjects.add(j)\n",
    "            else:\n",
    "                continue\n",
    "        #print(subjects)\n",
    "    return unique_subjects\n",
    "print(unique_subjects(students_data))"
   ]
  },
  {
   "cell_type": "code",
   "execution_count": 6,
   "metadata": {
    "colab": {
     "base_uri": "https://localhost:8080/"
    },
    "executionInfo": {
     "elapsed": 100,
     "status": "ok",
     "timestamp": 1738639214683,
     "user": {
      "displayName": "Samuel Romero.",
      "userId": "07126115101105070884"
     },
     "user_tz": 360
    },
    "id": "kMoM7Yne92wC",
    "outputId": "d5839f1c-2d23-4408-8250-214f67a61836"
   },
   "outputs": [
    {
     "name": "stdout",
     "output_type": "stream",
     "text": [
      "{'Math': [90, 88, 78], 'Science': [85, 92, 85], 'History': [78, 80, 88]}\n"
     ]
    }
   ],
   "source": [
    "def create_dictionary(students_data):\n",
    "    #Store the grades of each subject for all students\n",
    "    math_grades = []\n",
    "    science_grades = []\n",
    "    history_grades = []\n",
    "    for i in students_data:\n",
    "        #print(i)\n",
    "        subjects = i[1]\n",
    "        math_grades.append(subjects[\"Math\"])\n",
    "        science_grades.append(subjects[\"Science\"])\n",
    "        history_grades.append(subjects[\"History\"])\n",
    "\n",
    "    subject_dictionary = {}\n",
    "    subject_dictionary['Math'] = math_grades\n",
    "    subject_dictionary['Science'] = science_grades\n",
    "    subject_dictionary['History'] = history_grades\n",
    "\n",
    "    return subject_dictionary\n",
    "print(create_dictionary(students_data))"
   ]
  }
 ],
 "metadata": {
  "colab": {
   "provenance": []
  },
  "kernelspec": {
   "display_name": "Python 3 (ipykernel)",
   "language": "python",
   "name": "python3"
  },
  "language_info": {
   "codemirror_mode": {
    "name": "ipython",
    "version": 3
   },
   "file_extension": ".py",
   "mimetype": "text/x-python",
   "name": "python",
   "nbconvert_exporter": "python",
   "pygments_lexer": "ipython3",
   "version": "3.11.6"
  }
 },
 "nbformat": 4,
 "nbformat_minor": 0
}
