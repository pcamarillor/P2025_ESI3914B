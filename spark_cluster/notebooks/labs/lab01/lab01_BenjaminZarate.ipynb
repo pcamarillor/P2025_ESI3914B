{
 "cells": [
  {
   "cell_type": "markdown",
   "metadata": {},
   "source": [
    "# Datos de entrada "
   ]
  },
  {
   "cell_type": "code",
   "execution_count": 13,
   "metadata": {},
   "outputs": [],
   "source": [
    "students_data = [(\"Alice\", {\"Math\": 90, \"Science\": 85, \"History\": 78}),\n",
    "                 (\"Bob\", {\"Math\": 88, \"Science\": 92, \"History\": 80}),\n",
    "                 (\"Charlie\", {\"Math\": 78, \"Science\": 85, \"History\": 88}),]"
   ]
  },
  {
   "cell_type": "markdown",
   "metadata": {},
   "source": [
    "# 1.- Calculo del promedio de calificaciones de cada estudiante "
   ]
  },
  {
   "cell_type": "code",
   "execution_count": 14,
   "metadata": {},
   "outputs": [],
   "source": [
    "average_grades = {}\n",
    "for name, grades in students_data:\n",
    "    avg = sum(grades.values()) / len(grades)\n",
    "    average_grades[name] = round(avg, 2)"
   ]
  },
  {
   "cell_type": "markdown",
   "metadata": {},
   "source": [
    "# 2.- Busca el estudiante con el promedio mas alto "
   ]
  },
  {
   "cell_type": "code",
   "execution_count": 15,
   "metadata": {},
   "outputs": [],
   "source": [
    "highest_avg_student = max(average_grades, key=average_grades.get)\n",
    "highest_avg = average_grades[highest_avg_student]"
   ]
  },
  {
   "cell_type": "markdown",
   "metadata": {},
   "source": [
    "# 3.- Identifica las materias unicas "
   ]
  },
  {
   "cell_type": "code",
   "execution_count": 16,
   "metadata": {},
   "outputs": [],
   "source": [
    "unique_subjects = set()\n",
    "for _, grades in students_data:\n",
    "    unique_subjects.update(grades.keys())"
   ]
  },
  {
   "cell_type": "markdown",
   "metadata": {},
   "source": [
    "# 4.- Crea un diccionario de calificaciones por materia "
   ]
  },
  {
   "cell_type": "code",
   "execution_count": 17,
   "metadata": {},
   "outputs": [],
   "source": [
    "subject_grades = {subject: [] for subject in unique_subjects}\n",
    "for _, grades in students_data:\n",
    "    for subject, grade in grades.items():\n",
    "        subject_grades[subject].append(grade)"
   ]
  },
  {
   "cell_type": "markdown",
   "metadata": {},
   "source": [
    "# Resultados Esperados "
   ]
  },
  {
   "cell_type": "code",
   "execution_count": 18,
   "metadata": {},
   "outputs": [
    {
     "name": "stdout",
     "output_type": "stream",
     "text": [
      "Promedios esperados para cada estudiante:\n",
      "Alice: 84.33, Bob: 86.67, Charlie: 83.67\n",
      "\n",
      "Estudiante con el promedio más alto:\n",
      "Bob: 86.67\n",
      "\n",
      "Materias únicas esperadas:\n",
      "{'Math', 'History', 'Science'}\n",
      "\n",
      "Diccionario esperado de calificaciones por materia:\n",
      "{'Math': [90, 88, 78], 'History': [78, 80, 88], 'Science': [85, 92, 85]}\n"
     ]
    }
   ],
   "source": [
    "average_grades_str = \", \".join(\n",
    "    [f\"{name}: {avg}\" for name, avg in average_grades.items()]\n",
    ")\n",
    "print(\"Promedios esperados para cada estudiante:\")\n",
    "print(average_grades_str)\n",
    "\n",
    "\n",
    "print(\"\\nEstudiante con el promedio más alto:\")\n",
    "print(f\"{highest_avg_student}: {highest_avg}\")\n",
    "\n",
    "print(\"\\nMaterias únicas esperadas:\")\n",
    "print(unique_subjects)\n",
    "\n",
    "print(\"\\nDiccionario esperado de calificaciones por materia:\")\n",
    "print(subject_grades)"
   ]
  }
 ],
 "metadata": {
  "kernelspec": {
   "display_name": "Python 3",
   "language": "python",
   "name": "python3"
  },
  "language_info": {
   "codemirror_mode": {
    "name": "ipython",
    "version": 3
   },
   "file_extension": ".py",
   "mimetype": "text/x-python",
   "name": "python",
   "nbconvert_exporter": "python",
   "pygments_lexer": "ipython3",
   "version": "3.12.0"
  }
 },
 "nbformat": 4,
 "nbformat_minor": 2
}
