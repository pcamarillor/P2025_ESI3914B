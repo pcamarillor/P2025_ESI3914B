{
 "cells": [
  {
   "cell_type": "markdown",
   "metadata": {},
   "source": [
    "# <center> <img src=\"img/ITESOLogo.png\" alt=\"ITESO\" width=\"480\" height=\"130\"> </center>\n",
    "# <center> **Departamento de Electrónica, Sistemas e Informática** </center>\n",
    "---\n",
    "## <center> **Carrera: <Coloca el nombre de tu carrera aqui>** </center>\n",
    "---\n",
    "### <center> **Primavera 2025** </center>\n",
    "---\n",
    "\n",
    "**Lab XX**:1\n",
    "\n",
    "**Fecha**:\n",
    "\n",
    "**Nombre del Estudiante**: Samantha Abigail Quintero Valadez\n",
    "\n",
    "**Profesor**: Pablo Camarillo Ramirez"
   ]
  },
  {
   "cell_type": "code",
   "execution_count": 5,
   "metadata": {},
   "outputs": [],
   "source": [
    "students_data = [(\"Alice\", {\"Math\": 90, \"Science\": 85, \"History\": 78}),\n",
    "(\"Bob\", {\"Math\": 88, \"Science\": 92, \"History\": 80}),\n",
    "(\"Charlie\", {\"Math\": 78, \"Science\": 85, \"History\": 88})]"
   ]
  },
  {
   "cell_type": "code",
   "execution_count": 7,
   "metadata": {},
   "outputs": [
    {
     "data": {
      "text/plain": [
       "{'Alice': 84.33, 'Bob': 86.67, 'Charlie': 83.67}"
      ]
     },
     "execution_count": 7,
     "metadata": {},
     "output_type": "execute_result"
    }
   ],
   "source": [
    "#1\n",
    "avg={}\n",
    "for students in students_data:\n",
    "    grades_sum=0\n",
    "    for sub,grade in students[1].items():\n",
    "        grades_sum+=grade\n",
    "    avg[students[0]]=round(grades_sum/3,2)\n",
    "avg"
   ]
  },
  {
   "cell_type": "code",
   "execution_count": 11,
   "metadata": {},
   "outputs": [
    {
     "data": {
      "text/plain": [
       "('Bob', 86.67)"
      ]
     },
     "execution_count": 11,
     "metadata": {},
     "output_type": "execute_result"
    }
   ],
   "source": [
    "#2\n",
    "max_grade=max(avg.items(),key=lambda x: x[1])\n",
    "max_grade"
   ]
  },
  {
   "cell_type": "code",
   "execution_count": 12,
   "metadata": {},
   "outputs": [
    {
     "data": {
      "text/plain": [
       "{'History', 'Math', 'Science'}"
      ]
     },
     "execution_count": 12,
     "metadata": {},
     "output_type": "execute_result"
    }
   ],
   "source": [
    "#3\n",
    "subjects=set()\n",
    "for students in students_data:\n",
    "    for sub in students[1].keys():\n",
    "        subjects.add(sub)\n",
    "subjects"
   ]
  },
  {
   "cell_type": "code",
   "execution_count": 17,
   "metadata": {},
   "outputs": [
    {
     "name": "stdout",
     "output_type": "stream",
     "text": [
      "{'Math': [90, 88, 78], 'Science': [85, 92, 85], 'History': [78, 80, 88]}\n"
     ]
    }
   ],
   "source": [
    "#4\n",
    "from collections import defaultdict\n",
    "sub_dic=defaultdict(list)\n",
    "\n",
    "for students in students_data:\n",
    "    for sub,grade in students[1].items():\n",
    "        sub_dic[sub].append(grade)\n",
    "\n",
    "print(dict(sub_dic))"
   ]
  }
 ],
 "metadata": {
  "kernelspec": {
   "display_name": "Python 3 (ipykernel)",
   "language": "python",
   "name": "python3"
  },
  "language_info": {
   "codemirror_mode": {
    "name": "ipython",
    "version": 3
   },
   "file_extension": ".py",
   "mimetype": "text/x-python",
   "name": "python",
   "nbconvert_exporter": "python",
   "pygments_lexer": "ipython3",
   "version": "3.11.6"
  }
 },
 "nbformat": 4,
 "nbformat_minor": 4
}
