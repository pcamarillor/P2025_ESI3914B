{
 "cells": [
  {
   "cell_type": "markdown",
   "metadata": {},
   "source": [
    "# <center> <img src=\"img/ITESOLogo.png\" alt=\"ITESO\" width=\"480\" height=\"130\"> </center>\n",
    "# <center> **Departamento de Electrónica, Sistemas e Informática** </center>\n",
    "---\n",
    "## <center> **Carrera: <Coloca el nombre de tu carrera aqui>** </center>\n",
    "---\n",
    "### <center> **Primavera 2025** </center>\n",
    "---\n",
    "\n",
    "**Lab XX**: Laboratorio 1\n",
    "\n",
    "**Fecha**: 03/02/2025\n",
    "\n",
    "**Nombre del Estudiante**: Vicente Siloe Lopez Rodriguez\n",
    "\n",
    "**Profesor**: Pablo Camarillo Ramirez"
   ]
  },
  {
   "cell_type": "code",
   "execution_count": 1,
   "metadata": {},
   "outputs": [
    {
     "data": {
      "text/plain": [
       "[0, 1, 2, 3, 4, 5, 6, 7, 8, 9, 10, 11, 12, 13, 14, 15, 16, 17, 18, 19]"
      ]
     },
     "execution_count": 1,
     "metadata": {},
     "output_type": "execute_result"
    }
   ],
   "source": [
    "lst = [i for i in range(20)]\n",
    "lst"
   ]
  },
  {
   "cell_type": "code",
   "execution_count": 2,
   "metadata": {},
   "outputs": [
    {
     "name": "stdout",
     "output_type": "stream",
     "text": [
      "hola mundo\n"
     ]
    }
   ],
   "source": [
    "print (\"hola mundo\")"
   ]
  },
  {
   "cell_type": "code",
   "execution_count": 1,
   "metadata": {},
   "outputs": [
    {
     "name": "stdout",
     "output_type": "stream",
     "text": [
      "1. Promedio de calificaciones para cada estudiante:\n",
      "Alice: 84.33333333333333\n",
      "Bob: 86.66666666666667\n",
      "Charlie: 83.66666666666667\n",
      "\n",
      "2. Estudiante con el promedio más alto:\n",
      "Bob con un promedio de 86.66666666666667\n",
      "\n",
      "3. Materias únicas:\n",
      "{'History', 'Math', 'Science'}\n",
      "\n",
      "4. Diccionario de calificaciones por materia:\n",
      "Math: {'Alice': 90, 'Bob': 88, 'Charlie': 78}\n",
      "Science: {'Alice': 85, 'Bob': 92, 'Charlie': 85}\n",
      "History: {'Alice': 78, 'Bob': 80, 'Charlie': 88}\n"
     ]
    }
   ],
   "source": [
    "students_data = [\n",
    "    (\"Alice\", {\"Math\": 90, \"Science\": 85, \"History\": 78}),\n",
    "    (\"Bob\", {\"Math\": 88, \"Science\": 92, \"History\": 80}),\n",
    "    (\"Charlie\", {\"Math\": 78, \"Science\": 85, \"History\": 88})\n",
    "]\n",
    "\n",
    "# 1. Calcular el promedio de calificaciones para cada estudiante\n",
    "average_grades = {}\n",
    "for student, grades in students_data:\n",
    "    average_grade = sum(grades.values()) / len(grades)\n",
    "    average_grades[student] = average_grade\n",
    "\n",
    "# 2. Encontrar al estudiante con el promedio más alto\n",
    "best_student = max(average_grades, key=average_grades.get)\n",
    "highest_average_grade = average_grades[best_student]\n",
    "\n",
    "# 3. Identificar todas las materias únicas\n",
    "unique_subjects = set()\n",
    "for student, grades in students_data:\n",
    "    unique_subjects.update(grades.keys())\n",
    "\n",
    "# 4. Crear un diccionario para almacenar las calificaciones de cada materia para todos los estudiantes\n",
    "subject_grades = {}\n",
    "for student, grades in students_data:\n",
    "    for subject, grade in grades.items():\n",
    "        if subject not in subject_grades:\n",
    "            subject_grades[subject] = {}\n",
    "        subject_grades[subject][student] = grade\n",
    "\n",
    "# Mostrar resultados\n",
    "print(\"1. Promedio de calificaciones para cada estudiante:\")\n",
    "for student, avg_grade in average_grades.items():\n",
    "    print(f\"{student}: {avg_grade}\")\n",
    "\n",
    "print(\"\\n2. Estudiante con el promedio más alto:\")\n",
    "print(f\"{best_student} con un promedio de {highest_average_grade}\")\n",
    "\n",
    "print(\"\\n3. Materias únicas:\")\n",
    "print(unique_subjects)\n",
    "\n",
    "print(\"\\n4. Diccionario de calificaciones por materia:\")\n",
    "for subject, grades_dict in subject_grades.items():\n",
    "    print(f\"{subject}: {grades_dict}\")"
   ]
  }
 ],
 "metadata": {
  "kernelspec": {
   "display_name": "Python 3 (ipykernel)",
   "language": "python",
   "name": "python3"
  },
  "language_info": {
   "codemirror_mode": {
    "name": "ipython",
    "version": 3
   },
   "file_extension": ".py",
   "mimetype": "text/x-python",
   "name": "python",
   "nbconvert_exporter": "python",
   "pygments_lexer": "ipython3",
   "version": "3.11.6"
  }
 },
 "nbformat": 4,
 "nbformat_minor": 4
}
