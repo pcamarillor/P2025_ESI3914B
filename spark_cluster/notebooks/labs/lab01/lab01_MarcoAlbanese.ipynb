{
 "cells": [
  {
   "cell_type": "markdown",
   "metadata": {},
   "source": [
    "# <center> <img src=\"img/ITESOLogo.png\" alt=\"ITESO\" width=\"480\" height=\"130\"> </center>\n",
    "# <center> **Departamento de Electrónica, Sistemas e Informática** </center>\n",
    "---\n",
    "## <center> **Carrera: Ing. en Sistemas Computacionales** </center>\n",
    "---\n",
    "### <center> **Primavera 2025** </center>\n",
    "---\n",
    "\n",
    "**Lab 01**: Student Grade Analyzer\n",
    "\n",
    "**Fecha**: Viernes 31 de enero del 2025\n",
    "\n",
    "**Nombre del Estudiante**: Marco Albanese\n",
    "\n",
    "**Profesor**: Pablo Camarillo Ramirez"
   ]
  },
  {
   "cell_type": "markdown",
   "metadata": {},
   "source": [
    "### **Problem Statement**\n",
    "You are given a list of students and their grades in multiple subjects. Your task is to:\n",
    "\n",
    "* Store the data using appropriate collections.\n",
    "* Perform the following operations:\n",
    "    * Calculate the **average grade** for each student.\n",
    "    * Find the student with the **highest average grade**.\n",
    "    * Identify all **unique subjects** across all students.\n",
    "    * **Create a dictionary** to store the grades of each subject for all students\n"
   ]
  },
  {
   "cell_type": "markdown",
   "metadata": {},
   "source": [
    "### **Input**"
   ]
  },
  {
   "cell_type": "code",
   "execution_count": 90,
   "metadata": {},
   "outputs": [],
   "source": [
    "students_data = [\n",
    "    (\"Alice\", {\"Math\": 90, \"Science\": 85, \"History\": 78}),\n",
    "    (\"Bob\", {\"Math\": 88, \"Science\": 92, \"History\": 80}),\n",
    "    (\"Charlie\", {\"Math\": 78, \"Science\": 85, \"History\": 88}),\n",
    "]"
   ]
  },
  {
   "cell_type": "markdown",
   "metadata": {},
   "source": [
    "#### Average grade for each student:"
   ]
  },
  {
   "cell_type": "code",
   "execution_count": 91,
   "metadata": {},
   "outputs": [
    {
     "name": "stdout",
     "output_type": "stream",
     "text": [
      "Alice: 84.33, Bob: 86.67, Charlie: 83.67\n"
     ]
    }
   ],
   "source": [
    "# List to store average grades\n",
    "avg_grades = []\n",
    "\n",
    "# Iterate over every student and their grades in the data\n",
    "for student, grades in students_data:\n",
    "    # Calculate the student's average grade by adding up all grades\n",
    "    # and dividing them by the amount of grades\n",
    "    avg_grade = sum(grades.values()) / len(grades)\n",
    "    # Append to avg_grades list, formatting for 2 decimal points\n",
    "    avg_grades.append(student + \": %.2f\" % avg_grade)\n",
    "\n",
    "# Print average grades\n",
    "print(\", \".join(avg_grades))"
   ]
  },
  {
   "cell_type": "markdown",
   "metadata": {},
   "source": [
    "#### Student with the highest average grade:"
   ]
  },
  {
   "cell_type": "code",
   "execution_count": 92,
   "metadata": {},
   "outputs": [
    {
     "name": "stdout",
     "output_type": "stream",
     "text": [
      "Bob: 86.67\n"
     ]
    }
   ],
   "source": [
    "# Declare variables to store string and highest average grade\n",
    "top_student = \"\"\n",
    "max_average = 0\n",
    "\n",
    "# Iterate over every student and their grades in the data\n",
    "for student, grades in students_data:\n",
    "    # Calculate the student's average grade by adding up all grades\n",
    "    # and dividing them by the amount of grades\n",
    "    average = sum(grades.values()) / len(grades)\n",
    "    # If the current average is higher than the highest recorded\n",
    "    # average, replace values in top_student and max_average\n",
    "    if average > max_average:\n",
    "        max_average = average\n",
    "        top_student = student + \": %.2f\" % max_average\n",
    "\n",
    "# Print the student with the highest average\n",
    "print(top_student)"
   ]
  },
  {
   "cell_type": "markdown",
   "metadata": {},
   "source": [
    "#### Unique subjects:"
   ]
  },
  {
   "cell_type": "code",
   "execution_count": 93,
   "metadata": {},
   "outputs": [
    {
     "data": {
      "text/plain": [
       "{'History', 'Math', 'Science'}"
      ]
     },
     "execution_count": 93,
     "metadata": {},
     "output_type": "execute_result"
    }
   ],
   "source": [
    "# Use list comprehension to get all unique subjects with a double for loop\n",
    "unique_subjects = {subject for student in students_data for subject in student[1].keys()}\n",
    "unique_subjects"
   ]
  },
  {
   "cell_type": "markdown",
   "metadata": {},
   "source": [
    "#### Grades by subject dictionary:"
   ]
  },
  {
   "cell_type": "code",
   "execution_count": 94,
   "metadata": {},
   "outputs": [
    {
     "data": {
      "text/plain": [
       "{'Math': [90, 88, 78], 'Science': [85, 92, 85], 'History': [78, 80, 88]}"
      ]
     },
     "execution_count": 94,
     "metadata": {},
     "output_type": "execute_result"
    }
   ],
   "source": [
    "# Initialize dictionary for grades by subject\n",
    "grades_by_subject_dict = {}\n",
    "\n",
    "# Iterate over each student and their subjects\n",
    "for student_name, subjects in students_data:\n",
    "    for subject, grade in subjects.items():\n",
    "        # If the subject isn't in the dictionary, initialize it with an empty list\n",
    "        if subject not in grades_by_subject_dict:\n",
    "            grades_by_subject_dict[subject] = []\n",
    "        # Append the student's grade to the subject's list\n",
    "        grades_by_subject_dict[subject].append(grade)\n",
    "\n",
    "grades_by_subject_dict"
   ]
  }
 ],
 "metadata": {
  "kernelspec": {
   "display_name": "Python 3 (ipykernel)",
   "language": "python",
   "name": "python3"
  },
  "language_info": {
   "codemirror_mode": {
    "name": "ipython",
    "version": 3
   },
   "file_extension": ".py",
   "mimetype": "text/x-python",
   "name": "python",
   "nbconvert_exporter": "python",
   "pygments_lexer": "ipython3",
   "version": "3.11.6"
  }
 },
 "nbformat": 4,
 "nbformat_minor": 4
}
