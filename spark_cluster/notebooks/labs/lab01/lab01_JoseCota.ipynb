{
 "cells": [
  {
   "cell_type": "markdown",
   "metadata": {},
   "source": [
    "# <center> <img src=\"../img/ITESOLogo.png\" alt=\"ITESO\" width=\"480\" height=\"130\"> </center>\n",
    "# <center> **Departamento de Electrónica, Sistemas e Informática** </center>\n",
    "---\n",
    "## <center> **Carrera: Ingeniería en Sistemas Computacionales** </center>\n",
    "---\n",
    "### <center> **Primavera 2025** </center>\n",
    "---\n",
    "\n",
    "**Lab 01**: Student Grade Analyzer\n",
    "\n",
    "**Fecha**: 3 de febrero de 2025\n",
    "\n",
    "**Nombre del Estudiante**: Jose Andres Cota Samaue\n",
    "\n",
    "**Profesor**: Pablo Camarillo Ramirez"
   ]
  },
  {
   "cell_type": "markdown",
   "metadata": {},
   "source": [
    "You are given a list of students and their grades in multiple subjects. Your task is to:\n",
    "\n",
    "Store the data using appropriate collections.\n",
    "Perform the following operations:\n",
    "- Calculate the average grade for each student.\n",
    "- Find the student with the highest average grade.\n",
    "- Identify all unique subjects across all students.\n",
    "- Create a dictionary to store the grades of each subject for all students"
   ]
  },
  {
   "cell_type": "code",
   "execution_count": 21,
   "metadata": {},
   "outputs": [],
   "source": [
    "students_data = [(\"Alice\", {\"Math\": 90, \"Science\": 85, \"History\": 78}),\n",
    "(\"Bob\", {\"Math\": 88, \"Science\": 92, \"History\": 80}),\n",
    "(\"Charlie\", {\"Math\": 78, \"Science\": 85, \"History\": 88})]"
   ]
  },
  {
   "cell_type": "code",
   "execution_count": 22,
   "metadata": {},
   "outputs": [],
   "source": [
    "averages = []\n",
    "highest_average = (\"\", 0)\n",
    "unique_subjects = set()\n",
    "subject_grades = {}\n",
    "\n",
    "\n",
    "for i in range(len(students_data)):\n",
    "\n",
    "    student_name, student_grades = students_data[i]\n",
    "    # Calculating student average grade\n",
    "    total_grade = sum(student_grades.values()) \n",
    "    average_grade = round(total_grade / len(student_grades), 2) \n",
    "    averages.append((student_name, average_grade)) # Adding to the list of averages\n",
    "\n",
    "    # Finding the student with the highest grade\n",
    "    if average_grade > highest_average[1]:\n",
    "        highest_average = (student_name, average_grade)\n",
    "\n",
    "    # Identifying unique subjects\n",
    "    for subject in student_grades.keys():\n",
    "        unique_subjects.add(subject)\n",
    "        \n",
    "        # Creating a dictionary to store the grades of each subject \n",
    "        if subject not in subject_grades:\n",
    "            subject_grades[subject] = [] #Adding empty list to each subject\n",
    "        # Appending grades to the corresponding subject\n",
    "        subject_grades[subject].append(student_grades[subject])\n",
    "    \n",
    "    \n"
   ]
  },
  {
   "cell_type": "code",
   "execution_count": 23,
   "metadata": {},
   "outputs": [
    {
     "data": {
      "text/plain": [
       "[('Alice', 84.33), ('Bob', 86.67), ('Charlie', 83.67)]"
      ]
     },
     "execution_count": 23,
     "metadata": {},
     "output_type": "execute_result"
    }
   ],
   "source": [
    "averages"
   ]
  },
  {
   "cell_type": "code",
   "execution_count": 24,
   "metadata": {},
   "outputs": [
    {
     "data": {
      "text/plain": [
       "('Bob', 86.67)"
      ]
     },
     "execution_count": 24,
     "metadata": {},
     "output_type": "execute_result"
    }
   ],
   "source": [
    "highest_average"
   ]
  },
  {
   "cell_type": "code",
   "execution_count": 25,
   "metadata": {},
   "outputs": [
    {
     "data": {
      "text/plain": [
       "{'History', 'Math', 'Science'}"
      ]
     },
     "execution_count": 25,
     "metadata": {},
     "output_type": "execute_result"
    }
   ],
   "source": [
    "unique_subjects"
   ]
  },
  {
   "cell_type": "code",
   "execution_count": 26,
   "metadata": {},
   "outputs": [
    {
     "data": {
      "text/plain": [
       "{'Math': [90, 88, 78], 'Science': [85, 92, 85], 'History': [78, 80, 88]}"
      ]
     },
     "execution_count": 26,
     "metadata": {},
     "output_type": "execute_result"
    }
   ],
   "source": [
    "subject_grades"
   ]
  },
  {
   "cell_type": "code",
   "execution_count": 31,
   "metadata": {},
   "outputs": [
    {
     "name": "stdout",
     "output_type": "stream",
     "text": [
      "Average Grades:\n",
      "Alice: 84.33, Bob: 86.67, Charlie: 83.67, \n",
      "\n",
      "Student with Highest Average Grade:\n",
      "Bob: 86.67\n",
      "\n",
      "Unique Subjects:\n",
      "- Science\n",
      "- History\n",
      "- Math\n",
      "\n",
      "Grades for Each Subject:\n",
      "Math: [90, 88, 78]\n",
      "Science: [85, 92, 85]\n",
      "History: [78, 80, 88]\n"
     ]
    }
   ],
   "source": [
    "# Formated print\n",
    "\n",
    "print(\"Average Grades:\")\n",
    "for student, average in averages:\n",
    "    print(f\"{student}: {average}, \", end=\"\")\n",
    "print()\n",
    "print(\"\\nStudent with Highest Average Grade:\")\n",
    "print(f\"{highest_average[0]}: {highest_average[1]}\")\n",
    "print(\"\\nUnique Subjects:\")\n",
    "for s in unique_subjects:\n",
    "    print(\"- \" + s)\n",
    "print()\n",
    "print(\"Grades for Each Subject:\")\n",
    "for subject, grades in subject_grades.items():\n",
    "    print(f\"{subject}: {grades}\")"
   ]
  }
 ],
 "metadata": {
  "kernelspec": {
   "display_name": ".venv",
   "language": "python",
   "name": "python3"
  },
  "language_info": {
   "codemirror_mode": {
    "name": "ipython",
    "version": 3
   },
   "file_extension": ".py",
   "mimetype": "text/x-python",
   "name": "python",
   "nbconvert_exporter": "python",
   "pygments_lexer": "ipython3",
   "version": "3.12.8"
  }
 },
 "nbformat": 4,
 "nbformat_minor": 2
}
