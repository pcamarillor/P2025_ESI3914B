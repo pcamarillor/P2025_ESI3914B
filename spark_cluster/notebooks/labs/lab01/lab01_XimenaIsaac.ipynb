{
 "cells": [
  {
   "cell_type": "markdown",
   "metadata": {},
   "source": [
    "# <center> <img src=\"..\\img\\ITESOLogo.png\" alt=\"ITESO\" width=\"480\" height=\"130\"> </center>\n",
    "# <center> **Departamento de Electrónica, Sistemas e Informática** </center>\n",
    "---\n",
    "## <center> **Carrera: Ingeniería en Sistemas Computacionales** </center>\n",
    "---\n",
    "### <center> **Primavera 2025** </center>\n",
    "---\n",
    "\n",
    "**Lab 01**: Student Grade Analyzer\n",
    "\n",
    "**Fecha**: 04/02/2025\n",
    "\n",
    "**Nombre del Estudiante**: Ximena Isaac Horta\n",
    "\n",
    "**Profesor**: Pablo Camarillo Ramirez"
   ]
  },
  {
   "cell_type": "markdown",
   "metadata": {},
   "source": [
    "---\n",
    "### **Laboratorio**\n",
    "\n",
    "Defnición de datos proporcionada por el profesor:"
   ]
  },
  {
   "cell_type": "code",
   "execution_count": 24,
   "metadata": {},
   "outputs": [
    {
     "name": "stdout",
     "output_type": "stream",
     "text": [
      "Todo en orden -> \n"
     ]
    }
   ],
   "source": [
    "students_data = [(\"Alice\", {\"Math\": 90, \"Science\": 85, \"History\": 78}),\n",
    "                (\"Bob\", {\"Math\": 88, \"Science\": 92, \"History\": 80}),\n",
    "                (\"Charlie\", {\"Math\": 78, \"Science\": 85, \"History\": 88})]\n",
    "print(\"Todo en orden -> \")"
   ]
  },
  {
   "cell_type": "markdown",
   "metadata": {},
   "source": [
    "Promedio (función) de los estudiantes (redondeado a 2 decimales):"
   ]
  },
  {
   "cell_type": "code",
   "execution_count": 25,
   "metadata": {},
   "outputs": [
    {
     "name": "stdout",
     "output_type": "stream",
     "text": [
      "Todo en orden -> \n"
     ]
    }
   ],
   "source": [
    "#promedio de los estudiantes\n",
    "def students_grades(students_data):\n",
    "    student_avg = {}\n",
    "    for i in range(len(students_data)):\n",
    "        student = students_data[i][0]\n",
    "        grades = students_data[i][1]\n",
    "        total_grade = 0\n",
    "        for subject in grades:\n",
    "            total_grade += grades[subject]\n",
    "        average_grade = total_grade / len(grades)\n",
    "        student_avg[student] = round(average_grade, 2)\n",
    "\n",
    "#promedio más alto (indicando alumno)\n",
    "    highest_avg = max(student_avg, key=student_avg.get)\n",
    "\n",
    "#indicar las materias individualmente\n",
    "    unique_subjects = set()\n",
    "    for i in range(len(students_data)):\n",
    "        _, grades = students_data[i]\n",
    "        for subject in grades.keys():\n",
    "            unique_subjects.add(subject)\n",
    "\n",
    "#el diccionario que guarda materia + calificación/promedio\n",
    "    subject_grades = {}\n",
    "    for subject in unique_subjects:\n",
    "        subject_grades[subject] = []\n",
    "        for _, grades in students_data:\n",
    "            subject_grades[subject].append(grades.get(subject))\n",
    "\n",
    "    return student_avg, highest_avg, unique_subjects, subject_grades\n",
    "print(\"Todo en orden -> \")"
   ]
  },
  {
   "cell_type": "markdown",
   "metadata": {},
   "source": [
    "Ejecución de la función:"
   ]
  },
  {
   "cell_type": "code",
   "execution_count": 26,
   "metadata": {},
   "outputs": [
    {
     "name": "stdout",
     "output_type": "stream",
     "text": [
      "Todo en orden -> \n"
     ]
    }
   ],
   "source": [
    "student_avg, highest_avg, unique_subjects, subject_grades = students_grades(students_data)\n",
    "print(\"Todo en orden -> \")"
   ]
  },
  {
   "cell_type": "markdown",
   "metadata": {},
   "source": [
    "Resultados:"
   ]
  },
  {
   "cell_type": "code",
   "execution_count": 27,
   "metadata": {},
   "outputs": [
    {
     "name": "stdout",
     "output_type": "stream",
     "text": [
      "\n",
      "Expected average grades for each student: Alice: 84.33, Bob: 86.67, Charlie: 83.67\n",
      "\n",
      "Expected student with the highest average grade: Bob: 86.67\n",
      "\n",
      "Expected uniue subjects: {'History', 'Math', 'Science'}\n",
      "\n",
      "Expected grades by subject dictionary: {'History': [78, 80, 88], 'Math': [90, 88, 78], 'Science': [85, 92, 85]}\n"
     ]
    }
   ],
   "source": [
    "print(\"\\nExpected average grades for each student:\", ', '.join([f\"{student}: {grade}\" for student, grade in student_avg.items()]))\n",
    "print(\"\\nExpected student with the highest average grade:\", f\"{highest_avg}: {student_avg[highest_avg]}\")\n",
    "print(\"\\nExpected uniue subjects:\", unique_subjects)\n",
    "print(\"\\nExpected grades by subject dictionary:\", subject_grades)"
   ]
  }
 ],
 "metadata": {
  "kernelspec": {
   "display_name": "Python 3 (ipykernel)",
   "language": "python",
   "name": "python3"
  },
  "language_info": {
   "codemirror_mode": {
    "name": "ipython",
    "version": 3
   },
   "file_extension": ".py",
   "mimetype": "text/x-python",
   "name": "python",
   "nbconvert_exporter": "python",
   "pygments_lexer": "ipython3",
   "version": "3.11.6"
  }
 },
 "nbformat": 4,
 "nbformat_minor": 2
}
