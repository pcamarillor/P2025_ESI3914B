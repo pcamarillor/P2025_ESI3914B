{
 "cells": [
  {
   "cell_type": "markdown",
   "metadata": {},
   "source": [
    "# <center> <img src=\"img/ITESOLogo.png\" alt=\"ITESO\" width=\"480\" height=\"130\"> </center>\n",
    "# <center> **Departamento de Electrónica, Sistemas e Informática** </center>\n",
    "---\n",
    "## <center> **Carrera: Ingeniería en sistemas computacionales** </center>\n",
    "---\n",
    "### <center> **Primavera 2025** </center>\n",
    "---\n",
    "\n",
    "**Lab**: Code Lab 01: Student Grade Analyzer \n",
    "\n",
    "**Fecha**: 1/31/2025\n",
    "\n",
    "**Nombre del Estudiante**: José Antonio Mendoza Navarro\n",
    "\n",
    "**Profesor**: Pablo Camarillo Ramirez"
   ]
  },
  {
   "cell_type": "markdown",
   "metadata": {},
   "source": [
    "\n",
    "### Problem Statement\n",
    "\n",
    "You are given a list of students and their grades in multiple subjects. Your task is to:\n",
    "- Store the data using appropriate collections.\n",
    "- Perform the following operations:\n",
    "    - Calculate the average grade for each student.\n",
    "    - Find the student with the highest average grade.\n",
    "    - Identify all unique subjects across all students.\n",
    "    - Create a dictionary to store the grades of each subject for all students\n",
    "\n",
    "### Input\n",
    "\n",
    "`students_data = [(\"Alice\", {\"Math\": 90, \"Science\": 85, \"History\": 78}),\n",
    "(\"Bob\", {\"Math\": 88, \"Science\": 92, \"History\": 80}),\n",
    "(\"Charlie\", {\"Math\": 78, \"Science\": 85, \"History\": 88})]`"
   ]
  },
  {
   "cell_type": "code",
   "execution_count": 13,
   "metadata": {},
   "outputs": [
    {
     "data": {
      "text/plain": [
       "{'Alice': 84.33333333333333,\n",
       " 'Bob': 86.66666666666667,\n",
       " 'Charlie': 83.66666666666667}"
      ]
     },
     "execution_count": 13,
     "metadata": {},
     "output_type": "execute_result"
    }
   ],
   "source": [
    "### Calculate the average grade for each student. ###\n",
    "students_data = [(\"Alice\", {\"Math\": 90, \"Science\": 85, \"History\": 78}),\n",
    "(\"Bob\", {\"Math\": 88, \"Science\": 92, \"History\": 80}),\n",
    "(\"Charlie\", {\"Math\": 78, \"Science\": 85, \"History\": 88})]\n",
    "\n",
    "def calculate_average(data):\n",
    "    students = {}\n",
    "    for student in data:\n",
    "        grades = student[1].values()\n",
    "        students[student[0]] = sum(grades) / len(grades)\n",
    "    return students\n",
    "\n",
    "calculate_average(students_data)"
   ]
  },
  {
   "cell_type": "code",
   "execution_count": 14,
   "metadata": {},
   "outputs": [
    {
     "data": {
      "text/plain": [
       "'Bob'"
      ]
     },
     "execution_count": 14,
     "metadata": {},
     "output_type": "execute_result"
    }
   ],
   "source": [
    "### Find the student with the highest average grade. ###\n",
    "def max_average(data):\n",
    "    max_average = 0\n",
    "    for student in data:\n",
    "        current_student = student[0]\n",
    "        grades = student[1].values()\n",
    "        average = sum(grades) / len(grades)\n",
    "        if average > max_average:\n",
    "            max_average = average\n",
    "            final_student = current_student\n",
    "    return final_student\n",
    "\n",
    "max_average(students_data)"
   ]
  },
  {
   "cell_type": "code",
   "execution_count": 36,
   "metadata": {},
   "outputs": [
    {
     "data": {
      "text/plain": [
       "{'History', 'Math', 'Science'}"
      ]
     },
     "execution_count": 36,
     "metadata": {},
     "output_type": "execute_result"
    }
   ],
   "source": [
    "### Identify all unique subjects across all students. ###\n",
    "def unique_subjects(data):\n",
    "    subjects = set()\n",
    "    for student in data:\n",
    "        for subject in student[1].keys():\n",
    "            subjects.add(subject)\n",
    "    return subjects\n",
    "\n",
    "unique_subjects(students_data)"
   ]
  },
  {
   "cell_type": "code",
   "execution_count": 50,
   "metadata": {},
   "outputs": [
    {
     "data": {
      "text/plain": [
       "defaultdict(list,\n",
       "            {'Math': [90, 88, 78],\n",
       "             'Science': [85, 92, 85],\n",
       "             'History': [78, 80, 88]})"
      ]
     },
     "execution_count": 50,
     "metadata": {},
     "output_type": "execute_result"
    }
   ],
   "source": [
    "### Create a dictionary to store the grades of each subject for all students. ###\n",
    "from collections import defaultdict\n",
    "\n",
    "def subject_grades(data):\n",
    "    subjects = defaultdict(list)\n",
    "    for student in data:\n",
    "        current_grades = student[1]\n",
    "        for key in current_grades:\n",
    "            subjects[key].append(current_grades[key])\n",
    "    return subjects\n",
    "\n",
    "subject_grades(students_data)"
   ]
  }
 ],
 "metadata": {
  "kernelspec": {
   "display_name": "Python 3 (ipykernel)",
   "language": "python",
   "name": "python3"
  },
  "language_info": {
   "codemirror_mode": {
    "name": "ipython",
    "version": 3
   },
   "file_extension": ".py",
   "mimetype": "text/x-python",
   "name": "python",
   "nbconvert_exporter": "python",
   "pygments_lexer": "ipython3",
   "version": "3.11.6"
  }
 },
 "nbformat": 4,
 "nbformat_minor": 4
}
