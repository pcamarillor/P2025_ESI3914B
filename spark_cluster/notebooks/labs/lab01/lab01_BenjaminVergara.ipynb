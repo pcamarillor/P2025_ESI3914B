{
 "cells": [
  {
   "cell_type": "markdown",
   "metadata": {},
   "source": [
    "# <center> <img src=\"img/ITESOLogo.png\" alt=\"ITESO\" width=\"480\" height=\"130\"> </center>\n",
    "# <center> **Departamento de Electrónica, Sistemas e Informática** </center>\n",
    "---\n",
    "## <center> **Carrera: <Coloca el nombre de tu carrera aqui>** </center>\n",
    "---\n",
    "### <center> **Primavera 2025** </center>\n",
    "---\n",
    "\n",
    "**Lab 01**: Student Grade Analyzer\n",
    "\n",
    "**Fecha**: 01/02/2024\n",
    "\n",
    "**Nombre del Estudiante**: Arturo Benjamin Vergara Romo\n",
    "\n",
    "**Profesor**: Pablo Camarillo Ramirez"
   ]
  },
  {
   "cell_type": "code",
   "execution_count": 1,
   "metadata": {},
   "outputs": [],
   "source": [
    "students_data = [(\"Alice\", {\"Math\": 90, \"Science\": 85, \"History\": 78}),\n",
    "(\"Bob\", {\"Math\": 88, \"Science\": 92, \"History\": 80}),\n",
    "(\"Charlie\", {\"Math\": 78, \"Science\": 85, \"History\": 88})]"
   ]
  },
  {
   "cell_type": "code",
   "execution_count": 2,
   "metadata": {},
   "outputs": [],
   "source": [
    "from collections import defaultdict\n",
    "\n",
    "subjects_set = set()\n",
    "subjects = defaultdict(list)\n",
    "students_avg = {}\n",
    "top_student = ['',0]\n",
    "for student in students_data:\n",
    "    student_name, grades = student\n",
    "    avg = sum(grades.values()) / len(grades) if grades else 0\n",
    "    for subject, grade in grades.items():\n",
    "        subjects[subject].append(grade)\n",
    "        subjects_set.add(subject)\n",
    "    students_avg[student_name] = avg\n",
    "    if avg > top_student[1]:\n",
    "        top_student = [student_name, avg]"
   ]
  },
  {
   "cell_type": "code",
   "execution_count": 4,
   "metadata": {},
   "outputs": [
    {
     "name": "stdout",
     "output_type": "stream",
     "text": [
      "Alice: 84.33 \n",
      "Bob: 86.67 \n",
      "Charlie: 83.67 \n",
      "Bob: 86.67\n"
     ]
    }
   ],
   "source": [
    "for student, avg in students_avg.items():\n",
    "    print(f\"{student}: {avg:.2f} \")  \n",
    "\n",
    "print(f\"{top_student[0]}: {top_student[1]:.2f}\")"
   ]
  },
  {
   "cell_type": "code",
   "execution_count": 5,
   "metadata": {},
   "outputs": [
    {
     "name": "stdout",
     "output_type": "stream",
     "text": [
      "defaultdict(<class 'list'>, {'Math': [90, 88, 78], 'Science': [85, 92, 85], 'History': [78, 80, 88]})\n",
      "{'History', 'Math', 'Science'}\n"
     ]
    }
   ],
   "source": [
    "print(subjects)\n",
    "print(subjects_set)"
   ]
  },
  {
   "cell_type": "code",
   "execution_count": null,
   "metadata": {},
   "outputs": [],
   "source": []
  }
 ],
 "metadata": {
  "kernelspec": {
   "display_name": "Python 3 (ipykernel)",
   "language": "python",
   "name": "python3"
  },
  "language_info": {
   "codemirror_mode": {
    "name": "ipython",
    "version": 3
   },
   "file_extension": ".py",
   "mimetype": "text/x-python",
   "name": "python",
   "nbconvert_exporter": "python",
   "pygments_lexer": "ipython3",
   "version": "3.11.6"
  }
 },
 "nbformat": 4,
 "nbformat_minor": 2
}
