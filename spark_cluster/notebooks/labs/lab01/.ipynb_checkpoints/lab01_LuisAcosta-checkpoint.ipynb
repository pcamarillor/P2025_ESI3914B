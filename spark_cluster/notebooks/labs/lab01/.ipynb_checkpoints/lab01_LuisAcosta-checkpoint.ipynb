{
 "cells": [
  {
   "cell_type": "markdown",
   "id": "845b0a13-afa2-4b47-a9dc-d0bc42fce052",
   "metadata": {},
   "source": [
    "# <center> <img src=\"../img/ITESOLogo.png\" alt=\"ITESO\" width=\"480\" height=\"130\"> </center>\n",
    "# <center> **Departamento de Electrónica, Sistemas e Informática** </center>\n",
    "---\n",
    "## <center> **Carrera: Ingeniería en Sistemas Computacionales** </center>\n",
    "---\n",
    "### <center> **Primavera 2025** </center>\n",
    "---\n",
    "\n",
    "**Lab 01**: Student Grade Analyzer\n",
    "\n",
    "**Fecha**: 31/01/2025\n",
    "\n",
    "**Nombre del Estudiante**: Luis Raúl Acosta Mendoza\n",
    "\n",
    "**Profesor**: Pablo Camarillo Ramirez"
   ]
  },
  {
   "cell_type": "code",
   "execution_count": 2,
   "id": "4e8eaa2f-af5a-41dc-90ce-9102dcd3f250",
   "metadata": {},
   "outputs": [],
   "source": [
    "students_data = [(\"Alice\", {\"Math\": 90, \"Science\": 85, \"History\": 78}),\n",
    "(\"Bob\", {\"Math\": 88, \"Science\": 92, \"History\": 80}),\n",
    "(\"Charlie\", {\"Math\": 78, \"Science\": 85, \"History\": 88})]"
   ]
  },
  {
   "cell_type": "code",
   "execution_count": 25,
   "id": "ab014d95-9a7c-46c6-9dc9-bec36ecb46ac",
   "metadata": {},
   "outputs": [
    {
     "name": "stdout",
     "output_type": "stream",
     "text": [
      "Average grades:\n",
      "Alice: 84.33, Bob: 86.67, Charlie: 83.67\n"
     ]
    }
   ],
   "source": [
    "# Calculate average grade for each student\n",
    "avg_grades = {}\n",
    "for s in students_data:\n",
    "    avg_grades[s[0]] = round(sum(s[1].values()) / len(s[1]), 2)\n",
    "\n",
    "print(\"Average grades:\")\n",
    "print(*[f'{k}: {v}' for k, v in avg_grades.items()], sep=', ')"
   ]
  },
  {
   "cell_type": "code",
   "execution_count": 43,
   "id": "f6af7da1-3eb9-4657-aed4-992b609c5945",
   "metadata": {},
   "outputs": [
    {
     "name": "stdout",
     "output_type": "stream",
     "text": [
      "Highest average\n",
      "Bob: 86.67\n"
     ]
    }
   ],
   "source": [
    "# Find the highest average\n",
    "max_key = max(avg_grades, key=avg_grades.get)\n",
    "\n",
    "print(\"Highest average\")\n",
    "print(f'{max_key}: {avg_grades[max_key]}')"
   ]
  },
  {
   "cell_type": "code",
   "execution_count": 58,
   "id": "e5728597-3886-480a-a855-6777ea3116c6",
   "metadata": {},
   "outputs": [
    {
     "name": "stdout",
     "output_type": "stream",
     "text": [
      "Unique subjects\n",
      "{'Math', 'Science', 'History'}\n"
     ]
    }
   ],
   "source": [
    "# Identify all unique subjects across all students\n",
    "unique_subjects = set()\n",
    "\n",
    "for s in students_data:\n",
    "    unique_subjects = unique_subjects.union(set(s[1].keys()))\n",
    "\n",
    "print(\"Unique subjects\")\n",
    "print(unique_subjects)"
   ]
  },
  {
   "cell_type": "code",
   "execution_count": 68,
   "id": "d60e48c6-dcc4-4c9d-813f-919fb2838e8f",
   "metadata": {},
   "outputs": [
    {
     "name": "stdout",
     "output_type": "stream",
     "text": [
      "Grades for each student\n",
      "{'Math': [90, 88, 78], 'Science': [85, 92, 85], 'History': [78, 80, 88]}\n"
     ]
    }
   ],
   "source": [
    "# Create a dictionary to store the grades of each subject for all students\n",
    "grades = {k: [] for k in unique_subjects}\n",
    "\n",
    "for s in students_data:\n",
    "    for subject in s[1].keys():\n",
    "        grades[subject].append(s[1][subject])\n",
    "\n",
    "print(\"Grades for each student\")\n",
    "print(grades)"
   ]
  }
 ],
 "metadata": {
  "kernelspec": {
   "display_name": "Python 3 (ipykernel)",
   "language": "python",
   "name": "python3"
  },
  "language_info": {
   "codemirror_mode": {
    "name": "ipython",
    "version": 3
   },
   "file_extension": ".py",
   "mimetype": "text/x-python",
   "name": "python",
   "nbconvert_exporter": "python",
   "pygments_lexer": "ipython3",
   "version": "3.11.6"
  }
 },
 "nbformat": 4,
 "nbformat_minor": 5
}
