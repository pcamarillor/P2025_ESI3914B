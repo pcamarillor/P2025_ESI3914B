{
 "cells": [
  {
   "cell_type": "markdown",
   "metadata": {},
   "source": [
    "# <center> <img src=\"img/ITESOLogo.png\" alt=\"ITESO\" width=\"480\" height=\"130\"> </center>\n",
    "# <center> **Departamento de Electrónica, Sistemas e Informática** </center>\n",
    "---\n",
    "## <center> **Carrera: Ingeniería en Sistemas Computacionales** </center>\n",
    "---\n",
    "### <center> **Primavera 2025** </center>\n",
    "---\n",
    "\n",
    "**Lab 01**: Student Grade Analyzer\n",
    "\n",
    "**Fecha**: 04/02/2025\n",
    "\n",
    "**Nombre del Estudiante**: Ximena Isaac Horta\n",
    "\n",
    "**Profesor**: Pablo Camarillo Ramirez"
   ]
  },
  {
   "cell_type": "markdown",
   "metadata": {},
   "source": [
    "---\n",
    "### **Tarea**\n",
    "\n",
    "Input proporcionado por el profesor:"
   ]
  },
  {
   "cell_type": "code",
   "execution_count": null,
   "metadata": {},
   "outputs": [],
   "source": [
    "students_data = [(\"Alice\", {\"Math\": 90, \"Science\": 85, \"History\": 78}),\n",
    "                (\"Bob\", {\"Math\": 88, \"Science\": 92, \"History\": 80}),\n",
    "                (\"Charlie\", {\"Math\": 78, \"Science\": 85, \"History\": 88})]"
   ]
  },
  {
   "cell_type": "markdown",
   "metadata": {},
   "source": [
    "Promedio de los estudiantes (redondeado a 2 decimales):"
   ]
  },
  {
   "cell_type": "code",
   "execution_count": null,
   "metadata": {},
   "outputs": [
    {
     "ename": "",
     "evalue": "",
     "output_type": "error",
     "traceback": [
      "\u001b[1;31mRunning cells with 'Python 3.12.6' requires the ipykernel package.\n",
      "\u001b[1;31mRun the following command to install 'ipykernel' into the Python environment. \n",
      "\u001b[1;31mCommand: 'c:/Python312/python.exe -m pip install ipykernel -U --user --force-reinstall'"
     ]
    }
   ],
   "source": [
    "def students_grades(students_data):\n",
    "    student_avg = {}\n",
    "    for i in range(len(students_data)):\n",
    "        student = students_data[i][0]\n",
    "        grades = students_data[i][1]\n",
    "        total_grade = 0\n",
    "        for subject in grades:\n",
    "            total_grade += grades[subject]\n",
    "        average_grade = total_grade / len(grades)\n",
    "        student_avg[student] = round(average_grade, 2)"
   ]
  },
  {
   "cell_type": "markdown",
   "metadata": {},
   "source": [
    "Promedio más alto:"
   ]
  },
  {
   "cell_type": "code",
   "execution_count": null,
   "metadata": {},
   "outputs": [],
   "source": [
    "highest_avg = max(student_avg, key=student_avg.get)"
   ]
  },
  {
   "cell_type": "markdown",
   "metadata": {},
   "source": [
    "Mostrar las materias individualmente:"
   ]
  },
  {
   "cell_type": "code",
   "execution_count": null,
   "metadata": {},
   "outputs": [],
   "source": [
    "unique_subjects = set()\n",
    "for i in range(len(students_data)):\n",
    "    _, grades = students_data[i]\n",
    "    for subject in grades.keys():\n",
    "        unique_subjects.add(subject)"
   ]
  },
  {
   "cell_type": "markdown",
   "metadata": {},
   "source": [
    "Diccionario que guarda materia + calificación/promedio:\n"
   ]
  },
  {
   "cell_type": "code",
   "execution_count": null,
   "metadata": {},
   "outputs": [],
   "source": [
    "subject_grades = {}\n",
    "for subject in unique_subjects:\n",
    "    subject_grades[subject] = []\n",
    "    for _, grades in students_data:\n",
    "        subject_grades[subject].append(grades.get(subject))\n",
    "        \n",
    "return student_avg, highest_avg, unique_subjects, subject_grades\n"
   ]
  }
 ],
 "metadata": {
  "kernelspec": {
   "display_name": "Python 3",
   "language": "python",
   "name": "python3"
  },
  "language_info": {
   "name": "python",
   "version": "3.12.6"
  }
 },
 "nbformat": 4,
 "nbformat_minor": 2
}
