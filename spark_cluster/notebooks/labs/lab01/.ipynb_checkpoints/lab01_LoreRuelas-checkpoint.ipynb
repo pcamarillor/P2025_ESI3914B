{
 "cells": [
  {
   "cell_type": "markdown",
   "metadata": {},
   "source": [
    "# <center> <img src=\"img/ITESOLogo.png\" alt=\"ITESO\" width=\"480\" height=\"130\"> </center>\n",
    "# <center> **Departamento de Electrónica, Sistemas e Informática** </center>\n",
    "---\n",
    "## <center> **Carrera: <Coloca el nombre de tu carrera aqui>** Ing. Sistemas Computacionales </center>\n",
    "---\n",
    "### <center> **Primavera 2025** </center>\n",
    "---\n",
    "\n",
    "**Lab XX**: 01\n",
    "\n",
    "**Fecha**: 03/02/2025\n",
    "\n",
    "**Nombre del Estudiante**: Lorena Ruelas Gaytán\n",
    "\n",
    "**Profesor**: Pablo Camarillo Ramirez"
   ]
  },
  {
   "cell_type": "code",
   "execution_count": 1,
   "metadata": {},
   "outputs": [],
   "source": [
    "students_data = [(\"Alice\", {\"Math\": 90, \"Science\": 85, \"History\": 78}),\n",
    "(\"Bob\", {\"Math\": 88, \"Science\": 92, \"History\": 80}),\n",
    "(\"Charlie\", {\"Math\": 78, \"Science\": 85, \"History\": 88})]"
   ]
  },
  {
   "cell_type": "code",
   "execution_count": 80,
   "metadata": {},
   "outputs": [
    {
     "name": "stdout",
     "output_type": "stream",
     "text": [
      "Alice: 84.33,  Bob: 86.67,  Charlie: 83.67,  "
     ]
    }
   ],
   "source": [
    "avg_dic = {}\n",
    "\n",
    "for name, subjects in students_data:\n",
    "    total_avg = 0\n",
    "    \n",
    "    for subject in subjects:\n",
    "        total_avg = total_avg + subjects[subject]\n",
    "\n",
    "    total_avg = total_avg / len(subjects)\n",
    "    avg_dic[name] = total_avg\n",
    "\n",
    "for key in avg_dic:\n",
    "    print(f\"{key}: {avg_dic[key]:.2f}, \", end=\" \")\n"
   ]
  },
  {
   "cell_type": "code",
   "execution_count": 79,
   "metadata": {},
   "outputs": [
    {
     "name": "stdout",
     "output_type": "stream",
     "text": [
      "Bob: 86.67  "
     ]
    }
   ],
   "source": [
    "name_max = ''\n",
    "max_score = 0 \n",
    "\n",
    "for name, avg in avg_dic.items():\n",
    "    if avg > max_score:\n",
    "        name_max = name\n",
    "        max_score = avg\n",
    "\n",
    "print(f\"{name_max}: {max_avg[name_max]:.2f} \", end=\" \")"
   ]
  },
  {
   "cell_type": "code",
   "execution_count": 86,
   "metadata": {},
   "outputs": [
    {
     "name": "stdout",
     "output_type": "stream",
     "text": [
      "{'History', 'Math', 'Science'}\n"
     ]
    }
   ],
   "source": [
    "unique_sub = set()\n",
    "\n",
    "for name, subjects in students_data:\n",
    "    \n",
    "    for subject in subjects:\n",
    "        if subject not in unique_sub:\n",
    "            unique_sub.add(subject)\n",
    "\n",
    "print(unique_sub)\n"
   ]
  },
  {
   "cell_type": "code",
   "execution_count": 90,
   "metadata": {},
   "outputs": [
    {
     "name": "stdout",
     "output_type": "stream",
     "text": [
      "{'Math': [90, 88, 78], 'Science': [85, 92, 85], 'History': [78, 80, 88]} "
     ]
    }
   ],
   "source": [
    "all_scores = {}\n",
    "\n",
    "for name, subjects in students_data:\n",
    "\n",
    "    for subject in subjects:\n",
    "        if subject not in all_scores:\n",
    "            all_scores[subject] = []\n",
    "            all_scores[subject].append(subjects[subject])\n",
    "\n",
    "        else:\n",
    "             all_scores[subject].append(subjects[subject])\n",
    "\n",
    "print(all_scores)"
   ]
  },
  {
   "cell_type": "code",
   "execution_count": null,
   "metadata": {},
   "outputs": [],
   "source": []
  }
 ],
 "metadata": {
  "kernelspec": {
   "display_name": "Python 3 (ipykernel)",
   "language": "python",
   "name": "python3"
  },
  "language_info": {
   "codemirror_mode": {
    "name": "ipython",
    "version": 3
   },
   "file_extension": ".py",
   "mimetype": "text/x-python",
   "name": "python",
   "nbconvert_exporter": "python",
   "pygments_lexer": "ipython3",
   "version": "3.11.6"
  }
 },
 "nbformat": 4,
 "nbformat_minor": 4
}
