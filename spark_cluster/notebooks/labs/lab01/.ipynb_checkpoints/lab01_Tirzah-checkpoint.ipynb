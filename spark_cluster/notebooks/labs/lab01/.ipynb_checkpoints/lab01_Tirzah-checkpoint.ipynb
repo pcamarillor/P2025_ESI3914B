{
 "cells": [
  {
   "cell_type": "markdown",
   "metadata": {},
   "source": [
    "# <center> <img src=\"img/ITESOLogo.png\" alt=\"ITESO\" width=\"480\" height=\"130\"> </center>\n",
    "# <center> **Departamento de Electrónica, Sistemas e Informática** </center>\n",
    "---\n",
    "## <center> **Carrera: Ingeniería en Sistemas Computacionales** </center>\n",
    "---\n",
    "### <center> **Primavera 2025** </center>\n",
    "---\n",
    "\n",
    "**Lab 1**\n",
    "\n",
    "**Fecha**: 31 enero 2025\n",
    "\n",
    "**Nombre del Estudiante**: Tirzah Peniche Barba\n",
    "\n",
    "**Profesor**: Pablo Camarillo Ramirez"
   ]
  },
  {
   "cell_type": "markdown",
   "metadata": {},
   "source": [
    "PROMEDIO DE CALIFICACIONES"
   ]
  },
  {
   "cell_type": "code",
   "execution_count": 3,
   "metadata": {},
   "outputs": [
    {
     "name": "stdout",
     "output_type": "stream",
     "text": [
      "Promedio de calificaciones por estudiante:\n",
      "Alice: 84.33\n",
      "Bob: 86.67\n",
      "Charlie: 83.67\n",
      "\n",
      "Estudiante con el promedio más alto:\n",
      "Bob: 86.67\n",
      "\n",
      "Materias únicas:\n",
      "{'History', 'Math', 'Science'}\n",
      "\n",
      "Diccionario de calificaciones por materia:\n",
      "{'History': [78, 80, 88], 'Math': [90, 88, 78], 'Science': [85, 92, 85]}\n"
     ]
    }
   ],
   "source": [
    "students_data = [\n",
    "    (\"Alice\", {\"Math\": 90, \"Science\": 85, \"History\": 78}),\n",
    "    (\"Bob\", {\"Math\": 88, \"Science\": 92, \"History\": 80}),\n",
    "    (\"Charlie\", {\"Math\": 78, \"Science\": 85, \"History\": 88})\n",
    "]\n",
    "\n",
    "average_grades = {name: sum(grades.values()) / len(grades) for name, grades in students_data}\n",
    "\n",
    "print(\"Promedio de calificaciones por estudiante:\")\n",
    "for student, avg in average_grades.items():\n",
    "    print(f\"{student}: {avg:.2f}\")\n"
   ]
  },
  {
   "cell_type": "markdown",
   "metadata": {},
   "source": [
    "ESTUDIANTE CON EL MEJOR PROMEDIO"
   ]
  },
  {
   "cell_type": "code",
   "execution_count": null,
   "metadata": {},
   "outputs": [],
   "source": [
    "top_student = max(average_grades, key=average_grades.get)\n",
    "\n",
    "print(\"\\nEstudiante con el promedio más alto:\")\n",
    "print(f\"{top_student}: {average_grades[top_student]:.2f}\")"
   ]
  },
  {
   "cell_type": "markdown",
   "metadata": {},
   "source": [
    "MATERIAS ÚNICAS"
   ]
  },
  {
   "cell_type": "code",
   "execution_count": null,
   "metadata": {},
   "outputs": [],
   "source": [
    "unique_subjects = {subject for _, grades in students_data for subject in grades.keys()}\n",
    "\n",
    "print(\"\\nMaterias únicas:\")\n",
    "print(unique_subjects)"
   ]
  },
  {
   "cell_type": "markdown",
   "metadata": {},
   "source": [
    "CALIFICACIONES OBTENIDAS EN CADA MATERIA"
   ]
  },
  {
   "cell_type": "code",
   "execution_count": null,
   "metadata": {},
   "outputs": [],
   "source": [
    "grades_by_subject = {subject: [grades[subject] for _, grades in students_data] for subject in unique_subjects}\n",
    "\n",
    "print(\"\\nDiccionario de calificaciones por materia:\")\n",
    "print(grades_by_subject)"
   ]
  }
 ],
 "metadata": {
  "kernelspec": {
   "display_name": "Python 3 (ipykernel)",
   "language": "python",
   "name": "python3"
  },
  "language_info": {
   "codemirror_mode": {
    "name": "ipython",
    "version": 3
   },
   "file_extension": ".py",
   "mimetype": "text/x-python",
   "name": "python",
   "nbconvert_exporter": "python",
   "pygments_lexer": "ipython3",
   "version": "3.11.6"
  }
 },
 "nbformat": 4,
 "nbformat_minor": 4
}
