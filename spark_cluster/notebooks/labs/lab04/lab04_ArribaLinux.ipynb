{
 "cells": [
  {
   "cell_type": "markdown",
   "metadata": {},
   "source": [
    "# <center> <img src=\"img/ITESOLogo.png\" alt=\"ITESO\" width=\"480\" height=\"130\"> </center>\n",
    "# <center> **Departamento de Electrónica, Sistemas e Informática** </center>\n",
    "---\n",
    "## <center> **Carrera: <Coloca el nombre de tu carrera aqui>** </center>\n",
    "---\n",
    "### <center> **Primavera 2025** </center>\n",
    "---\n",
    "\n",
    "**Lab 4**\n",
    "\n",
    "**Fecha**: 18 febrero 2024\n",
    "\n",
    "**Nombre del Equipo**: Arriba Linux\n",
    "\n",
    "**Profesor**: Pablo Camarillo Ramirez"
   ]
  },
  {
   "cell_type": "markdown",
   "metadata": {},
   "source": [
    "CREACIÓN CON EL CLUSTER DE SPARK"
   ]
  },
  {
   "cell_type": "code",
   "execution_count": 1,
   "metadata": {},
   "outputs": [],
   "source": [
    "import findspark\n",
    "findspark.init()"
   ]
  },
  {
   "cell_type": "code",
   "execution_count": 2,
   "metadata": {},
   "outputs": [
    {
     "name": "stderr",
     "output_type": "stream",
     "text": [
      "Setting default log level to \"WARN\".\n",
      "To adjust logging level use sc.setLogLevel(newLevel). For SparkR, use setLogLevel(newLevel).\n",
      "25/02/18 14:19:15 WARN NativeCodeLoader: Unable to load native-hadoop library for your platform... using builtin-java classes where applicable\n"
     ]
    }
   ],
   "source": [
    "from pyspark.sql import SparkSession\n",
    "\n",
    "spark = SparkSession.builder \\\n",
    "    .appName(\"SparkSQL-PeopleExample\") \\\n",
    "    .master(\"spark://ac7f0d7e8e91:7077\") \\\n",
    "    .config(\"spark.ui.port\",\"4040\") \\\n",
    "    .getOrCreate()\n",
    "sc = spark.sparkContext"
   ]
  },
  {
   "cell_type": "markdown",
   "metadata": {},
   "source": [
    "EJEMPLO DE LIBRERÍA SPARK UTILS"
   ]
  },
  {
   "cell_type": "code",
   "execution_count": null,
   "metadata": {},
   "outputs": [],
   "source": [
    "from ArribaLinux.spark_utils import SparkUtils\n",
    "\n",
    "schema = SparkUtils.generate_schema(\n",
    "    [\n",
    "        (\"name\", \"StringType\"),\n",
    "        (\"age\", \"IntegerType\"),\n",
    "        (\"city\", \"StringType\")\n",
    "    ]\n",
    ")\n"
   ]
  },
  {
   "cell_type": "code",
   "execution_count": 5,
   "metadata": {},
   "outputs": [
    {
     "name": "stderr",
     "output_type": "stream",
     "text": [
      "                                                                                \r"
     ]
    },
    {
     "name": "stdout",
     "output_type": "stream",
     "text": [
      "+-------+---+------------+\n",
      "|   name|age|        city|\n",
      "+-------+---+------------+\n",
      "|  Alice| 25|    New York|\n",
      "|    Bob| 30| Los Angeles|\n",
      "|Charlie| 35|     Chicago|\n",
      "|  David| 40|     Houston|\n",
      "|    Eve| 22|     Phoenix|\n",
      "|  Frank| 28|Philadelphia|\n",
      "|  Grace| 32| San Antonio|\n",
      "|   Hank| 45|   San Diego|\n",
      "|    Ivy| 29|      Dallas|\n",
      "+-------+---+------------+\n",
      "\n"
     ]
    }
   ],
   "source": [
    "sample_data = [\n",
    "    (\"Alice\", 25, \"New York\"),\n",
    "    (\"Bob\", 30, \"Los Angeles\"),\n",
    "    (\"Charlie\", 35, \"Chicago\"),\n",
    "    (\"David\", 40, \"Houston\"),\n",
    "    (\"Eve\", 22, \"Phoenix\"),\n",
    "    (\"Frank\", 28, \"Philadelphia\"),\n",
    "    (\"Grace\", 32, \"San Antonio\"),\n",
    "    (\"Hank\", 45, \"San Diego\"),\n",
    "    (\"Ivy\", 29, \"Dallas\")\n",
    "]\n",
    "\n",
    "people_df = spark.createDataFrame(sample_data, schema)\n",
    "people_df.show()"
   ]
  }
 ],
 "metadata": {
  "kernelspec": {
   "display_name": "Python 3 (ipykernel)",
   "language": "python",
   "name": "python3"
  },
  "language_info": {
   "codemirror_mode": {
    "name": "ipython",
    "version": 3
   },
   "file_extension": ".py",
   "mimetype": "text/x-python",
   "name": "python",
   "nbconvert_exporter": "python",
   "pygments_lexer": "ipython3",
   "version": "3.11.6"
  }
 },
 "nbformat": 4,
 "nbformat_minor": 2
}
