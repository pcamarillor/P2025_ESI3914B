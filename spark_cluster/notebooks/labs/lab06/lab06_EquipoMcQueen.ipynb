{
 "cells": [
  {
   "cell_type": "markdown",
   "metadata": {},
   "source": [
    "# <center> <img src=\"../img/ITESOLogo.png\" alt=\"ITESO\" width=\"480\" height=\"130\"> </center>\n",
    "# <center> **Departamento de Electrónica, Sistemas e Informática** </center>\n",
    "---\n",
    "## <center> **Carrera: Ing. en Sistemas Computacionales** </center>\n",
    "---\n",
    "### <center> **Primavera 2025** </center>\n",
    "---\n",
    "\n",
    "**Lab 06**: Big Data Pipeline for Netflix data\n",
    "\n",
    "**Fecha**: 7 de marzo del 2025\n",
    "\n",
    "**Nombre del Estudiante**: Marco Albanese, Vicente Siloe\n",
    "\n",
    "**Profesor**: Pablo Camarillo Ramirez"
   ]
  },
  {
   "cell_type": "code",
   "execution_count": 1,
   "metadata": {},
   "outputs": [],
   "source": [
    "import findspark\n",
    "findspark.init()"
   ]
  },
  {
   "cell_type": "code",
   "execution_count": 2,
   "metadata": {},
   "outputs": [
    {
     "name": "stderr",
     "output_type": "stream",
     "text": [
      "Setting default log level to \"WARN\".\n",
      "To adjust logging level use sc.setLogLevel(newLevel). For SparkR, use setLogLevel(newLevel).\n",
      "25/03/09 07:28:27 WARN NativeCodeLoader: Unable to load native-hadoop library for your platform... using builtin-java classes where applicable\n"
     ]
    }
   ],
   "source": [
    "from pyspark.sql import SparkSession\n",
    "\n",
    "spark = SparkSession.builder \\\n",
    "    .appName(\"Big Data Pipeline for Netflix data\") \\\n",
    "    .master(\"spark://bfb6d658c7db:7077\") \\\n",
    "    .config(\"spark.ui.port\",\"4040\") \\\n",
    "    .getOrCreate()\n",
    "\n",
    "# Create SparkContext\n",
    "sc = spark.sparkContext\n",
    "sc.setLogLevel(\"ERROR\")"
   ]
  },
  {
   "cell_type": "markdown",
   "metadata": {},
   "source": [
    "### Problem Statement\n",
    "\n",
    "In teams, write a Jupyter Notebook (within the directory spark_cluster/notebooks/labs/lab06) to cleanup a the Netflix dataset and persist it. To do so you need:\n",
    "\n",
    "- **Data Ingestion:** Download and uncompress the dataset and move it to the **spark_cluster/data** directory.\n",
    "- **Compute:** Add the needed code emove all null values from the Netflix dataset. You need to create two methods (clean_df and write_df) methods as part of your **spark_utils** module.\n",
    "- **Store:** Persist the dataframe using the **release_year** as criteria to partition data. \n"
   ]
  },
  {
   "cell_type": "code",
   "execution_count": 3,
   "metadata": {},
   "outputs": [],
   "source": [
    "from equipo_mcqueen.spark_utils import SparkUtils\n",
    "\n",
    "# Definir esquema de datos para el archivo netflix.csv\n",
    "netflix_data = [\n",
    "    (\"show_id\", \"StringType\"),\n",
    "    (\"type\", \"StringType\"),\n",
    "    (\"title\", \"StringType\"),\n",
    "    (\"director\", \"StringType\"),\n",
    "    (\"country\", \"StringType\"),\n",
    "    (\"date_added\", \"StringType\"),\n",
    "    (\"release_year\", \"IntegerType\"),\n",
    "    (\"rating\", \"StringType\"),\n",
    "    (\"duration\", \"StringType\"),\n",
    "    (\"listed_in\", \"StringType\")\n",
    "]\n",
    "\n",
    "# Crear schema usando nuestro método generate_schema\n",
    "netflix_schema = SparkUtils.generate_schema(netflix_data)\n",
    "\n",
    "# Leer archivo netflix.csv\n",
    "netflix_df = spark.read.schema(netflix_schema).option(\"header\", \"true\").csv(\"/home/jovyan/notebooks/data/netflix.csv\")"
   ]
  },
  {
   "cell_type": "code",
   "execution_count": 4,
   "metadata": {},
   "outputs": [
    {
     "name": "stderr",
     "output_type": "stream",
     "text": [
      "                                                                                \r"
     ]
    },
    {
     "name": "stdout",
     "output_type": "stream",
     "text": [
      "+-------+-------+--------------------------------+---------------+-------------+----------+------------+------+--------+-------------------------------------------------------------+\n",
      "|show_id|type   |title                           |director       |country      |date_added|release_year|rating|duration|listed_in                                                    |\n",
      "+-------+-------+--------------------------------+---------------+-------------+----------+------------+------+--------+-------------------------------------------------------------+\n",
      "|s1     |Movie  |Dick Johnson Is Dead            |Kirsten Johnson|United States|2021-09-25|2020        |PG-13 |90 min  |Documentaries                                                |\n",
      "|s3     |TV Show|Ganglands                       |Julien Leclercq|France       |2021-09-24|2021        |TV-MA |1 Season|Crime TV Shows, International TV Shows, TV Action & Adventure|\n",
      "|s6     |TV Show|Midnight Mass                   |Mike Flanagan  |United States|2021-09-24|2021        |TV-MA |1 Season|TV Dramas, TV Horror, TV Mysteries                           |\n",
      "|s14    |Movie  |Confessions of an Invisible Girl|Bruno Garotti  |Brazil       |2021-09-22|2021        |TV-PG |91 min  |Children & Family Movies, Comedies                           |\n",
      "|s8     |Movie  |Sankofa                         |Haile Gerima   |United States|2021-09-24|1993        |TV-MA |125 min |Dramas, Independent Movies, International Movies             |\n",
      "+-------+-------+--------------------------------+---------------+-------------+----------+------------+------+--------+-------------------------------------------------------------+\n",
      "only showing top 5 rows\n",
      "\n"
     ]
    }
   ],
   "source": [
    "# La siguiente línea de código se utiliza para convertir la columna 'date_added' de MM/dd/yyyy a yyyy-MM-dd.\n",
    "# A partir de Spark 3.0, el parser de tiempo es más restringido cuando se quiere convertir un string a una fecha (DateType)\n",
    "spark.conf.set(\"spark.sql.legacy.timeParserPolicy\", \"LEGACY\")\n",
    "\n",
    "# Importar funciones para conversión de fecha\n",
    "from pyspark.sql.functions import to_date, date_format\n",
    "\n",
    "# La columna 'date_added' se convierte de MM/dd/yyyy a yyyy-MM-dd (único formato aceptado por Spark)\n",
    "# Obtenido de https://stackoverflow.com/questions/74007217/converting-string-type-date-values-to-date-format-in-pyspark\n",
    "netflix_df = netflix_df.withColumn(\"date_added\", date_format(to_date(netflix_df.date_added, \"MM/dd/yyyy\"), \"yyyy-MM-dd\"))\n",
    "\n",
    "# Mostramos dataframe para comprobar cambios\n",
    "netflix_df.show(5, truncate=False)"
   ]
  },
  {
   "cell_type": "code",
   "execution_count": 5,
   "metadata": {},
   "outputs": [
    {
     "name": "stdout",
     "output_type": "stream",
     "text": [
      "root\n",
      " |-- show_id: string (nullable = true)\n",
      " |-- type: string (nullable = true)\n",
      " |-- title: string (nullable = true)\n",
      " |-- director: string (nullable = true)\n",
      " |-- country: string (nullable = true)\n",
      " |-- date_added: string (nullable = true)\n",
      " |-- release_year: integer (nullable = true)\n",
      " |-- rating: string (nullable = true)\n",
      " |-- duration: string (nullable = true)\n",
      " |-- listed_in: string (nullable = true)\n",
      "\n"
     ]
    }
   ],
   "source": [
    "# Imprimir esquema\n",
    "netflix_df.printSchema()"
   ]
  },
  {
   "cell_type": "code",
   "execution_count": 6,
   "metadata": {},
   "outputs": [
    {
     "name": "stdout",
     "output_type": "stream",
     "text": [
      "root\n",
      " |-- show_id: string (nullable = true)\n",
      " |-- type: string (nullable = true)\n",
      " |-- title: string (nullable = true)\n",
      " |-- director: string (nullable = true)\n",
      " |-- country: string (nullable = true)\n",
      " |-- date_added: date (nullable = true)\n",
      " |-- release_year: integer (nullable = true)\n",
      " |-- rating: string (nullable = true)\n",
      " |-- duration: string (nullable = true)\n",
      " |-- listed_in: string (nullable = true)\n",
      "\n"
     ]
    }
   ],
   "source": [
    "# date_added sigue siendo un string, debemos convertirlo a DateType\n",
    "from pyspark.sql.types import DateType\n",
    "\n",
    "netflix_df = netflix_df.withColumn(\"date_added\", netflix_df[\"date_added\"].cast(DateType()))\n",
    "\n",
    "# Imprimimos esquema para comprobar cambios\n",
    "netflix_df.printSchema()"
   ]
  },
  {
   "cell_type": "code",
   "execution_count": 7,
   "metadata": {},
   "outputs": [
    {
     "name": "stderr",
     "output_type": "stream",
     "text": [
      "[Stage 1:>                                                          (0 + 1) / 1]\r"
     ]
    },
    {
     "name": "stdout",
     "output_type": "stream",
     "text": [
      "+-------+----+-----+--------+-------+----------+------------+------+--------+---------+\n",
      "|show_id|type|title|director|country|date_added|release_year|rating|duration|listed_in|\n",
      "+-------+----+-----+--------+-------+----------+------------+------+--------+---------+\n",
      "|      0|   0|    0|       1|      1|         2|           2|     1|       2|        2|\n",
      "+-------+----+-----+--------+-------+----------+------------+------+--------+---------+\n",
      "\n"
     ]
    },
    {
     "name": "stderr",
     "output_type": "stream",
     "text": [
      "                                                                                \r"
     ]
    }
   ],
   "source": [
    "from pyspark.sql.functions import col, sum\n",
    "\n",
    "# Valores nulos previo a limpieza\n",
    "netflix_df.select([sum(col(c).isNull().cast(\"int\")).alias(c) for c in netflix_df.columns]).show()"
   ]
  },
  {
   "cell_type": "code",
   "execution_count": 8,
   "metadata": {},
   "outputs": [],
   "source": [
    "# Eliminar valores nulos del dataset\n",
    "clean_netflix_df = SparkUtils.clean_df(netflix_df)"
   ]
  },
  {
   "cell_type": "code",
   "execution_count": 9,
   "metadata": {},
   "outputs": [
    {
     "name": "stdout",
     "output_type": "stream",
     "text": [
      "+-------+----+-----+--------+-------+----------+------------+------+--------+---------+\n",
      "|show_id|type|title|director|country|date_added|release_year|rating|duration|listed_in|\n",
      "+-------+----+-----+--------+-------+----------+------------+------+--------+---------+\n",
      "|      0|   0|    0|       0|      0|         0|           0|     0|       0|        0|\n",
      "+-------+----+-----+--------+-------+----------+------------+------+--------+---------+\n",
      "\n"
     ]
    }
   ],
   "source": [
    "# Valores nulos posterior a limpieza\n",
    "clean_netflix_df.select([sum(col(c).isNull().cast(\"int\")).alias(c) for c in clean_netflix_df.columns]).show()"
   ]
  },
  {
   "cell_type": "code",
   "execution_count": null,
   "metadata": {},
   "outputs": [
    {
     "name": "stderr",
     "output_type": "stream",
     "text": [
      "                                                                                \r"
     ]
    }
   ],
   "source": [
    "from equipo_mcqueen.spark_utils import SparkUtils\n",
    "\n",
    "# Guardar dataframe\n",
    "SparkUtils.write_df(clean_netflix_df, \"release_year\", \"/home/jovyan/notebooks/data/netflix_output\")"
   ]
  },
  {
   "cell_type": "code",
   "execution_count": 12,
   "metadata": {},
   "outputs": [
    {
     "name": "stdout",
     "output_type": "stream",
     "text": [
      "'release_year=1925'  'release_year=1973'  'release_year=1998'\n",
      "'release_year=1942'  'release_year=1974'  'release_year=1999'\n",
      "'release_year=1943'  'release_year=1975'  'release_year=2000'\n",
      "'release_year=1944'  'release_year=1976'  'release_year=2001'\n",
      "'release_year=1945'  'release_year=1977'  'release_year=2002'\n",
      "'release_year=1946'  'release_year=1978'  'release_year=2003'\n",
      "'release_year=1947'  'release_year=1979'  'release_year=2004'\n",
      "'release_year=1954'  'release_year=1980'  'release_year=2005'\n",
      "'release_year=1955'  'release_year=1981'  'release_year=2006'\n",
      "'release_year=1956'  'release_year=1982'  'release_year=2007'\n",
      "'release_year=1958'  'release_year=1983'  'release_year=2008'\n",
      "'release_year=1959'  'release_year=1984'  'release_year=2009'\n",
      "'release_year=1960'  'release_year=1985'  'release_year=2010'\n",
      "'release_year=1961'  'release_year=1986'  'release_year=2011'\n",
      "'release_year=1962'  'release_year=1987'  'release_year=2012'\n",
      "'release_year=1963'  'release_year=1988'  'release_year=2013'\n",
      "'release_year=1964'  'release_year=1989'  'release_year=2014'\n",
      "'release_year=1965'  'release_year=1990'  'release_year=2015'\n",
      "'release_year=1966'  'release_year=1991'  'release_year=2016'\n",
      "'release_year=1967'  'release_year=1992'  'release_year=2017'\n",
      "'release_year=1968'  'release_year=1993'  'release_year=2018'\n",
      "'release_year=1969'  'release_year=1994'  'release_year=2019'\n",
      "'release_year=1970'  'release_year=1995'  'release_year=2020'\n",
      "'release_year=1971'  'release_year=1996'  'release_year=2021'\n",
      "'release_year=1972'  'release_year=1997'   _SUCCESS\n"
     ]
    }
   ],
   "source": [
    "!ls notebooks/data/netflix_output/"
   ]
  },
  {
   "cell_type": "code",
   "execution_count": 13,
   "metadata": {},
   "outputs": [
    {
     "name": "stdout",
     "output_type": "stream",
     "text": [
      "75\n"
     ]
    }
   ],
   "source": [
    "!ls notebooks/data/netflix_output/ | wc -l"
   ]
  }
 ],
 "metadata": {
  "kernelspec": {
   "display_name": "Python 3 (ipykernel)",
   "language": "python",
   "name": "python3"
  },
  "language_info": {
   "codemirror_mode": {
    "name": "ipython",
    "version": 3
   },
   "file_extension": ".py",
   "mimetype": "text/x-python",
   "name": "python",
   "nbconvert_exporter": "python",
   "pygments_lexer": "ipython3",
   "version": "3.11.6"
  }
 },
 "nbformat": 4,
 "nbformat_minor": 2
}
