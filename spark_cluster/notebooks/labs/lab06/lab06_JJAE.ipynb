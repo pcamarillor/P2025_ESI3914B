{
 "cells": [
  {
   "cell_type": "markdown",
   "metadata": {},
   "source": [
    "# <center> <img src=\"../img/ITESOLogo.png\" alt=\"ITESO\" width=\"480\" height=\"130\"> </center>\n",
    "# <center> **Departamento de Electrónica, Sistemas e Informática** </center>\n",
    "---\n",
    "## <center> **Carrera: <Coloca el nombre de tu carrera aqui>** </center>\n",
    "---\n",
    "### <center> **Primavera 2025** </center>\n",
    "---\n",
    "\n",
    "**Lab 06**: Big Data Pipeline for Netflix data\n",
    "\n",
    "**Fecha**: 7 de febrero de 2025\n",
    "\n",
    "**Nombre del Estudiante**: JJAE\n",
    "\n",
    "**Profesor**: Pablo Camarillo Ramirez"
   ]
  },
  {
   "cell_type": "code",
   "execution_count": 28,
   "metadata": {},
   "outputs": [],
   "source": [
    "import findspark\n",
    "findspark.init()"
   ]
  },
  {
   "cell_type": "code",
   "execution_count": 29,
   "metadata": {},
   "outputs": [],
   "source": [
    "from pyspark.sql import SparkSession\n",
    "\n",
    "spark = SparkSession.builder \\\n",
    "    .appName(\"SparkSQL-Storage-Solutions\") \\\n",
    "    .master(\"spark://69ce0b83527f:7077\") \\\n",
    "    .config(\"spark.ui.port\",\"4040\") \\\n",
    "    .getOrCreate()\n",
    "sc = spark.sparkContext"
   ]
  },
  {
   "cell_type": "markdown",
   "metadata": {},
   "source": [
    "# Netflix data"
   ]
  },
  {
   "cell_type": "code",
   "execution_count": 34,
   "metadata": {},
   "outputs": [
    {
     "name": "stdout",
     "output_type": "stream",
     "text": [
      "root\n",
      " |-- show_id: string (nullable = true)\n",
      " |-- type: string (nullable = true)\n",
      " |-- title: string (nullable = true)\n",
      " |-- director: string (nullable = true)\n",
      " |-- country: string (nullable = true)\n",
      " |-- date_added: string (nullable = true)\n",
      " |-- release_year: integer (nullable = true)\n",
      " |-- rating: string (nullable = true)\n",
      " |-- duration: string (nullable = true)\n",
      " |-- listed_in: string (nullable = true)\n",
      "\n",
      "+-------+-------+--------------------------------+---------------+-------------+----------+------------+------+--------+-------------------------------------------------------------+\n",
      "|show_id|type   |title                           |director       |country      |date_added|release_year|rating|duration|listed_in                                                    |\n",
      "+-------+-------+--------------------------------+---------------+-------------+----------+------------+------+--------+-------------------------------------------------------------+\n",
      "|s1     |Movie  |Dick Johnson Is Dead            |Kirsten Johnson|United States|9/25/2021 |2020        |PG-13 |90 min  |Documentaries                                                |\n",
      "|s3     |TV Show|Ganglands                       |Julien Leclercq|France       |9/24/2021 |2021        |TV-MA |1 Season|Crime TV Shows, International TV Shows, TV Action & Adventure|\n",
      "|s6     |TV Show|Midnight Mass                   |Mike Flanagan  |United States|9/24/2021 |2021        |TV-MA |1 Season|TV Dramas, TV Horror, TV Mysteries                           |\n",
      "|s14    |Movie  |Confessions of an Invisible Girl|Bruno Garotti  |Brazil       |9/22/2021 |2021        |TV-PG |91 min  |Children & Family Movies, Comedies                           |\n",
      "|s8     |Movie  |Sankofa                         |Haile Gerima   |United States|9/24/2021 |1993        |TV-MA |125 min |Dramas, Independent Movies, International Movies             |\n",
      "+-------+-------+--------------------------------+---------------+-------------+----------+------------+------+--------+-------------------------------------------------------------+\n",
      "only showing top 5 rows\n",
      "\n"
     ]
    }
   ],
   "source": [
    "from JJAE.spark_utils import SparkUtils\n",
    "netflix_schema = SparkUtils.generate_schema([\n",
    "    (\"show_id\", \"StringType\"),\n",
    "    (\"type\", \"StringType\"),\n",
    "    (\"title\", \"StringType\"),\n",
    "    (\"director\", \"StringType\"),\n",
    "    (\"country\", \"StringType\"),\n",
    "    (\"date_added\", \"StringType\"),\n",
    "    (\"release_year\", \"IntegerType\"),\n",
    "    (\"rating\", \"StringType\"),\n",
    "    (\"duration\", \"StringType\"),\n",
    "    (\"listed_in\", \"StringType\")\n",
    "    ])\n",
    "\n",
    "netflix_df = spark.read \\\n",
    "                .schema(netflix_schema) \\\n",
    "                .option(\"header\", \"true\") \\\n",
    "                .csv(\"/home/jovyan/notebooks/data/netflix1.csv\")\n",
    "\n",
    "netflix_df.printSchema()\n",
    "\n",
    "netflix_df.show(5, truncate=False)"
   ]
  },
  {
   "cell_type": "code",
   "execution_count": 35,
   "metadata": {},
   "outputs": [
    {
     "name": "stderr",
     "output_type": "stream",
     "text": [
      "[Stage 26:>                                                         (0 + 1) / 1]\r"
     ]
    },
    {
     "name": "stdout",
     "output_type": "stream",
     "text": [
      "+-------+----------------+-------------+---------------------------------+------------+--------+----------+------------------+--------------------+--------+------------------+\n",
      "|summary|         show_id|         type|                            title|    director| country|date_added|      release_year|              rating|duration|         listed_in|\n",
      "+-------+----------------+-------------+---------------------------------+------------+--------+----------+------------------+--------------------+--------+------------------+\n",
      "|  count|            8791|         8791|                             8791|        8790|    8790|      8790|              8789|                8790|    8789|              8789|\n",
      "|   mean|            NULL|         NULL|               1124.7692307692307|        NULL|  1944.0|      NULL|2014.1911480259416|                NULL|    NULL|              NULL|\n",
      "| stddev|            NULL|         NULL|               1042.1800991068478|        NULL|    NULL|      NULL|  8.79415428974682|                NULL|    NULL|              NULL|\n",
      "|    min|Flying Fortress\"|        Movie|                           #Alive|   3/31/2017|    1944|  1/1/2008|              1925|Classic Movies, D...|1 Season|Action & Adventure|\n",
      "|    25%|            NULL|         NULL|                            122.0|        NULL|  1944.0|      NULL|              2013|                NULL|    NULL|              NULL|\n",
      "|    50%|            NULL|         NULL|                            706.0|        NULL|  1944.0|      NULL|              2017|                NULL|    NULL|              NULL|\n",
      "|    75%|            NULL|         NULL|                           1983.0|        NULL|  1944.0|      NULL|              2019|                NULL|    NULL|              NULL|\n",
      "|    max|            s999|William Wyler|최강전사 미니특공대 : 영웅의 탄생|Şenol Sönmez|Zimbabwe|     TV-PG|              2021|                  UR|  99 min|         Thrillers|\n",
      "+-------+----------------+-------------+---------------------------------+------------+--------+----------+------------------+--------------------+--------+------------------+\n",
      "\n"
     ]
    },
    {
     "name": "stderr",
     "output_type": "stream",
     "text": [
      "                                                                                \r"
     ]
    }
   ],
   "source": [
    "netflix_df.summary().show()"
   ]
  },
  {
   "cell_type": "code",
   "execution_count": 40,
   "metadata": {},
   "outputs": [
    {
     "name": "stdout",
     "output_type": "stream",
     "text": [
      "+-------+----+-----+--------+-------+----------+------------+------+--------+---------+\n",
      "|show_id|type|title|director|country|date_added|release_year|rating|duration|listed_in|\n",
      "+-------+----+-----+--------+-------+----------+------------+------+--------+---------+\n",
      "|      0|   0|    0|       1|      1|         1|           2|     1|       2|        2|\n",
      "+-------+----+-----+--------+-------+----------+------------+------+--------+---------+\n",
      "\n"
     ]
    }
   ],
   "source": [
    "# Null count / column\n",
    "from pyspark.sql.functions import sum \n",
    "\n",
    "netflix_df.select([\n",
    "    sum(when(col(c).isNull(), 1).otherwise(0)).alias(c) for c in netflix_df.columns\n",
    "]).show()\n"
   ]
  },
  {
   "cell_type": "code",
   "execution_count": 43,
   "metadata": {},
   "outputs": [
    {
     "name": "stdout",
     "output_type": "stream",
     "text": [
      "Null counts after cleaning:\n",
      "+-------+----+-----+--------+-------+----------+------------+------+--------+---------+\n",
      "|show_id|type|title|director|country|date_added|release_year|rating|duration|listed_in|\n",
      "+-------+----+-----+--------+-------+----------+------------+------+--------+---------+\n",
      "|      0|   0|    0|       0|      0|         0|           0|     0|       0|        0|\n",
      "+-------+----+-----+--------+-------+----------+------------+------+--------+---------+\n",
      "\n"
     ]
    }
   ],
   "source": [
    "# Clean from our own method\n",
    "\n",
    "netflix_clean = SparkUtils.clean_df(netflix_df)\n",
    "\n",
    "print(\"Null counts after cleaning:\")\n",
    "netflix_clean.select([\n",
    "    sum(when(col(c).isNull(), 1).otherwise(0)).alias(c) for c in netflix_clean.columns\n",
    "]).show()"
   ]
  },
  {
   "cell_type": "code",
   "execution_count": 44,
   "metadata": {},
   "outputs": [
    {
     "name": "stderr",
     "output_type": "stream",
     "text": [
      "                                                                                \r"
     ]
    }
   ],
   "source": [
    "# Write \n",
    "SparkUtils.write_df(netflix_clean, \"release_year\", \"netflix_output\")\n"
   ]
  },
  {
   "cell_type": "code",
   "execution_count": 45,
   "metadata": {},
   "outputs": [
    {
     "name": "stdout",
     "output_type": "stream",
     "text": [
      "75\n"
     ]
    },
    {
     "name": "stderr",
     "output_type": "stream",
     "text": [
      "                                                                                \r"
     ]
    },
    {
     "name": "stdout",
     "output_type": "stream",
     "text": [
      "+-------+-------+--------------------+-------------------+-------------+----------+------+--------+--------------------+------------+\n",
      "|show_id|   type|               title|           director|      country|date_added|rating|duration|           listed_in|release_year|\n",
      "+-------+-------+--------------------+-------------------+-------------+----------+------+--------+--------------------+------------+\n",
      "|   s145|  Movie|         House Party|    Reginald Hudlin|United States|  9/1/2021|     R| 104 min|Comedies, Cult Mo...|        1990|\n",
      "|  s1252|  Movie|  Dances with Wolves|      Kevin Costner|United States|  3/1/2021| PG-13| 181 min|Action & Adventur...|        1990|\n",
      "|  s1622|  Movie|  Quigley Down Under|       Simon Wincer|    Australia| 12/1/2020| PG-13| 120 min|  Action & Adventure|        1990|\n",
      "|  s1862|  Movie|                 Dil|        Indra Kumar|        India|10/12/2020| TV-14| 165 min|Comedies, Dramas,...|        1990|\n",
      "|  s2318|  Movie|        Total Recall|     Paul Verhoeven|United States|  7/1/2020|     R| 114 min|Action & Adventur...|        1990|\n",
      "|  s2716|  Movie|           Agneepath|        Mukul Anand|        India|  4/1/2020| TV-14| 174 min|Dramas, Internati...|        1990|\n",
      "|  s4245|  Movie|Tim Allen: Men Ar...|        Ellen Brown|United States|12/31/2018| TV-MA|  30 min|     Stand-Up Comedy|        1990|\n",
      "|  s5946|  Movie|In Defense of a M...|      Joel Oliansky|United States| 10/1/2011| TV-14|  94 min|              Dramas|        1990|\n",
      "|  s5952|  Movie|    Unspeakable Acts|         Linda Otto|United States| 10/1/2011| TV-14|  95 min|              Dramas|        1990|\n",
      "|  s6705|  Movie|Escape from the L...|Wojciech Marczewski|       Poland| 10/1/2019| TV-MA|  88 min|Comedies, Dramas,...|        1990|\n",
      "|  s6845|  Movie|              Ghayal|  Rajkumar Santoshi|        India|12/31/2019| TV-14| 163 min|Action & Adventur...|        1990|\n",
      "|  s6881|  Movie|          GoodFellas|    Martin Scorsese|United States|  1/1/2021|     R| 145 min|Classic Movies, D...|        1990|\n",
      "|  s7176|TV Show|Ken Burns: The Ci...|          Ken Burns|United States| 2/22/2017| TV-14|1 Season|          Docuseries|        1990|\n",
      "|  s7311|  Movie|Listen Up! The Li...|    Ellen Weissbrod|    Not Given| 11/1/2019| TV-14| 116 min|Documentaries, Mu...|        1990|\n",
      "|  s7336|  Movie|   Look Out, Officer|         Sze Yu Lau|    Hong Kong| 8/16/2018| TV-14|  88 min|Action & Adventur...|        1990|\n",
      "|  s7709|  Movie|    Paris Is Burning|  Jennie Livingston|United States|  2/1/2017|     R|  77 min|Classic Movies, C...|        1990|\n",
      "|  s7884|  Movie|             Rocky V|   John G. Avildsen|United States|  8/1/2019| PG-13| 104 min|Dramas, Sports Mo...|        1990|\n",
      "|  s8005|  Movie|               Shiva|    Ram Gopal Varma|        India|12/31/2019| TV-MA| 168 min|Action & Adventur...|        1990|\n",
      "|  s8161|  Movie|Teenage Mutant Ni...|       Steve Barron|    Not Given|  1/1/2020|    PG|  94 min|Action & Adventur...|        1990|\n",
      "|  s8622|  Movie|             Tremors|      Ron Underwood|United States|  1/1/2020| PG-13|  96 min|Comedies, Cult Mo...|        1990|\n",
      "+-------+-------+--------------------+-------------------+-------------+----------+------+--------+--------------------+------------+\n",
      "only showing top 20 rows\n",
      "\n"
     ]
    }
   ],
   "source": [
    "# Validation\n",
    "!ls /home/jovyan/notebooks/data/netflix_output/ | wc -l\n",
    "\n",
    "# Example of validation\n",
    "df_1990 = spark.read.parquet(\"/home/jovyan/notebooks/data/netflix_output\").filter(\"release_year = 1990\")\n",
    "df_1990.show()"
   ]
  },
  {
   "cell_type": "code",
   "execution_count": null,
   "metadata": {},
   "outputs": [],
   "source": [
    "sc.stop()"
   ]
  }
 ],
 "metadata": {
  "kernelspec": {
   "display_name": "Python 3 (ipykernel)",
   "language": "python",
   "name": "python3"
  },
  "language_info": {
   "codemirror_mode": {
    "name": "ipython",
    "version": 3
   },
   "file_extension": ".py",
   "mimetype": "text/x-python",
   "name": "python",
   "nbconvert_exporter": "python",
   "pygments_lexer": "ipython3",
   "version": "3.11.6"
  }
 },
 "nbformat": 4,
 "nbformat_minor": 4
}
