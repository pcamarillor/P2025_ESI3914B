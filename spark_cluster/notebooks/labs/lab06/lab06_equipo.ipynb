{
 "cells": [
  {
   "cell_type": "markdown",
   "metadata": {},
   "source": [
    "# <center> <img src=\"../img/ITESOLogo.png\" alt=\"ITESO\" width=\"480\" height=\"130\"> </center>\n",
    "# <center> **Departamento de Electrónica, Sistemas e Informática** </center>\n",
    "---\n",
    "## <center> **Carrera: Ingeniería en Sistemas Computacionales** </center>\n",
    "---\n",
    "### <center> **Primavera 2025** </center>\n",
    "---\n",
    "\n",
    "**Lab 06**: Big Data Pipeline for Netflix data\n",
    "\n",
    "**Fecha**: 07/03/2025\n",
    "\n",
    "**Nombre del equipo**: Equipo\n",
    "\n",
    "**Profesor**: Pablo Camarillo Ramirez"
   ]
  },
  {
   "cell_type": "code",
   "execution_count": 1,
   "metadata": {},
   "outputs": [],
   "source": [
    "import findspark\n",
    "findspark.init()"
   ]
  },
  {
   "cell_type": "code",
   "execution_count": 2,
   "metadata": {},
   "outputs": [
    {
     "name": "stderr",
     "output_type": "stream",
     "text": [
      "Setting default log level to \"WARN\".\n",
      "To adjust logging level use sc.setLogLevel(newLevel). For SparkR, use setLogLevel(newLevel).\n",
      "25/03/08 00:33:07 WARN NativeCodeLoader: Unable to load native-hadoop library for your platform... using builtin-java classes where applicable\n"
     ]
    }
   ],
   "source": [
    "from pyspark.sql import SparkSession\n",
    "\n",
    "spark = SparkSession.builder \\\n",
    "    .appName(\"SparkSQL-Storage-Solutions\") \\\n",
    "    .master(\"spark://fc4bd844fa88:7077\") \\\n",
    "    .config(\"spark.ui.port\",\"4040\") \\\n",
    "    .getOrCreate()\n",
    "sc = spark.sparkContext"
   ]
  },
  {
   "cell_type": "code",
   "execution_count": 3,
   "metadata": {},
   "outputs": [
    {
     "name": "stdout",
     "output_type": "stream",
     "text": [
      "root\n",
      " |-- show_id: string (nullable = true)\n",
      " |-- type: string (nullable = true)\n",
      " |-- title: string (nullable = true)\n",
      " |-- director: string (nullable = true)\n",
      " |-- country: string (nullable = true)\n",
      " |-- date_added: string (nullable = true)\n",
      " |-- release_year: string (nullable = true)\n",
      " |-- rating: string (nullable = true)\n",
      " |-- duration: string (nullable = true)\n",
      " |-- listed_in: string (nullable = true)\n",
      "\n"
     ]
    }
   ],
   "source": [
    "from equipo.spark_utils import SparkUtils\n",
    "from pyspark.sql.functions import when, count, col\n",
    "\n",
    "columns_info = [\n",
    "    (\"show_id\", \"string\"), \n",
    "    (\"type\", \"string\"),\n",
    "    (\"title\", \"string\"),\n",
    "    (\"director\", \"string\"),\n",
    "    (\"country\", \"string\"),\n",
    "    (\"date_added\", \"string\"),\n",
    "    (\"release_year\", \"string\"),\n",
    "    (\"rating\", \"string\"),\n",
    "    (\"duration\", \"string\"),\n",
    "    (\"listed_in\", \"string\")\n",
    "]\n",
    "\n",
    "netflix_schema = SparkUtils.generate_schema(columns_info)\n",
    "\n",
    "netflix_df = spark.read \\\n",
    "                .schema(netflix_schema) \\\n",
    "                .option(\"header\", \"true\") \\\n",
    "                .csv(\"/home/jovyan/notebooks/data/netflix_dataset/netflix1.csv\")\n",
    "\n",
    "netflix_df.printSchema()\n"
   ]
  },
  {
   "cell_type": "code",
   "execution_count": 4,
   "metadata": {},
   "outputs": [
    {
     "name": "stderr",
     "output_type": "stream",
     "text": [
      "                                                                                \r"
     ]
    },
    {
     "name": "stdout",
     "output_type": "stream",
     "text": [
      "+-------+----+-----+--------+-------+----------+------------+------+--------+---------+\n",
      "|show_id|type|title|director|country|date_added|release_year|rating|duration|listed_in|\n",
      "+-------+----+-----+--------+-------+----------+------------+------+--------+---------+\n",
      "|      0|   0|    0|       1|      1|         1|           1|     1|       2|        2|\n",
      "+-------+----+-----+--------+-------+----------+------------+------+--------+---------+\n",
      "\n",
      "+-------+----+-----+--------+-------+----------+------------+------+--------+---------+\n",
      "|show_id|type|title|director|country|date_added|release_year|rating|duration|listed_in|\n",
      "+-------+----+-----+--------+-------+----------+------------+------+--------+---------+\n",
      "|      0|   0|    0|       0|      0|         0|           0|     0|       0|        0|\n",
      "+-------+----+-----+--------+-------+----------+------------+------+--------+---------+\n",
      "\n"
     ]
    }
   ],
   "source": [
    "netflix_df.select([count(when(col(c).isNull(), c)).alias(c) for c in netflix_df.columns]).show()\n",
    "netflix_df = SparkUtils.clean_df(netflix_df)\n",
    "netflix_df.select([count(when(col(c).isNull(), c)).alias(c) for c in netflix_df.columns]).show()"
   ]
  },
  {
   "cell_type": "code",
   "execution_count": 9,
   "metadata": {},
   "outputs": [
    {
     "name": "stderr",
     "output_type": "stream",
     "text": [
      "                                                                                \r"
     ]
    },
    {
     "name": "stdout",
     "output_type": "stream",
     "text": [
      "'release_year=1925'  'release_year=1973'  'release_year=1998'\n",
      "'release_year=1942'  'release_year=1974'  'release_year=1999'\n",
      "'release_year=1943'  'release_year=1975'  'release_year=2000'\n",
      "'release_year=1944'  'release_year=1976'  'release_year=2001'\n",
      "'release_year=1945'  'release_year=1977'  'release_year=2002'\n",
      "'release_year=1946'  'release_year=1978'  'release_year=2003'\n",
      "'release_year=1947'  'release_year=1979'  'release_year=2004'\n",
      "'release_year=1954'  'release_year=1980'  'release_year=2005'\n",
      "'release_year=1955'  'release_year=1981'  'release_year=2006'\n",
      "'release_year=1956'  'release_year=1982'  'release_year=2007'\n",
      "'release_year=1958'  'release_year=1983'  'release_year=2008'\n",
      "'release_year=1959'  'release_year=1984'  'release_year=2009'\n",
      "'release_year=1960'  'release_year=1985'  'release_year=2010'\n",
      "'release_year=1961'  'release_year=1986'  'release_year=2011'\n",
      "'release_year=1962'  'release_year=1987'  'release_year=2012'\n",
      "'release_year=1963'  'release_year=1988'  'release_year=2013'\n",
      "'release_year=1964'  'release_year=1989'  'release_year=2014'\n",
      "'release_year=1965'  'release_year=1990'  'release_year=2015'\n",
      "'release_year=1966'  'release_year=1991'  'release_year=2016'\n",
      "'release_year=1967'  'release_year=1992'  'release_year=2017'\n",
      "'release_year=1968'  'release_year=1993'  'release_year=2018'\n",
      "'release_year=1969'  'release_year=1994'  'release_year=2019'\n",
      "'release_year=1970'  'release_year=1995'  'release_year=2020'\n",
      "'release_year=1971'  'release_year=1996'  'release_year=2021'\n",
      "'release_year=1972'  'release_year=1997'   _SUCCESS\n",
      "75\n"
     ]
    }
   ],
   "source": [
    "SparkUtils.write_df(netflix_df, \"release_year\", \"/home/jovyan/notebooks/data/netflix_output\")\n",
    "!ls notebooks/data/netflix_output/\n",
    "!ls notebooks/data/netflix_output/ | wc -l"
   ]
  }
 ],
 "metadata": {
  "kernelspec": {
   "display_name": "Python 3 (ipykernel)",
   "language": "python",
   "name": "python3"
  },
  "language_info": {
   "codemirror_mode": {
    "name": "ipython",
    "version": 3
   },
   "file_extension": ".py",
   "mimetype": "text/x-python",
   "name": "python",
   "nbconvert_exporter": "python",
   "pygments_lexer": "ipython3",
   "version": "3.11.6"
  }
 },
 "nbformat": 4,
 "nbformat_minor": 2
}
