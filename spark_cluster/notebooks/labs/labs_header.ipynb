{
 "cells": [
  {
   "cell_type": "markdown",
   "metadata": {},
   "source": [
    "# <center> <img src=\"img/ITESOLogo.png\" alt=\"ITESO\" width=\"480\" height=\"130\"> </center>\n",
    "# <center> **Departamento de Electrónica, Sistemas e Informática** </center>\n",
    "---\n",
    "## <center> **Carrera: Ingenieria en sistemas computacionales** </center>\n",
    "---\n",
    "### <center> **Primavera 2025** </center>\n",
    "---\n",
    "\n",
    "**Lab XX**: 01\n",
    "\n",
    "**Fecha**: 30/1/2025\n",
    "\n",
    "**Nombre del Estudiante**: Angel Gabriel Ramirez Carrillo\n",
    "\n",
    "**Profesor**: Pablo Camarillo Ramirez"
   ]
  },
  {
   "cell_type": "code",
   "execution_count": 1,
   "metadata": {},
   "outputs": [
    {
     "name": "stdout",
     "output_type": "stream",
     "text": [
      "Alice 84.33\n",
      "Bob 86.67\n",
      "Charlie 83.67\n",
      "highest average 86.67\n",
      "Unique subjects ['Math', 'Science', 'History']\n",
      "{'Math': [90, 88, 78], 'Science': [85, 92, 85], 'History': [78, 80, 88]}\n"
     ]
    }
   ],
   "source": [
    "students_data = [(\"Alice\", {\"Math\": 90, \"Science\": 85, \"History\": 78}),\n",
    "(\"Bob\", {\"Math\": 88, \"Science\": 92, \"History\": 80}),\n",
    "(\"Charlie\", {\"Math\": 78, \"Science\": 85, \"History\": 88})]\n",
    "\n",
    "'''\n",
    "print(students_data[2][0])\n",
    "res = list(map(students_data[2][1].get, students_data[2][1].keys()))\n",
    "print(res)\n",
    "\n",
    "average = sum(res)/3\n",
    "print(average)\n",
    "'''\n",
    "#calculando promnedio para cada estudiante\n",
    "average_max = 0\n",
    "for i in range(3):\n",
    "    name = students_data[i][0]\n",
    "    res = list(map(students_data[i][1].get,students_data[i][1].keys()))\n",
    "    average_new = sum(res)/3\n",
    "    if average_new > average_max:\n",
    "        average_max = average_new\n",
    "    print(name,round(average_new,2))\n",
    "\n",
    "print(\"highest average\", round(average_max,2))\n",
    "subjects = list(students_data[0][1].keys()) \n",
    "print(\"Unique subjects\",subjects)\n",
    "\n",
    "math_scores = [student[1][\"Math\"] for student in students_data]\n",
    "science_scores = [student[1][\"Science\"] for student in students_data]\n",
    "history_scores = [student[1][\"History\"] for student in students_data]\n",
    "\n",
    "dic1 = {\"Math\":math_scores,\"Science\":science_scores,\"History\":history_scores}\n",
    "\n",
    "print(dic1)\n"
   ]
  }
 ],
 "metadata": {
  "kernelspec": {
   "display_name": "Python 3",
   "language": "python",
   "name": "python3"
  },
  "language_info": {
   "codemirror_mode": {
    "name": "ipython",
    "version": 3
   },
   "file_extension": ".py",
   "mimetype": "text/x-python",
   "name": "python",
   "nbconvert_exporter": "python",
   "pygments_lexer": "ipython3",
   "version": "3.12.6"
  }
 },
 "nbformat": 4,
 "nbformat_minor": 4
}
