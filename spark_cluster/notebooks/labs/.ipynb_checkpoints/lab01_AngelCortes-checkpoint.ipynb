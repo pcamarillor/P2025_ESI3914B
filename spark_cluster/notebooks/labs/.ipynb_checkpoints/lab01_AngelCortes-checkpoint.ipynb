{
 "cells": [
  {
   "cell_type": "code",
   "execution_count": null,
   "id": "e6d1b8b5-39e1-496a-8663-e8ef7eaabc97",
   "metadata": {},
   "outputs": [],
   "source": [
    "students_data = [(\"Alice\", {\"Math\": 90, \"Science\": 85, \"History\": 78}),\n",
    "(\"Bob\", {\"Math\": 88, \"Science\": 92, \"History\": 80}),\n",
    "(\"Charlie\", {\"Math\": 78, \"Science\": 85, \"History\": 88})]\n",
    "print(students_data)"
   ]
  }
 ],
 "metadata": {
  "kernelspec": {
   "display_name": "",
   "name": ""
  },
  "language_info": {
   "name": ""
  }
 },
 "nbformat": 4,
 "nbformat_minor": 5
}
