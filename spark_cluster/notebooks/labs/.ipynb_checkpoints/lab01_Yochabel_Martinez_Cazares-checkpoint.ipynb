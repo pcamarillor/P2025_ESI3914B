{
 "cells": [
  {
   "cell_type": "markdown",
   "metadata": {},
   "source": [
    "# <center> <img src=\"img/ITESOLogo.png\" alt=\"ITESO\" width=\"480\" height=\"130\"> </center>\n",
    "# <center> **Departamento de Electrónica, Sistemas e Informática** </center>\n",
    "---\n",
    "## <center> **Carrera: Ingeniería en Sistemas Computacionales** </center>\n",
    "---\n",
    "### <center> **Primavera 2025** </center>\n",
    "---\n",
    "\n",
    "**Lab 01**: Student Grade Analyzer\n",
    "\n",
    "**Fecha**: 31/01/25\n",
    "\n",
    "**Nombre del Estudiante**: Yochabel Martínez Cázares\n",
    "\n",
    "**Profesor**: Pablo Camarillo Ramirez"
   ]
  },
  {
   "cell_type": "markdown",
   "metadata": {},
   "source": [
    "You are given a list of students and their grades in multiple subjects. Your task is to:\n",
    "\n",
    "- Store the data using appropriate collections.\n",
    "- Perform the following operations:\n",
    "- Calculate the average grade for each student.\n",
    "- Find the student with the highest average grade.\n",
    "- Identify all unique subjects across all students.\n",
    "- Create a dictionary to store the grades of each subject for all students"
   ]
  },
  {
   "cell_type": "code",
   "execution_count": 1,
   "metadata": {},
   "outputs": [],
   "source": [
    "#Input\n",
    "students_data = {\n",
    "    \"Alice\": {\"Math\": 90, \"Science\": 85, \"History\": 78},\n",
    "    \"Bob\": {\"Math\": 88, \"Science\": 92, \"History\": 80},\n",
    "    \"Charlie\": {\"Math\": 78, \"Science\": 85, \"History\": 88}\n",
    "}"
   ]
  },
  {
   "cell_type": "code",
   "execution_count": 19,
   "metadata": {},
   "outputs": [
    {
     "name": "stdout",
     "output_type": "stream",
     "text": [
      "Average grade for each student: {'Alice': 84.33333333333333, 'Bob': 86.66666666666667, 'Charlie': 83.66666666666667}\n"
     ]
    }
   ],
   "source": [
    "#Average grade for each student\n",
    "avr_grade = {}\n",
    "for student in students_data:\n",
    "    grades = students_data[student].values()\n",
    "    avr_grade[student] = sum(grades) / len(grades)\n",
    "print(\"Average grade for each student:\", avr_grade)"
   ]
  },
  {
   "cell_type": "code",
   "execution_count": 23,
   "metadata": {},
   "outputs": [
    {
     "name": "stdout",
     "output_type": "stream",
     "text": [
      "Student with the highest average grade: Bob\n"
     ]
    }
   ],
   "source": [
    "#Student with the highest average grade\n",
    "for student, avg in avr_grade.items():\n",
    "    if avg > highest_avg:\n",
    "        highest_avg = avg\n",
    "        highest_avg_student = student\n",
    "print(\"Student with the highest average grade:\",highavg)"
   ]
  },
  {
   "cell_type": "code",
   "execution_count": 24,
   "metadata": {},
   "outputs": [
    {
     "name": "stdout",
     "output_type": "stream",
     "text": [
      "Unique subjects across all students: {'History', 'Math', 'Science'}\n"
     ]
    }
   ],
   "source": [
    "#Unique subjects across all students\n",
    "for grades in students_data.values():\n",
    "    unique_subjects.update(grades.keys())\n",
    "print(\"Unique subjects across all students:\",unique_subjects)"
   ]
  },
  {
   "cell_type": "code",
   "execution_count": 30,
   "metadata": {},
   "outputs": [
    {
     "name": "stdout",
     "output_type": "stream",
     "text": [
      "Dictionary to store the grades for each subject for all students: {'History': [78, 80, 88], 'Math': [90, 88, 78], 'Science': [85, 92, 85]}\n"
     ]
    }
   ],
   "source": [
    "#Dictionary to store the grades for each subject for all students\n",
    "grades_by_subject = {subject: [] for subject in unique_subjects}\n",
    "for student in students_data:\n",
    "    for subject, grade in students_data[student].items():\n",
    "        grades_by_subject[subject].append(grade)\n",
    "print(\"Dictionary to store the grades for each subject for all students:\",grades_by_subject)"
   ]
  }
 ],
 "metadata": {
  "kernelspec": {
   "display_name": "Python 3 (ipykernel)",
   "language": "python",
   "name": "python3"
  },
  "language_info": {
   "codemirror_mode": {
    "name": "ipython",
    "version": 3
   },
   "file_extension": ".py",
   "mimetype": "text/x-python",
   "name": "python",
   "nbconvert_exporter": "python",
   "pygments_lexer": "ipython3",
   "version": "3.11.6"
  }
 },
 "nbformat": 4,
 "nbformat_minor": 2
}
