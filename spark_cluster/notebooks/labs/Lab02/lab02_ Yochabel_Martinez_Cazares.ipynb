{
 "cells": [
  {
   "cell_type": "markdown",
   "metadata": {},
   "source": [
    "# <center> <img src=\"img/ITESOLogo.png\" alt=\"ITESO\" width=\"480\" height=\"130\"> </center>\n",
    "# <center> **Departamento de Electrónica, Sistemas e Informática** </center>\n",
    "---\n",
    "## <center> **Carrera: Ingeniería en Sistemas Computacionales** </center>\n",
    "---\n",
    "### <center> **Primavera 2025** </center>\n",
    "---\n",
    "\n",
    "**Lab 02**: Dynamic Function Execution Using a Dictionary\n",
    "\n",
    "**Fecha**: 04/02/2025\n",
    "\n",
    "**Nombre del Estudiante**: Yochabel Martínez Cázares\n",
    "\n",
    "**Profesor**: Pablo Camarillo Ramirez"
   ]
  },
  {
   "cell_type": "markdown",
   "metadata": {},
   "source": [
    "Create a program that uses a dictionary to map string commands to functions. Allow the user to input a command and execute the corresponding function (e.g., \"greet\", \"square\", \"cube\")."
   ]
  },
  {
   "cell_type": "code",
   "execution_count": 15,
   "metadata": {},
   "outputs": [
    {
     "name": "stdout",
     "output_type": "stream",
     "text": [
      "Hello, World!\n",
      "Square of 4 is 16\n",
      "Cube of 3 is 27\n"
     ]
    }
   ],
   "source": [
    "#Functions\n",
    "#greet function\n",
    "def greet(*args):\n",
    "    print(\"Hello, World!\")\n",
    "\n",
    "#square function\n",
    "def square(num):\n",
    "    result = num ** 2\n",
    "    print(f\"Square of {num} is {result}\")\n",
    "\n",
    "#cube function\n",
    "def cube(num):\n",
    "    result = num ** 3\n",
    "    print(f\"Cube of {num} is {result}\")\n",
    "\n",
    "#Dictionary\n",
    "map_string = {\"greet\": greet, \"square\": square, \"cube\": cube}\n",
    "\n",
    "#execute functions\n",
    "def execute_command(option, *args):\n",
    "    if option in map_string:\n",
    "        map_string[option](*args)\n",
    "    else:\n",
    "        print(\"Invalid option :(\")\n",
    "\n",
    "execute_command(\"greet\")\n",
    "execute_command(\"square\", 4)\n",
    "execute_command(\"cube\", 3)"
   ]
  }
 ],
 "metadata": {
  "kernelspec": {
   "display_name": "Python 3 (ipykernel)",
   "language": "python",
   "name": "python3"
  },
  "language_info": {
   "codemirror_mode": {
    "name": "ipython",
    "version": 3
   },
   "file_extension": ".py",
   "mimetype": "text/x-python",
   "name": "python",
   "nbconvert_exporter": "python",
   "pygments_lexer": "ipython3",
   "version": "3.11.6"
  }
 },
 "nbformat": 4,
 "nbformat_minor": 2
}
