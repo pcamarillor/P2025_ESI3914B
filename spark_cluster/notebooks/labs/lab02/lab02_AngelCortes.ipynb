{
 "cells": [
  {
   "cell_type": "markdown",
   "metadata": {},
   "source": [
    "### Lab 02 ###\n",
    "Create a program that uses a dictionary to map string commands to\n",
    "functions. Allow the user to input a command and execute the\n",
    "corresponding function (e.g., \"greet\" , \"square\" , \"cube\").\n",
    "\n",
    "Example Usage\n",
    "execute_command(\"greet\") # Output: Hello, World!\n",
    "execute_command(\"square\", 4) # Output: 16\n",
    "execute_command(\"cube\", 3) # Output: 27\n",
    "\n",
    "Key Concepts Tested\n",
    "- Functional Programming: Storing function pointers in a dictionary.\n",
    "- Dynamic function execution based on keys.\n",
    "- Handling variable arguments using *args.\n"
   ]
  },
  {
   "cell_type": "code",
   "execution_count": 15,
   "metadata": {},
   "outputs": [
    {
     "name": "stdout",
     "output_type": "stream",
     "text": [
      "Hello, World!\n",
      "16\n",
      "27\n"
     ]
    }
   ],
   "source": [
    "def apply_greet(func, *arg):\n",
    "    return func(*arg)\n",
    "\n",
    "def apply_square(func, valor):\n",
    "    return func(valor)\n",
    "\n",
    "def apply_cube(func, valor):\n",
    "    return func(valor)\n",
    "\n",
    "def greet(*arg):\n",
    "    for name in arg:\n",
    "        return f'Hello, {name}!'\n",
    "\n",
    "def square(x):\n",
    "    return x ** 2\n",
    "\n",
    "def cube(x):\n",
    "    return x ** 3\n",
    "\n",
    "saludo = apply_greet(greet, 'World')\n",
    "cuadrado = apply_square(square, 4)\n",
    "cubo = apply_cube(cube, 3)\n",
    "\n",
    "dct = {'saludo': saludo,\n",
    "       'cuadrado': cuadrado,\n",
    "       'cubo': cubo\n",
    "       }\n",
    "print(f'{dct[\"saludo\"]}\\n{dct[\"cuadrado\"]}\\n{dct[\"cubo\"]}')\n"
   ]
  }
 ],
 "metadata": {
  "kernelspec": {
   "display_name": "Python 3 (ipykernel)",
   "language": "python",
   "name": "python3"
  },
  "language_info": {
   "codemirror_mode": {
    "name": "ipython",
    "version": 3
   },
   "file_extension": ".py",
   "mimetype": "text/x-python",
   "name": "python",
   "nbconvert_exporter": "python",
   "pygments_lexer": "ipython3",
   "version": "3.11.6"
  }
 },
 "nbformat": 4,
 "nbformat_minor": 2
}
