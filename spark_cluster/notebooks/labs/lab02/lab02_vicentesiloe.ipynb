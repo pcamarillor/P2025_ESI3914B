{
 "cells": [
  {
   "cell_type": "markdown",
   "metadata": {},
   "source": [
    "# <center> <img src=\"img/ITESOLogo.png\" alt=\"ITESO\" width=\"480\" height=\"130\"> </center>\n",
    "# <center> **Departamento de Electrónica, Sistemas e Informática** </center>\n",
    "---\n",
    "## <center> **Carrera: <Coloca el nombre de tu carrera aqui>** </center>\n",
    "---\n",
    "### <center> **Primavera 2025** </center>\n",
    "---\n",
    "\n",
    "**Lab XX**: Laboratorio 2\n",
    "\n",
    "**Fecha**: 04/02/2025\n",
    "\n",
    "**Nombre del Estudiante**: Vicente Siloe Lopez Rodriguez\n",
    "\n",
    "**Profesor**: Pablo Camarillo Ramirez"
   ]
  },
  {
   "cell_type": "code",
   "execution_count": 6,
   "metadata": {},
   "outputs": [
    {
     "name": "stdout",
     "output_type": "stream",
     "text": [
      "Available commands:\n",
      "- greet\n",
      "- square\n",
      "- cube\n",
      "The square of 4 is: 16\n"
     ]
    }
   ],
   "source": [
    "# Function definitions\n",
    "def greet():\n",
    "    print(\"Hello! Welcome to the command execution program.\")\n",
    "\n",
    "def square():\n",
    "    num = int(input(\"Enter a number to square: \"))\n",
    "    print(f\"The square of {num} is: {num**2}\")\n",
    "\n",
    "def cube():\n",
    "    num = int(input(\"Enter a number to cube: \"))\n",
    "    print(f\"The cube of {num} is: {num**3}\")\n",
    "\n",
    "# Dictionary mapping commands to functions\n",
    "command_functions = {\n",
    "    \"greet\": greet,\n",
    "    \"square\": square,\n",
    "    \"cube\": cube\n",
    "}\n",
    "\n",
    "# Main program\n",
    "def main():\n",
    "    print(\"Available commands:\")\n",
    "    print(\"- greet\")\n",
    "    print(\"- square\")\n",
    "    print(\"- cube\")\n",
    "    command = input(\"Enter a command to execute: \").strip().lower()\n",
    "\n",
    "    if command in command_functions:\n",
    "        command_functions[command]()\n",
    "    else:\n",
    "        print(\"Command not recognized. Please enter a valid command.\")\n",
    "\n",
    "if __name__ == \"__main__\":\n",
    "    main()"
   ]
  }
 ],
 "metadata": {
  "kernelspec": {
   "display_name": "Python 3",
   "language": "python",
   "name": "python3"
  },
  "language_info": {
   "codemirror_mode": {
    "name": "ipython",
    "version": 3
   },
   "file_extension": ".py",
   "mimetype": "text/x-python",
   "name": "python",
   "nbconvert_exporter": "python",
   "pygments_lexer": "ipython3",
   "version": "3.11.2"
  }
 },
 "nbformat": 4,
 "nbformat_minor": 4
}
