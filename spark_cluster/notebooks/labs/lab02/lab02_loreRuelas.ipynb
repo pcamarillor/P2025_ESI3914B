{
 "cells": [
  {
   "cell_type": "markdown",
   "metadata": {},
   "source": [
    "# <center> <img src=\"img/ITESOLogo.png\" alt=\"ITESO\" width=\"480\" height=\"130\"> </center>\n",
    "# <center> **Departamento de Electrónica, Sistemas e Informática** </center>\n",
    "---\n",
    "## <center> **Carrera: <Coloca el nombre de tu carrera aqui>** Ing. Sistemas Computacionales</center>\n",
    "---\n",
    "### <center> **Primavera 2025** </center>\n",
    "---\n",
    "\n",
    "**Lab XX**: 02\n",
    "\n",
    "**Fecha**: 04/02/2025\n",
    "\n",
    "**Nombre del Estudiante**: Lorena Ruelas Gaytán\n",
    "\n",
    "**Profesor**: Pablo Camarillo Ramirez"
   ]
  },
  {
   "cell_type": "code",
   "execution_count": 21,
   "metadata": {},
   "outputs": [],
   "source": [
    "def greet():\n",
    "  return f\"Hello, World!\"\n",
    "\n",
    "def square(a):\n",
    "    return a*a\n",
    "\n",
    "def cube(b):\n",
    "    return b*b*b\n",
    "\n"
   ]
  },
  {
   "cell_type": "code",
   "execution_count": 22,
   "metadata": {},
   "outputs": [],
   "source": [
    "commands = {\n",
    "    \"greet\": greet,\n",
    "    \"square\": lambda: square(float(input(\"Enter a number to square: \"))),\n",
    "    \"cube\": lambda: cube(float(input(\"Enter a number to cube: \")))\n",
    "}\n",
    "\n",
    "def execute_command(command):\n",
    "    func = commands.get(command)\n",
    "    return func()"
   ]
  },
  {
   "cell_type": "code",
   "execution_count": 24,
   "metadata": {},
   "outputs": [
    {
     "name": "stdin",
     "output_type": "stream",
     "text": [
      "Enter a command ('greet', 'square', 'cube') squaaa\n",
      "Enter a valid command ('greet', 'square', 'cube') square\n",
      "Enter a number to square:  3\n"
     ]
    },
    {
     "data": {
      "text/plain": [
       "9.0"
      ]
     },
     "execution_count": 24,
     "metadata": {},
     "output_type": "execute_result"
    }
   ],
   "source": [
    "input_command = input(\"Enter a command ('greet', 'square', 'cube')\")\n",
    "\n",
    "while input_command not in commands:\n",
    "    input_command = input(\"Enter a valid command ('greet', 'square', 'cube')\")\n",
    "\n",
    "execute_command(input_command)"
   ]
  },
  {
   "cell_type": "code",
   "execution_count": null,
   "metadata": {},
   "outputs": [],
   "source": []
  }
 ],
 "metadata": {
  "kernelspec": {
   "display_name": "Python 3 (ipykernel)",
   "language": "python",
   "name": "python3"
  },
  "language_info": {
   "codemirror_mode": {
    "name": "ipython",
    "version": 3
   },
   "file_extension": ".py",
   "mimetype": "text/x-python",
   "name": "python",
   "nbconvert_exporter": "python",
   "pygments_lexer": "ipython3",
   "version": "3.11.6"
  }
 },
 "nbformat": 4,
 "nbformat_minor": 4
}
