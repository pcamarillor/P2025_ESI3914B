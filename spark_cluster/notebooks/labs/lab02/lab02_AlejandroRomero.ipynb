{
 "cells": [
  {
   "cell_type": "markdown",
   "metadata": {},
   "source": [
    "# <center> <img src=\"img/ITESOLogo.png\" alt=\"ITESO\" width=\"480\" height=\"130\"> </center>\n",
    "# <center> **Departamento de Electrónica, Sistemas e Informática** </center>\n",
    "---\n",
    "## <center> **Carrera: <Coloca el nombre de tu carrera aqui>** </center>\n",
    "---\n",
    "### <center> **Primavera 2025** </center>\n",
    "---\n",
    "\n",
    "**Lab XX**: 02\n",
    "\n",
    "**Fecha**: 4 de Febrero de 2025\n",
    "\n",
    "**Nombre del Estudiante**: Alejandro Samuel Romero Mora\n",
    "\n",
    "**Profesor**: Pablo Camarillo Ramirez"
   ]
  },
  {
   "cell_type": "code",
   "execution_count": 12,
   "metadata": {},
   "outputs": [
    {
     "name": "stdout",
     "output_type": "stream",
     "text": [
      "15\n",
      "5\n",
      "Sin wrapper: \n",
      "Hello, World!\n",
      "16\n",
      "27\n",
      "Con wrapper: \n",
      "Hello, World!\n",
      "16\n",
      "27\n"
     ]
    }
   ],
   "source": [
    "def greet():\n",
    "  return \"Hello, World!\"\n",
    "def square(n):\n",
    "  return pow(n,2)\n",
    "def cube(n):\n",
    "  return pow(n,3)\n",
    "\n",
    "#Wrapper\n",
    "def execute_command(operation_name, *args):\n",
    "    if operation_name in operations:\n",
    "        return operations[operation_name](*args)\n",
    "    else:\n",
    "        return \"No valid operation\"\n",
    "\n",
    "# Store functions in a dictionary\n",
    "operations = {\n",
    "  'greet': greet,\n",
    "  'square': square,\n",
    "  'cube': cube\n",
    "}\n",
    "  \n",
    "print(\"Sin wrapper: \")\n",
    "print(operations['greet']())\n",
    "print(operations['square'](4))\n",
    "print(operations['cube'](3))\n",
    "print(\"Con wrapper: \")\n",
    "print(execute_command('greet'))               \n",
    "print(execute_command('square', 4))           \n",
    "print(execute_command('cube', 3))             "
   ]
  }
 ],
 "metadata": {
  "kernelspec": {
   "display_name": "Python 3 (ipykernel)",
   "language": "python",
   "name": "python3"
  },
  "language_info": {
   "codemirror_mode": {
    "name": "ipython",
    "version": 3
   },
   "file_extension": ".py",
   "mimetype": "text/x-python",
   "name": "python",
   "nbconvert_exporter": "python",
   "pygments_lexer": "ipython3",
   "version": "3.11.6"
  }
 },
 "nbformat": 4,
 "nbformat_minor": 2
}
