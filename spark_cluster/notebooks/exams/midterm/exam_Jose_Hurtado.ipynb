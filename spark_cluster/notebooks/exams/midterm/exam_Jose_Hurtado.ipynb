{
 "cells": [
  {
   "cell_type": "markdown",
   "metadata": {},
   "source": [
    "# <center> <img src=\"../../labs/img/ITESOLogo.png\" alt=\"ITESO\" width=\"480\" height=\"130\"> </center>\n",
    "# <center> **Departamento de Electrónica, Sistemas e Informática** </center>\n",
    "---\n",
    "### <center> **Procesamiento de Datos Masivos** </center>\n",
    "---\n",
    "### <center> **Primavera 2025** </center>\n",
    "---\n",
    "**Primer Examen**\n",
    "\n",
    "**Fecha**: 14 de Marzo del 2025\n",
    "\n",
    "**Nombre del estudiante**: José Hurtado\n",
    "\n",
    "**Professor**: Pablo Camarillo Ramirez"
   ]
  },
  {
   "cell_type": "code",
   "execution_count": 1,
   "metadata": {},
   "outputs": [],
   "source": [
    "import findspark\n",
    "findspark.init()"
   ]
  },
  {
   "cell_type": "code",
   "execution_count": 3,
   "metadata": {},
   "outputs": [
    {
     "name": "stderr",
     "output_type": "stream",
     "text": [
      "Setting default log level to \"WARN\".\n",
      "To adjust logging level use sc.setLogLevel(newLevel). For SparkR, use setLogLevel(newLevel).\n",
      "25/03/14 13:34:50 WARN NativeCodeLoader: Unable to load native-hadoop library for your platform... using builtin-java classes where applicable\n"
     ]
    }
   ],
   "source": [
    "from pyspark.sql import SparkSession\n",
    "\n",
    "spark = SparkSession.builder \\\n",
    "    .appName(\"SparkSQL-Exam-1-Jose-Hurtado\") \\\n",
    "    .master(\"spark://69ce0b83527f:7077\") \\\n",
    "    .config(\"spark.ui.port\",\"4040\") \\\n",
    "    .getOrCreate()\n",
    "sc = spark.sparkContext"
   ]
  },
  {
   "cell_type": "code",
   "execution_count": 14,
   "metadata": {},
   "outputs": [
    {
     "name": "stdout",
     "output_type": "stream",
     "text": [
      "+-----------+--------------------+\n",
      "|employee_id|       employee_info|\n",
      "+-----------+--------------------+\n",
      "|          1|{'name': 'Caitlyn...|\n",
      "|          2|{'name': 'Rachel'...|\n",
      "|          3|{'name': 'Carrie'...|\n",
      "|          4|{'name': 'Renee',...|\n",
      "|          5|{'name': 'Gabriel...|\n",
      "|          6|{'name': 'Kristen...|\n",
      "|          7|{'name': 'Jonatha...|\n",
      "|          8|{'name': 'Michell...|\n",
      "|          9|{'name': 'Michell...|\n",
      "|         10|{'name': 'Lisa', ...|\n",
      "|         11|{'name': 'Cheryl'...|\n",
      "|         12|{'name': 'Mikayla...|\n",
      "|         13|{'name': 'Lisa', ...|\n",
      "|         14|{'name': 'Sean', ...|\n",
      "|         15|{'name': 'Monica'...|\n",
      "|         16|{'name': 'Katelyn...|\n",
      "|         17|{'name': 'Linda',...|\n",
      "|         18|{'name': 'Tammy',...|\n",
      "|         19|{'name': 'William...|\n",
      "|         20|{'name': 'Jorge',...|\n",
      "+-----------+--------------------+\n",
      "only showing top 20 rows\n",
      "\n",
      "+-------------+--------------------+-------------+\n",
      "|department_id|     department_name|     location|\n",
      "+-------------+--------------------+-------------+\n",
      "|          101|     Human Resources|    San Diego|\n",
      "|          102|Finance and Accou...|     New York|\n",
      "|          103| Sales and Marketing|      Chicago|\n",
      "|          104|    Data Engineering|      Zapopan|\n",
      "|          105|        Data Science|      Seattle|\n",
      "|          106|          Operations|       London|\n",
      "|          107|               Legal|      Chicago|\n",
      "|          108|Research and Deve...| Philadelphia|\n",
      "|          109|    Customer Service|San Francisco|\n",
      "|          110|Corporate Strateg...|  Los Angeles|\n",
      "+-------------+--------------------+-------------+\n",
      "\n"
     ]
    }
   ],
   "source": [
    "from team_name.spark_utils import SparkUtils\n",
    "from pyspark.sql.functions import get_json_object\n",
    "\n",
    "# 1. Read the Data (10 points):\n",
    "#Load the employees.csv and departments.csv files into PySpark DataFrames.\n",
    "\n",
    "# Read employees.csv     employee_id id, employee_info JSON\n",
    "employees_schema = SparkUtils.generate_schema([(\"employee_id\", \"string\"), (\"employee_info\", \"string\")])\n",
    "employees_df = spark.read \\\n",
    "                .schema(employees_schema) \\\n",
    "                .option(\"header\", \"true\") \\\n",
    "                .csv(\"/home/jovyan/notebooks/data/exam_P2025_ESI3914B/employees.csv\")\n",
    "employees_df.show()\n",
    "\n",
    "\n",
    "# Read departments.csv department_id, department_name, location\n",
    "departments_schema = SparkUtils.generate_schema([(\"department_id\", \"string\"), (\"department_name\", \"string\"), (\"location\", \"string\")])\n",
    "departments_df = spark.read \\\n",
    "                .schema(departments_schema) \\\n",
    "                .option(\"header\", \"true\") \\\n",
    "                .csv(\"/home/jovyan/notebooks/data/exam_P2025_ESI3914B/departments.csv\")\n",
    "departments_df.show()\n",
    "\n",
    "\n",
    "\n"
   ]
  },
  {
   "cell_type": "code",
   "execution_count": 21,
   "metadata": {},
   "outputs": [
    {
     "name": "stdout",
     "output_type": "stream",
     "text": [
      "root\n",
      " |-- employee_id: string (nullable = true)\n",
      " |-- employee_info: string (nullable = true)\n",
      " |-- name: string (nullable = true)\n",
      " |-- department_id: integer (nullable = true)\n",
      " |-- salary: double (nullable = true)\n",
      " |-- hire_date: date (nullable = true)\n",
      "\n",
      "+-----------+-------------------------------------------------------------------------------------------+---------+-------------+---------+----------+\n",
      "|employee_id|employee_info                                                                              |name     |department_id|salary   |hire_date |\n",
      "+-----------+-------------------------------------------------------------------------------------------+---------+-------------+---------+----------+\n",
      "|1          |{'name': 'Caitlyn', 'department_id': 103, 'salary': 115959.78, 'hire_date': '2002-06-10'}  |Caitlyn  |103          |115959.78|2002-06-10|\n",
      "|2          |{'name': 'Rachel', 'department_id': 104, 'salary': 100820.16, 'hire_date': '2009-07-01'}   |Rachel   |104          |100820.16|2009-07-01|\n",
      "|3          |{'name': 'Carrie', 'department_id': 105, 'salary': 114421.44, 'hire_date': '1998-12-10'}   |Carrie   |105          |114421.44|1998-12-10|\n",
      "|4          |{'name': 'Renee', 'department_id': 104, 'salary': 54688.13, 'hire_date': '1995-03-17'}     |Renee    |104          |54688.13 |1995-03-17|\n",
      "|5          |{'name': 'Gabriella', 'department_id': 109, 'salary': 106267.03, 'hire_date': '1995-02-09'}|Gabriella|109          |106267.03|1995-02-09|\n",
      "|6          |{'name': 'Kristen', 'department_id': 101, 'salary': 88237.54, 'hire_date': '2010-11-15'}   |Kristen  |101          |88237.54 |2010-11-15|\n",
      "|7          |{'name': 'Jonathan', 'department_id': 102, 'salary': 39323.42, 'hire_date': '2012-06-30'}  |Jonathan |102          |39323.42 |2012-06-30|\n",
      "|8          |{'name': 'Michelle', 'department_id': 101, 'salary': 64262.85, 'hire_date': '2005-10-30'}  |Michelle |101          |64262.85 |2005-10-30|\n",
      "|9          |{'name': 'Michelle', 'department_id': 105, 'salary': 103521.88, 'hire_date': '1991-07-10'} |Michelle |105          |103521.88|1991-07-10|\n",
      "|10         |{'name': 'Lisa', 'department_id': 110, 'salary': 55435.93, 'hire_date': '2016-03-25'}      |Lisa     |110          |55435.93 |2016-03-25|\n",
      "|11         |{'name': 'Cheryl', 'department_id': 103, 'salary': 88073.75, 'hire_date': '2020-08-21'}    |Cheryl   |103          |88073.75 |2020-08-21|\n",
      "|12         |{'name': 'Mikayla', 'department_id': 107, 'salary': 95192.05, 'hire_date': '2022-05-13'}   |Mikayla  |107          |95192.05 |2022-05-13|\n",
      "|13         |{'name': 'Lisa', 'department_id': 104, 'salary': 36032.49, 'hire_date': '2019-05-16'}      |Lisa     |104          |36032.49 |2019-05-16|\n",
      "|14         |{'name': 'Sean', 'department_id': 108, 'salary': 64904.69, 'hire_date': '2021-06-06'}      |Sean     |108          |64904.69 |2021-06-06|\n",
      "|15         |{'name': 'Monica', 'department_id': 105, 'salary': 92589.97, 'hire_date': '2022-05-09'}    |Monica   |105          |92589.97 |2022-05-09|\n",
      "|16         |{'name': 'Katelyn', 'department_id': 104, 'salary': 147225.58, 'hire_date': '2008-03-14'}  |Katelyn  |104          |147225.58|2008-03-14|\n",
      "|17         |{'name': 'Linda', 'department_id': 108, 'salary': 146632.64, 'hire_date': '2002-09-04'}    |Linda    |108          |146632.64|2002-09-04|\n",
      "|18         |{'name': 'Tammy', 'department_id': 109, 'salary': 128860.4, 'hire_date': '2014-04-18'}     |Tammy    |109          |128860.4 |2014-04-18|\n",
      "|19         |{'name': 'William', 'department_id': 103, 'salary': 142645.41, 'hire_date': '1998-05-25'}  |William  |103          |142645.41|1998-05-25|\n",
      "|20         |{'name': 'Jorge', 'department_id': 109, 'salary': 87587.51, 'hire_date': '2018-03-25'}     |Jorge    |109          |87587.51 |2018-03-25|\n",
      "+-----------+-------------------------------------------------------------------------------------------+---------+-------------+---------+----------+\n",
      "only showing top 20 rows\n",
      "\n"
     ]
    }
   ],
   "source": [
    "# 2. Extract the employee info from the JSON column (20 points):\n",
    "# Extract the following the columns: name (string), department_id (integer), salary (double), and hire_date (date) from the employee_info column\n",
    "\n",
    "from pyspark.sql.functions import get_json_object, col\n",
    "\n",
    "employees_info = employees_df \\\n",
    "    .withColumn(\"name\", get_json_object(employees_df.employee_info, \"$.name\")) \\\n",
    "    .withColumn(\"department_id\", get_json_object(employees_df.employee_info, \"$.department_id\")) \\\n",
    "    .withColumn(\"salary\", get_json_object(employees_df.employee_info, \"$.salary\")) \\\n",
    "    .withColumn(\"hire_date\", get_json_object(employees_df.employee_info, \"$.hire_date\"))\n",
    "\n",
    "# Para el cast\n",
    "employees_info = employees_info \\\n",
    "    .withColumn(\"department_id\", col(\"department_id\").cast(\"integer\")) \\\n",
    "    .withColumn(\"salary\", col(\"salary\").cast(\"double\")) \\\n",
    "    .withColumn(\"hire_date\", col(\"hire_date\").cast(\"date\"))\n",
    "\n",
    "# Show\n",
    "employees_info.printSchema()  \n",
    "employees_info.show(truncate=False)\n",
    "\n",
    "\n"
   ]
  },
  {
   "cell_type": "code",
   "execution_count": 22,
   "metadata": {},
   "outputs": [
    {
     "name": "stdout",
     "output_type": "stream",
     "text": [
      "+-----------+--------------------+---------+-------------+---------+----------+-------------+--------------------+-------------+\n",
      "|employee_id|       employee_info|     name|department_id|   salary| hire_date|department_id|     department_name|     location|\n",
      "+-----------+--------------------+---------+-------------+---------+----------+-------------+--------------------+-------------+\n",
      "|          1|{'name': 'Caitlyn...|  Caitlyn|          103|115959.78|2002-06-10|          103| Sales and Marketing|      Chicago|\n",
      "|          2|{'name': 'Rachel'...|   Rachel|          104|100820.16|2009-07-01|          104|    Data Engineering|      Zapopan|\n",
      "|          3|{'name': 'Carrie'...|   Carrie|          105|114421.44|1998-12-10|          105|        Data Science|      Seattle|\n",
      "|          4|{'name': 'Renee',...|    Renee|          104| 54688.13|1995-03-17|          104|    Data Engineering|      Zapopan|\n",
      "|          5|{'name': 'Gabriel...|Gabriella|          109|106267.03|1995-02-09|          109|    Customer Service|San Francisco|\n",
      "|          6|{'name': 'Kristen...|  Kristen|          101| 88237.54|2010-11-15|          101|     Human Resources|    San Diego|\n",
      "|          7|{'name': 'Jonatha...| Jonathan|          102| 39323.42|2012-06-30|          102|Finance and Accou...|     New York|\n",
      "|          8|{'name': 'Michell...| Michelle|          101| 64262.85|2005-10-30|          101|     Human Resources|    San Diego|\n",
      "|          9|{'name': 'Michell...| Michelle|          105|103521.88|1991-07-10|          105|        Data Science|      Seattle|\n",
      "|         10|{'name': 'Lisa', ...|     Lisa|          110| 55435.93|2016-03-25|          110|Corporate Strateg...|  Los Angeles|\n",
      "|         11|{'name': 'Cheryl'...|   Cheryl|          103| 88073.75|2020-08-21|          103| Sales and Marketing|      Chicago|\n",
      "|         12|{'name': 'Mikayla...|  Mikayla|          107| 95192.05|2022-05-13|          107|               Legal|      Chicago|\n",
      "|         13|{'name': 'Lisa', ...|     Lisa|          104| 36032.49|2019-05-16|          104|    Data Engineering|      Zapopan|\n",
      "|         14|{'name': 'Sean', ...|     Sean|          108| 64904.69|2021-06-06|          108|Research and Deve...| Philadelphia|\n",
      "|         15|{'name': 'Monica'...|   Monica|          105| 92589.97|2022-05-09|          105|        Data Science|      Seattle|\n",
      "|         16|{'name': 'Katelyn...|  Katelyn|          104|147225.58|2008-03-14|          104|    Data Engineering|      Zapopan|\n",
      "|         17|{'name': 'Linda',...|    Linda|          108|146632.64|2002-09-04|          108|Research and Deve...| Philadelphia|\n",
      "|         18|{'name': 'Tammy',...|    Tammy|          109| 128860.4|2014-04-18|          109|    Customer Service|San Francisco|\n",
      "|         19|{'name': 'William...|  William|          103|142645.41|1998-05-25|          103| Sales and Marketing|      Chicago|\n",
      "|         20|{'name': 'Jorge',...|    Jorge|          109| 87587.51|2018-03-25|          109|    Customer Service|San Francisco|\n",
      "+-----------+--------------------+---------+-------------+---------+----------+-------------+--------------------+-------------+\n",
      "only showing top 20 rows\n",
      "\n"
     ]
    }
   ],
   "source": [
    "# 3. Join Operations (10 points):\n",
    "# Join the employees DataFrame with the departments DataFrame on department_id to enrich the employee data with department details.\n",
    "\n",
    "enriched_df = employees_info.join(departments_df, employees_info.department_id == departments_df.department_id, \"inner\") \\\n",
    "\n",
    "enriched_df.show()"
   ]
  },
  {
   "cell_type": "code",
   "execution_count": 30,
   "metadata": {},
   "outputs": [
    {
     "name": "stdout",
     "output_type": "stream",
     "text": [
      "+-----------+--------------------+---------+-------------+---------+----------+-------------+--------------------+-------------+--------+\n",
      "|employee_id|       employee_info|     name|department_id|   salary| hire_date|department_id|     department_name|     location|category|\n",
      "+-----------+--------------------+---------+-------------+---------+----------+-------------+--------------------+-------------+--------+\n",
      "|          1|{'name': 'Caitlyn...|  Caitlyn|          103|115959.78|2002-06-10|          103| Sales and Marketing|      Chicago|    High|\n",
      "|          2|{'name': 'Rachel'...|   Rachel|          104|100820.16|2009-07-01|          104|    Data Engineering|      Zapopan|    High|\n",
      "|          3|{'name': 'Carrie'...|   Carrie|          105|114421.44|1998-12-10|          105|        Data Science|      Seattle|    High|\n",
      "|          4|{'name': 'Renee',...|    Renee|          104| 54688.13|1995-03-17|          104|    Data Engineering|      Zapopan|     Low|\n",
      "|          5|{'name': 'Gabriel...|Gabriella|          109|106267.03|1995-02-09|          109|    Customer Service|San Francisco|    High|\n",
      "|          6|{'name': 'Kristen...|  Kristen|          101| 88237.54|2010-11-15|          101|     Human Resources|    San Diego|    High|\n",
      "|          7|{'name': 'Jonatha...| Jonathan|          102| 39323.42|2012-06-30|          102|Finance and Accou...|     New York|     Low|\n",
      "|          8|{'name': 'Michell...| Michelle|          101| 64262.85|2005-10-30|          101|     Human Resources|    San Diego|    High|\n",
      "|          9|{'name': 'Michell...| Michelle|          105|103521.88|1991-07-10|          105|        Data Science|      Seattle|    High|\n",
      "|         10|{'name': 'Lisa', ...|     Lisa|          110| 55435.93|2016-03-25|          110|Corporate Strateg...|  Los Angeles|    High|\n",
      "|         11|{'name': 'Cheryl'...|   Cheryl|          103| 88073.75|2020-08-21|          103| Sales and Marketing|      Chicago|    High|\n",
      "|         12|{'name': 'Mikayla...|  Mikayla|          107| 95192.05|2022-05-13|          107|               Legal|      Chicago|    High|\n",
      "|         13|{'name': 'Lisa', ...|     Lisa|          104| 36032.49|2019-05-16|          104|    Data Engineering|      Zapopan|     Low|\n",
      "|         14|{'name': 'Sean', ...|     Sean|          108| 64904.69|2021-06-06|          108|Research and Deve...| Philadelphia|    High|\n",
      "|         15|{'name': 'Monica'...|   Monica|          105| 92589.97|2022-05-09|          105|        Data Science|      Seattle|    High|\n",
      "|         16|{'name': 'Katelyn...|  Katelyn|          104|147225.58|2008-03-14|          104|    Data Engineering|      Zapopan|    High|\n",
      "|         17|{'name': 'Linda',...|    Linda|          108|146632.64|2002-09-04|          108|Research and Deve...| Philadelphia|    High|\n",
      "|         18|{'name': 'Tammy',...|    Tammy|          109| 128860.4|2014-04-18|          109|    Customer Service|San Francisco|    High|\n",
      "|         19|{'name': 'William...|  William|          103|142645.41|1998-05-25|          103| Sales and Marketing|      Chicago|    High|\n",
      "|         20|{'name': 'Jorge',...|    Jorge|          109| 87587.51|2018-03-25|          109|    Customer Service|San Francisco|    High|\n",
      "+-----------+--------------------+---------+-------------+---------+----------+-------------+--------------------+-------------+--------+\n",
      "only showing top 20 rows\n",
      "\n"
     ]
    }
   ],
   "source": [
    "# 4. Transformations (Using when()) (10 points):\n",
    "# Add a new column salary_category to the enriched employee DataFrame:\n",
    "#      If salary is greater than or equal to 55000, set salary_category to \"High\".\n",
    "#           Otherwise, set salary_category to \"Low\".\n",
    "from pyspark.sql.functions import when\n",
    "\n",
    "enriched_df = enriched_df.withColumn('category', when(enriched_df['salary'] > 55000, \"High\").otherwise(\"Low\"))\n",
    "enriched_df.show()\n"
   ]
  },
  {
   "cell_type": "code",
   "execution_count": 44,
   "metadata": {},
   "outputs": [
    {
     "name": "stdout",
     "output_type": "stream",
     "text": [
      "+--------------------+------------------+\n",
      "|     department_name|       avg(salary)|\n",
      "+--------------------+------------------+\n",
      "|Corporate Strateg...|102741.38324414717|\n",
      "| Sales and Marketing|100839.65275449108|\n",
      "|    Data Engineering|101626.29492163012|\n",
      "|Research and Deve...|  98714.3003086419|\n",
      "|Finance and Accou...|100731.07877887784|\n",
      "|    Customer Service|101585.01600000002|\n",
      "|               Legal|  99366.3129102167|\n",
      "|        Data Science|101903.63710344829|\n",
      "|          Operations|100169.65621722837|\n",
      "|     Human Resources|104999.43191489363|\n",
      "+--------------------+------------------+\n",
      "\n",
      "+--------------------+------------------+\n",
      "|     department_name|       avg(salary)|\n",
      "+--------------------+------------------+\n",
      "|Corporate Strateg...|41590.741833333326|\n",
      "| Sales and Marketing| 41150.40277777778|\n",
      "|    Data Engineering| 41358.50794117647|\n",
      "|Finance and Accou...|42740.952888888874|\n",
      "|Research and Deve...| 41426.43521126761|\n",
      "|    Customer Service|42644.472021276604|\n",
      "|               Legal| 41160.26616438357|\n",
      "|        Data Science| 41974.18958333334|\n",
      "|          Operations|40646.100705882345|\n",
      "|     Human Resources| 41751.64784810126|\n",
      "+--------------------+------------------+\n",
      "\n"
     ]
    }
   ],
   "source": [
    "# 5. Filter and Group (20 points):\n",
    "\n",
    "# Create two new data frames: one that filters employees with a “High” salary and another that filters employees with a “Low” salary.\n",
    "high_df = enriched_df.filter(enriched_df['category'] == \"High\").select(\"employee_id\", \"name\", \"department_name\", \"salary\")\n",
    "low_df = enriched_df.filter(enriched_df['category'] == \"Low\").select(\"employee_id\", \"name\", \"department_name\", \"salary\")\n",
    "\n",
    "# Calculate the average salary per department for the two newly created data frames, \n",
    "#which contain the salaries of employees categorized as “High” and “Low.”  \n",
    "#Resulting data frame for this transformation should contain only department_name and avg_salary columns\n",
    "hight_department_df = high_df.groupBy(\"department_name\").avg(\"salary\")\n",
    "low_department_df = low_df.groupBy(\"department_name\").avg(\"salary\")\n",
    "\n",
    "# Show\n",
    "#high_df.show()\n",
    "#low_df.show()\n",
    "hight_department_df.show()\n",
    "low_department_df.show()"
   ]
  },
  {
   "cell_type": "code",
   "execution_count": 50,
   "metadata": {},
   "outputs": [
    {
     "name": "stdout",
     "output_type": "stream",
     "text": [
      "+-----------+---------+--------------------+---------+\n",
      "|employee_id|     name|     department_name|   salary|\n",
      "+-----------+---------+--------------------+---------+\n",
      "|       1778|Gabriella|     Human Resources|149989.73|\n",
      "|       3621|Katherine|     Human Resources| 149979.3|\n",
      "|        346|     Ryan|Corporate Strateg...| 149963.1|\n",
      "|       3807|  Caitlyn|               Legal|149956.54|\n",
      "|       3050|     Mark|               Legal|149915.56|\n",
      "+-----------+---------+--------------------+---------+\n",
      "\n",
      "+-----------+-----+--------------------+--------+\n",
      "|employee_id| name|     department_name|  salary|\n",
      "+-----------+-----+--------------------+--------+\n",
      "|       3472|Linda|Corporate Strateg...|54993.53|\n",
      "|       2545|Tammy|    Data Engineering|54991.71|\n",
      "|        382|Aaron|Finance and Accou...|54989.45|\n",
      "|       2153|Craig|     Human Resources| 54945.2|\n",
      "|       3024|Aaron|    Customer Service| 54937.3|\n",
      "+-----------+-----+--------------------+--------+\n",
      "\n"
     ]
    }
   ],
   "source": [
    "# 6. Sort (10 points): \n",
    "from pyspark.sql.functions import desc, asc\n",
    "\n",
    "# Find the Top 5 employees with highest salaries from employees categorized as “High”\n",
    "high_employees = high_df.sort(desc(\"salary\")).limit(5)\n",
    "\n",
    "# Find the Top 5 employees with highest salaries from employees categorized as “Low”\n",
    "low_employees = low_df.sort(desc(\"salary\")).limit(5)\n",
    "\n",
    "\n",
    "high_employees.show()\n",
    "low_employees.show()"
   ]
  },
  {
   "cell_type": "code",
   "execution_count": 56,
   "metadata": {},
   "outputs": [
    {
     "name": "stdout",
     "output_type": "stream",
     "text": [
      "+-----------+--------+-----+\n",
      "|employee_id|    name|years|\n",
      "+-----------+--------+-----+\n",
      "|        436|Jonathan|   37|\n",
      "|       1189|   Aaron|   37|\n",
      "|        446|   Jorge|   37|\n",
      "|        182|    Mark|   37|\n",
      "|        478| William|   37|\n",
      "|        120|   Megan|   37|\n",
      "|        517| Tristan|   37|\n",
      "|        200|    Luke|   37|\n",
      "|        520|   Tammy|   37|\n",
      "|        308|   James|   37|\n",
      "|        590| Raymond|   37|\n",
      "|        891|Jennifer|   37|\n",
      "|        917|    Luke|   37|\n",
      "|         59|     Ana|   37|\n",
      "|        927| Katelyn|   37|\n",
      "|        159|   Sarah|   37|\n",
      "|        976|   Jorge|   37|\n",
      "|        336|  Brandy|   37|\n",
      "|       1008|  Monica|   37|\n",
      "|        657| Tristan|   37|\n",
      "+-----------+--------+-----+\n",
      "only showing top 20 rows\n",
      "\n"
     ]
    }
   ],
   "source": [
    "# 7. Find the number of employees with more years in the company (15 points).\n",
    "from pyspark.sql.functions import lit, year\n",
    "\n",
    "# Compute a new column with the years in company for each employee\n",
    "#enriched_df.select(\"hire_date\").sort(desc(\"hire_date\")) Obtener anio. Latest = 2025-03-12\n",
    "#enriched_df.select(\"hire_date\").sort(asc(\"hire_date\")) Obtener anio. Oldest = 1998-03-15\n",
    "\n",
    "computed_df = enriched_df.withColumn(\"years\", lit(2025) - year(\"hire_date\")).select(\"employee_id\", \"name\", \"years\")\n",
    "\n",
    "# Find the list of employees with more years in company and count them.\n",
    "employees_years = computed_df.sort(desc(\"years\"))\n",
    "\n",
    "# employees_years\n",
    "employees_years.show()"
   ]
  },
  {
   "cell_type": "code",
   "execution_count": null,
   "metadata": {},
   "outputs": [],
   "source": [
    "# Stop the SparkContext\n",
    "sc.stop()"
   ]
  }
 ],
 "metadata": {
  "kernelspec": {
   "display_name": "Python 3 (ipykernel)",
   "language": "python",
   "name": "python3"
  },
  "language_info": {
   "codemirror_mode": {
    "name": "ipython",
    "version": 3
   },
   "file_extension": ".py",
   "mimetype": "text/x-python",
   "name": "python",
   "nbconvert_exporter": "python",
   "pygments_lexer": "ipython3",
   "version": "3.11.6"
  }
 },
 "nbformat": 4,
 "nbformat_minor": 4
}
