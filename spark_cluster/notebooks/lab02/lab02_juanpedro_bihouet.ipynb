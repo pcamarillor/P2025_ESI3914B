{
 "cells": [
  {
   "cell_type": "markdown",
   "metadata": {},
   "source": [
    "Funciones a utilizar"
   ]
  },
  {
   "cell_type": "code",
   "execution_count": 10,
   "metadata": {},
   "outputs": [],
   "source": [
    "def hello():\n",
    "    return \"Hello world\"\n",
    "\n",
    "def square(n):\n",
    "    return f\"Square of {n} is {n * n}\"\n",
    "\n",
    "def cube(n):\n",
    "    return f\"Cube of {n} is {n * n * n}\""
   ]
  },
  {
   "cell_type": "markdown",
   "metadata": {},
   "source": [
    "Diccionario"
   ]
  },
  {
   "cell_type": "code",
   "execution_count": 11,
   "metadata": {},
   "outputs": [],
   "source": [
    "commands = {\n",
    "    \"hello\": hello,\n",
    "    \"square\": square,\n",
    "    \"cube\": cube\n",
    "}"
   ]
  },
  {
   "cell_type": "markdown",
   "metadata": {},
   "source": [
    "Funcion"
   ]
  },
  {
   "cell_type": "code",
   "execution_count": 12,
   "metadata": {},
   "outputs": [],
   "source": [
    "def execute_command(cmd, arg=None):\n",
    "    if cmd in [\"square\", \"cube\"]:\n",
    "        num = int(arg)\n",
    "        return commands[cmd](num)\n",
    "    elif cmd in commands:\n",
    "        return commands[cmd]()\n",
    "    else:\n",
    "        return \"Invalid command. Try again.\""
   ]
  },
  {
   "cell_type": "markdown",
   "metadata": {},
   "source": [
    "Utilizamos la funcion"
   ]
  },
  {
   "cell_type": "code",
   "execution_count": 14,
   "metadata": {},
   "outputs": [
    {
     "name": "stdout",
     "output_type": "stream",
     "text": [
      "Hello world\n",
      "Square of 2 is 4\n",
      "Cube of 2 is 8\n"
     ]
    }
   ],
   "source": [
    "print(execute_command(\"hello\"))\n",
    "print(execute_command(\"square\", 2))\n",
    "print(execute_command(\"cube\", 2))"
   ]
  }
 ],
 "metadata": {
  "kernelspec": {
   "display_name": "Python 3",
   "language": "python",
   "name": "python3"
  },
  "language_info": {
   "codemirror_mode": {
    "name": "ipython",
    "version": 3
   },
   "file_extension": ".py",
   "mimetype": "text/x-python",
   "name": "python",
   "nbconvert_exporter": "python",
   "pygments_lexer": "ipython3",
   "version": "3.13.1"
  }
 },
 "nbformat": 4,
 "nbformat_minor": 2
}
