{
 "cells": [
  {
   "cell_type": "code",
   "execution_count": 7,
   "metadata": {},
   "outputs": [],
   "source": [
    "import findspark\n",
    "findspark.init()"
   ]
  },
  {
   "cell_type": "code",
   "execution_count": 8,
   "metadata": {},
   "outputs": [],
   "source": [
    "from pyspark.sql import SparkSession\n",
    "\n",
    "spark = SparkSession.builder \\\n",
    "    .appName(\"SparkSQL-PeopleExample\") \\\n",
    "    .master(\"spark://3efd074e93ff:7077\") \\\n",
    "    .config(\"spark.ui.port\",\"4040\") \\\n",
    "    .getOrCreate()\n",
    "sc = spark.sparkContext"
   ]
  },
  {
   "cell_type": "code",
   "execution_count": null,
   "metadata": {},
   "outputs": [
    {
     "name": "stdout",
     "output_type": "stream",
     "text": [
      "StructType([StructField('id', IntegerType(), True), StructField('name', StringType(), True), StructField('age', IntegerType(), True), StructField('mail', StringType(), True), StructField('phone', StringType(), True), StructField('created_at', TimestampType(), True), StructField('height', FloatType(), True), StructField('weight', FloatType(), True)])\n"
     ]
    }
   ],
   "source": [
    "import sys\n",
    "sys.path.append('../../lib')\n",
    "from JJAE.spark_utils import SparkUtils\n",
    "\n",
    "\n",
    "sample_data = [\n",
    "    (\"id\", \"IntegerType\" ),\n",
    "    (\"name\", \"StringType\" ),\n",
    "    (\"age\", \"IntegerType\" ),\n",
    "    (\"mail\", \"StringType\" ),\n",
    "    (\"phone\", \"StringType\" ),\n",
    "    (\"created_at\", \"TimestampType\"),\n",
    "    (\"height\", \"FloatType\"),\n",
    "    (\"weight\", \"FloatType\"),\n",
    "]\n",
    "\n",
    "schema = SparkUtils.generate_schema(sample_data)\n",
    "print(schema)\n",
    "\n"
   ]
  }
 ],
 "metadata": {
  "kernelspec": {
   "display_name": "Python 3 (ipykernel)",
   "language": "python",
   "name": "python3"
  },
  "language_info": {
   "codemirror_mode": {
    "name": "ipython",
    "version": 3
   },
   "file_extension": ".py",
   "mimetype": "text/x-python",
   "name": "python",
   "nbconvert_exporter": "python",
   "pygments_lexer": "ipython3",
   "version": "3.11.6"
  }
 },
 "nbformat": 4,
 "nbformat_minor": 2
}
